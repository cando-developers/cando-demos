{
 "cells": [
  {
   "cell_type": "markdown",
   "id": "2e53c538-1c13-4d12-8fd2-840dea7ae251",
   "metadata": {},
   "source": [
    "# Using and Navigating Jupyter-Notebooks"
   ]
  },
  {
   "cell_type": "markdown",
   "id": "1ca47068-7597-4f46-8ff1-4d6499567637",
   "metadata": {},
   "source": [
    "Ava Dremann 07-07-2022"
   ]
  },
  {
   "cell_type": "markdown",
   "id": "05ad7d15-1638-4209-a7fd-7b31cd292b84",
   "metadata": {},
   "source": [
    "<div class=\"alert alert-block alert-success\">\n",
    "    <strong>Creating or accessing notebooks</strong></div>"
   ]
  },
  {
   "cell_type": "markdown",
   "id": "e99040aa-0cf4-4fb8-ab27-7a22bc8a73df",
   "metadata": {},
   "source": [
    "#### When first launching Jupyter-Notebooks you can select which kernel you'd like to work in and create a new notebook. Or, you can browse existing notebooks (files ending in .ipynb) in your directory."
   ]
  },
  {
   "cell_type": "markdown",
   "id": "222e9c4d-aaca-4128-8f7a-e87bfb483be1",
   "metadata": {},
   "source": [
    "<div style=\"text-align: center\"><img src=\"data/imagesfor demos/launcher-window.png\" width=500 height=500 align=center /></div>"
   ]
  },
  {
   "cell_type": "markdown",
   "id": "41bec581-7996-4f4d-89b8-31af0673d100",
   "metadata": {
    "jp-MarkdownHeadingCollapsed": true,
    "tags": []
   },
   "source": [
    "#### It is important to note that no work can be done in a notebook until the kernel is fully loaded. This will be shown in the upper right hand corner in the window represented by an open circle. When loading it will appear shaded with a lightning bolt. "
   ]
  },
  {
   "cell_type": "markdown",
   "id": "e722686f-faf1-40b3-a993-74ef274461a4",
   "metadata": {},
   "source": [
    "<div style=\"text-align: center\"><img src=\"data/images for demos/kernel loading.png\" width=200 height=200 align=center /></div>"
   ]
  },
  {
   "cell_type": "markdown",
   "id": "89599598-f197-414c-89ae-af73360f6f2e",
   "metadata": {},
   "source": [
    "<div class=\"alert alert-block alert-success\">\n",
    "    <strong>Cells and how to use them</strong></div>"
   ]
  },
  {
   "cell_type": "markdown",
   "id": "14dbe3d8-3951-4a92-9e36-e69280364f5d",
   "metadata": {},
   "source": [
    "#### Each of these boxes are called 'cells' and can be run individually by pressing Shift+Enter or by navigating the 'Run' tab at the top of the screen"
   ]
  },
  {
   "cell_type": "markdown",
   "id": "f25dd3d9-d8bf-46b4-82fe-6802263e88dd",
   "metadata": {},
   "source": [
    "#### When running multiple cells it is important to allow each cell to run fully before moving on to the next. Some functions can take longer than others"
   ]
  },
  {
   "cell_type": "markdown",
   "id": "3038b855-c997-4cd1-8f14-15606a45f526",
   "metadata": {},
   "source": [
    "<div style=\"text-align: center\"><img src=\"data/images for demos/cell-loading.png\" width=400 height=400 align=center /></div>"
   ]
  },
  {
   "cell_type": "markdown",
   "id": "360a1077-03eb-4a30-87ff-c23412116e91",
   "metadata": {},
   "source": [
    "#### Cells can contain text such as this via the 'Markdown' format that can be selected here:"
   ]
  },
  {
   "cell_type": "markdown",
   "id": "fc2087a0-f66d-4ed9-a412-36a0df2c571c",
   "metadata": {},
   "source": [
    "<div style=\"text-align: center\"><img src=\"data/images for demos/Markdown selection.png\" width=400 height=400 align=center /></div>"
   ]
  },
  {
   "cell_type": "markdown",
   "id": "94fcea65-dd94-411b-8baf-e80b9b9edad2",
   "metadata": {},
   "source": [
    "#### Cells can also serve as terminals for lines of code. Something useful about Jupyter-Notebooks is that each cell serves as a direct line of communication with your machine. For example, if at any point you need help you can simply ask the machine directly as demonstrated below. "
   ]
  },
  {
   "cell_type": "code",
   "execution_count": null,
   "id": "8176a581-7d9a-4fb9-96e9-43fbb23d1329",
   "metadata": {
    "tags": []
   },
   "outputs": [],
   "source": [
    "help"
   ]
  },
  {
   "cell_type": "markdown",
   "id": "6c1b222a-f3af-4e54-92e5-ec8316067a02",
   "metadata": {},
   "source": [
    "<div class=\"alert alert-block alert-success\">\n",
    "    <strong>Some helpful keyboard shortcuts</strong></div>"
   ]
  },
  {
   "cell_type": "markdown",
   "id": "27baf636-7a0b-43f3-bfee-a4854cdfeedc",
   "metadata": {},
   "source": [
    "<div style=\"text-align: center\"><img src=\"data/images for demos/shortcuts.png\" width=400 height=400 align=center /></div>"
   ]
  },
  {
   "cell_type": "markdown",
   "id": "e8ffc8a6-e684-401f-ad7e-f85bab52ab80",
   "metadata": {},
   "source": [
    "<div class=\"alert alert-block alert-success\">\n",
    "    <strong>Kernels</strong></div>"
   ]
  },
  {
   "cell_type": "markdown",
   "id": "32bc75a0-f220-40a6-a37a-0cb6aae90a91",
   "metadata": {},
   "source": [
    "#### To see which kernel you're currently working in, look in the upper right hand corner of the window. If you click on it you can view and select from your available options."
   ]
  },
  {
   "cell_type": "markdown",
   "id": "517e362b-6c26-4306-b5b3-46900c2eef22",
   "metadata": {},
   "source": [
    "#### From the left side dashboard, if you select the symbol second from the top as shown below, you can view which files you have open and what kernels you have running. It is smart to not have too many kernels active at one time as that can slow down your system. "
   ]
  },
  {
   "cell_type": "markdown",
   "id": "fc1d4d65-c3db-4bd0-84fa-5fd13ef22629",
   "metadata": {},
   "source": [
    "<div style=\"text-align: center\"><img src=\"data/images for demos/kernels.png\" width=200 height=200 align=center /></div>"
   ]
  },
  {
   "cell_type": "markdown",
   "id": "7d2c7d4d-10ad-45ad-acc1-363eb315c8dc",
   "metadata": {},
   "source": [
    "#### You can also view how many kernels you have open from your command line. Using cando as an example, you can input *ps -aux | grep cando* to view how many active cando kernels are running."
   ]
  },
  {
   "cell_type": "markdown",
   "id": "088e7006-7407-4b5b-9899-7fcabdd8455a",
   "metadata": {},
   "source": [
    "#### If you find your system is running slowly, or is struggling to connect to the kernel it is a good idea to check and see if you have too many running and kill any you don't need."
   ]
  },
  {
   "cell_type": "markdown",
   "id": "9342930c-b727-4276-8ef6-b1221888777c",
   "metadata": {},
   "source": [
    "<div style=\"text-align: center\"><img src=\"data/images for demos/killing kernels.png\" width=400 height=400 align=center /></div>"
   ]
  },
  {
   "cell_type": "code",
   "execution_count": null,
   "id": "df0ceb40-da67-4be5-89fd-7c371990993e",
   "metadata": {},
   "outputs": [],
   "source": []
  }
 ],
 "metadata": {
  "kernelspec": {
   "display_name": "Cando",
   "language": "cando",
   "name": "cando"
  },
  "language_info": {
   "codemirror_mode": "text/x-common-lisp",
   "file_extension": ".lisp",
   "mimetype": "text/x-common-lisp",
   "name": "common-lisp",
   "pygments_lexer": "common-lisp",
   "version": "eclasp-boehmprecise-1.0.0-327-gdf71e1a14-gf032ebd0-cst"
  }
 },
 "nbformat": 4,
 "nbformat_minor": 5
}
