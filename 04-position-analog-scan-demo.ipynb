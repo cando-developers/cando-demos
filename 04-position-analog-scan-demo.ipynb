{
 "cells": [
  {
   "cell_type": "markdown",
   "metadata": {},
   "source": [
    "> &#x26a0; To use this notebook select `Run` &#x2192; `Run All Cells` from the main menu.\n",
    "# CANDO &mdash; Computer Aided Nanomaterial Design and Optimization\n",
    "\n",
    "Relevent links:\n",
    "- [CANDO](https://github.com/cando-developers/cando)\n",
    "- [Amber](https://ambermd.org/)\n",
    "- [ThirdLaw Technologies](https://www.thirdlaw.tech/)\n",
    "                                                   \n",
    "## Free energy from a positional analougue scan (FREPAS)\n",
    "\n",
    "This JupyterLab notebook has been designed to aid with the setup of relative free energy of binding calculations using TI from a positional analogue scan. Equilibration and dynamics simulations are carried out in Amber using optimized parameters for GPU calculations. Molecule similarities are computed using a graph theory approach based on LOMAP.\n",
    "\n",
    "References:\n",
    "\n",
    "1. [Liu, S., Wu, Y., Lin, T. *et al*. Lead optimization mapper: automating free energy calculations for lead optimization. J Comput Aided Mol Des **27**, 755–770 (2013).](https://doi.org/10.1007/s10822-013-9678-y)\n",
    "2. [Pennington, L., Aquila, B., Choi, Y., *et al*. Positional Analogue Scanning: An Effective Strategy for Multiparameter Optimization in Drug Design. J Med Chem 2020 63 (17), 8956-8976](https://doi.org/10.1021/acs.jmedchem.9b02092)\n",
    "\n",
    "----\n",
    "\n",
    "> ### Step 1\n",
    "> \n",
    "> Create a new TI instance so we can run TI calculations."
   ]
  },
  {
   "cell_type": "code",
   "execution_count": null,
   "metadata": {},
   "outputs": [],
   "source": [
    "(tirun-jupyter:new-tirun)"
   ]
  },
  {
   "cell_type": "markdown",
   "metadata": {},
   "source": [
    "> ### Step 2\n",
    "> \n",
    "> Load the the receptor molecule.\n",
    ">\n",
    "> 1. Load the receptor molecule from a PDB file.\n",
    "> 2. Inspect the receptor molecule in a ngl viewer."
   ]
  },
  {
   "cell_type": "code",
   "execution_count": null,
   "metadata": {},
   "outputs": [],
   "source": [
    "(tirun-jupyter:load-receptor)"
   ]
  },
  {
   "cell_type": "markdown",
   "metadata": {},
   "source": [
    "> ### Step 3\n",
    "> \n",
    "> Calculate a positional analogue scan of a set of template ligands.\n",
    ">\n",
    "> 1. Load template ligands from a SDF or a MOL2 file.\n",
    "> 2. Configure the PAS calculation.\n",
    "> 3. Run the PAS calculation.\n",
    "> 4. Inspect the structure of the resulting ligands."
   ]
  },
  {
   "cell_type": "code",
   "execution_count": null,
   "metadata": {},
   "outputs": [],
   "source": [
    "(tirun-jupyter:pasrun)"
   ]
  },
  {
   "cell_type": "markdown",
   "metadata": {},
   "source": [
    "> ### Step 4\n",
    ">\n",
    "> Calculate the optimized map of relative binding free energy calculations\n",
    ">\n",
    "> 1. Calculate the similarities of the selected ligands.\n",
    "> 2. Create a similarity graph of the results.\n",
    ">    - Nodes correspond to a single molecule from the set.\n",
    ">    - Edges correspond to a similarity between the two molecules and the RBFE calculation to be conducted."
   ]
  },
  {
   "cell_type": "code",
   "execution_count": null,
   "metadata": {},
   "outputs": [],
   "source": [
    "(tirun-jupyter:lomap)"
   ]
  },
  {
   "cell_type": "markdown",
   "metadata": {},
   "source": [
    "> ### Step 5\n",
    ">\n",
    "> Create the job descriptions.\n",
    ">\n",
    "> 1. Configure the simulation input parameters.\n",
    "> 2. Set the job title and the TI stage type.\n",
    "> 3. Write the job descriptions and create a tarball of the results."
   ]
  },
  {
   "cell_type": "code",
   "execution_count": null,
   "metadata": {},
   "outputs": [],
   "source": [
    "(tirun-jupyter:jobs)"
   ]
  }
 ],
 "metadata": {
  "kernelspec": {
   "display_name": "Cando",
   "language": "cando",
   "name": "cando"
  },
  "language_info": {
   "codemirror_mode": "text/x-common-lisp",
   "file_extension": ".lisp",
   "mimetype": "text/x-common-lisp",
   "name": "common-lisp",
   "pygments_lexer": "common-lisp",
   "version": "cclasp-boehm-0.4.2-3157-g414fbc177-cst"
  }
 },
 "nbformat": 4,
 "nbformat_minor": 4
}
