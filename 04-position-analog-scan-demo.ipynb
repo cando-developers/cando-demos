{
 "cells": [
  {
   "cell_type": "markdown",
   "metadata": {},
   "source": [
    "<div class=\"alert alert-block alert-info\">\n",
    "  <p color=\"red\" style=\"font-size:40px\">To use this notebook: Use Run->Run All Cells.</p>\n",
    "    </div>"
   ]
  },
  {
   "cell_type": "markdown",
   "metadata": {},
   "source": [
    "# CANDO \n",
    "## Computer Aided Nanomaterial Design and Optimization\n",
    "<ins>[CANDO](https://github.com/cando-developers/cando)</ins>  |  <ins>[Amber](https://ambermd.org/)</ins>  |  <ins>[ThirdLaw Technologies](https://www.thirdlaw.tech/)</ins>\n",
    "                                                   \n",
    "#### Free energy from a positional analougue scan (FREPAS) <br>\n",
    " - #### This JupyterLab notebook has been design to aid with the setup of relative free energy of binding calculations using TI from a positional analogue scan.\n",
    " - #### Positional analogue scanning https://pubmed.ncbi.nlm.nih.gov/32330036/\n",
    " \n",
    "<hr style=\"border:1px solid black\"> </hr>"
   ]
  },
  {
   "cell_type": "markdown",
   "metadata": {},
   "source": [
    "<div class=\"alert alert-block alert-info\">\n",
    "    <b>Step 1:</b> <font color='black'>Since we are going to run a TI calculation, we start a new run:</font></div>"
   ]
  },
  {
   "cell_type": "code",
   "execution_count": null,
   "metadata": {},
   "outputs": [],
   "source": [
    "(tirun-jupyter:new-tirun)"
   ]
  },
  {
   "cell_type": "markdown",
   "metadata": {},
   "source": [
    "***\n",
    "<div class=\"alert alert-block alert-info\">\n",
    "    <b>Step 2:</b> <font color='black'>Load a ligand as an SDF file to generate a series of PAS molecules.<p>\n",
    "    An example SMIRKS pattern to replace aromatic methine carbons with nitrogen is: [D3&ampCH1:1]-[#1:2]>>[N:1] </font></div>"
   ]
  },
  {
   "cell_type": "code",
   "execution_count": null,
   "metadata": {},
   "outputs": [],
   "source": [
    "(tirun-jupyter:pasrun)"
   ]
  },
  {
   "cell_type": "markdown",
   "metadata": {},
   "source": [
    "***\n",
    "<div class=\"alert alert-block alert-info\">\n",
    "<b>Step 3:</b> <font color='black'>Calculate the optimized map of relative binding free energy calculations:</font><br>\n",
    " - Each node corresponds to a single molecule from the set.<br>\n",
    " - Each edge corresponds to the similarity between the two molecules and the RBFE calculation to be conducted. \n",
    "</div>"
   ]
  },
  {
   "cell_type": "code",
   "execution_count": null,
   "metadata": {},
   "outputs": [],
   "source": [
    "(tirun-jupyter:lomap)"
   ]
  },
  {
   "cell_type": "markdown",
   "metadata": {},
   "source": [
    "***\n",
    "<div class=\"alert alert-block alert-info\">\n",
    "<b>Step 4:</b> <font color='black'>Load the PAS molecules receptor in PDB format:</font><br>\n",
    "</div>"
   ]
  },
  {
   "cell_type": "code",
   "execution_count": null,
   "metadata": {},
   "outputs": [],
   "source": [
    "(tirun-jupyter:load-receptor)"
   ]
  },
  {
   "cell_type": "markdown",
   "metadata": {},
   "source": [
    "***\n",
    "<div class=\"alert alert-block alert-info\">\n",
    "<b>Step 5:</b> <font color='black'>Configure the calculations</font></div>"
   ]
  },
  {
   "cell_type": "code",
   "execution_count": null,
   "metadata": {},
   "outputs": [],
   "source": [
    "(tirun-jupyter:configure-jobs)"
   ]
  },
  {
   "cell_type": "markdown",
   "metadata": {},
   "source": [
    "***\n",
    "<div class=\"alert alert-block alert-info\">\n",
    "<b>Step 6:</b> <font color='black'>Write out the directories and files needed for all calculations:</font></div>"
   ]
  },
  {
   "cell_type": "code",
   "execution_count": null,
   "metadata": {},
   "outputs": [],
   "source": [
    "(tirun-jupyter:write-jobs)"
   ]
  }
 ],
 "metadata": {
  "kernelspec": {
   "display_name": "cando",
   "language": "lisp",
   "name": "cando"
  },
  "language_info": {
   "codemirror_mode": "text/x-common-lisp",
   "file_extension": ".lisp",
   "mimetype": "text/x-common-lisp",
   "name": "common-lisp",
   "pygments_lexer": "common-lisp",
   "version": "cclasp-boehm-0.4.2-2955-gbdc09b2fe-cst"
  }
 },
 "nbformat": 4,
 "nbformat_minor": 4
}
