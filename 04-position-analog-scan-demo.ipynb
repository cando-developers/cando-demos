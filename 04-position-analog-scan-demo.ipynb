{
 "cells": [
  {
   "cell_type": "markdown",
   "metadata": {},
   "source": [
    "> &#x26a0; To use this notebook select `Run` &#x2192; `Run All Cells` from the main menu.\n",
    "# CANDO &mdash; Computer Aided Nanomaterial Design and Optimization\n",
    "\n",
    "Relavent links and components:\n",
    "- [CANDO](https://github.com/cando-developers/cando)\n",
    "- [Amber](https://ambermd.org/)\n",
    "- [ThirdLaw Technologies](https://www.thirdlaw.tech/)\n",
    "                                                   \n",
    "## Free energy from a positional analougue scan (FREPAS)\n",
    "\n",
    "This JupyterLab notebook has been designed to aid with the setup of relative free energy of binding calculations using TI from a positional analogue scan as described in [Positional Analogue Scanning: An Effective Strategy for Multiparameter Optimization in Drug Design](https://pubmed.ncbi.nlm.nih.gov/32330036/).\n",
    "\n",
    "> ### Step 1\n",
    "> \n",
    "> Create a new TI instance so we can run TI calculations."
   ]
  },
  {
   "cell_type": "code",
   "execution_count": 1,
   "metadata": {},
   "outputs": [
    {
     "data": {
      "text/plain": [
       "#<tirun-calculation>"
      ]
     },
     "execution_count": 1,
     "metadata": {},
     "output_type": "execute_result"
    },
    {
     "name": "stdout",
     "output_type": "stream",
     "text": [
      "Jobs will be saved to /home/tburton/jobs/\n",
      "setenv CANDO_JOBS_DIRECTORY if you want it to go elsewhere\n"
     ]
    }
   ],
   "source": [
    "(tirun-jupyter:new-tirun)"
   ]
  },
  {
   "cell_type": "markdown",
   "metadata": {},
   "source": [
    "> ### Step 2\n",
    "> \n",
    "> Calculate a positional analogue scan of a set of template ligands.\n",
    ">\n",
    "> 1. Load template ligands from a SDF or a MOL2 file.\n",
    "> 2. Configure the PAS calculation.\n",
    "> 3. Run the PAS calculation.\n",
    "> 4. Inspect the structure of the resulting ligands."
   ]
  },
  {
   "cell_type": "code",
   "execution_count": 2,
   "metadata": {},
   "outputs": [
    {
     "data": {
      "application/vnd.jupyter.widget-view+json": {
       "model_id": "89e13ddded4c48e9566531b17f9bd91c",
       "version_major": 2,
       "version_minor": 0
      },
      "text/plain": [
       "A Jupyter Widget"
      ]
     },
     "metadata": {},
     "output_type": "display_data"
    },
    {
     "data": {
      "application/vnd.jupyter.widget-view+json": {
       "model_id": "b4f94573f3b9451e76d7442a9b8e43e0",
       "version_major": 2,
       "version_minor": 0
      },
      "text/plain": [
       "A Jupyter Widget"
      ]
     },
     "metadata": {},
     "output_type": "display_data"
    }
   ],
   "source": [
    "(tirun-jupyter:pasrun)"
   ]
  },
  {
   "cell_type": "markdown",
   "metadata": {},
   "source": [
    "> ### Step 3\n",
    ">\n",
    "> Calculate the optimized map of relative binding free energy calculations\n",
    ">\n",
    "> 1. Calculate the similarities of the selected ligands.\n",
    "> 2. Create a similarity graph of the results.\n",
    ">    - Node correspond to a single molecule from the set.\n",
    ">    - Edge correspond to the similarity between the two molecules and the RBFE calculation to be conducted."
   ]
  },
  {
   "cell_type": "code",
   "execution_count": 3,
   "metadata": {},
   "outputs": [
    {
     "data": {
      "application/vnd.jupyter.widget-view+json": {
       "model_id": "7942a6ea9d8a480b525ef8beda61bcc4",
       "version_major": 2,
       "version_minor": 0
      },
      "text/plain": [
       "A Jupyter Widget"
      ]
     },
     "metadata": {},
     "output_type": "display_data"
    }
   ],
   "source": [
    "(tirun-jupyter:lomap)"
   ]
  },
  {
   "cell_type": "markdown",
   "metadata": {},
   "source": [
    "***\n",
    "<div class=\"alert alert-block alert-info\">\n",
    "<b>Step 4:</b> <font color='black'>Load the PAS molecules receptor in PDB format:</font><br>\n",
    "</div>"
   ]
  },
  {
   "cell_type": "code",
   "execution_count": 4,
   "metadata": {},
   "outputs": [
    {
     "data": {
      "application/vnd.jupyter.widget-view+json": {
       "model_id": "e8f4b08b5b974190590ad5b6d2e4f824",
       "version_major": 2,
       "version_minor": 0
      },
      "text/plain": [
       "A Jupyter Widget"
      ]
     },
     "metadata": {},
     "output_type": "display_data"
    }
   ],
   "source": [
    "(tirun-jupyter:load-receptor)"
   ]
  },
  {
   "cell_type": "markdown",
   "metadata": {},
   "source": [
    "***\n",
    "<div class=\"alert alert-block alert-info\">\n",
    "<b>Step 5:</b> <font color='black'>Configure the calculations</font></div>"
   ]
  },
  {
   "cell_type": "code",
   "execution_count": null,
   "metadata": {},
   "outputs": [
    {
     "ename": "SYMBOL-DOES-NOT-EXIST",
     "evalue": "Symbol named \"CONFIGURE-JOBS\" not found in the TIRUN-JUPYTER package.",
     "output_type": "error",
     "traceback": []
    },
    {
     "name": "stderr",
     "output_type": "stream",
     "text": [
      "Symbol named \"CONFIGURE-JOBS\" not found in the TIRUN-JUPYTER package.\n",
      "   [Condition of type ECLECTOR.READER:SYMBOL-DOES-NOT-EXIST]\n",
      "\n",
      "#<DISSECT:ENVIRONMENT>\n",
      "   [Environment of thread #<PROCESS \"SHELL Thread\" @0x7f40cab68311 (Running)>]\n",
      "\n",
      "\n",
      "Backtrace:\n",
      " 3: (#<FUNCTION DISSECT:STACK>)\n",
      " 4: (#<FUNCTION CLOS::PARSE-DEFAULT-INITARGS.LAMBDA>)\n",
      " 6: (#<STATIC-GFS::CONSTRUCTOR-CELL> NIL)\n",
      " 10: (#<FUNCTION (LAMBDA NIL)>)\n",
      " 11: (#<FUNCTION DISSECT::STACK-CAPPER> #<FUNCTION (LAMBDA NIL)>)\n",
      " 12: (#<FUNCTION DISSECT:CAPTURE-ENVIRONMENT>)\n",
      " 13: (#<FUNCTION (METHOD DISSECT:PRESENT-OBJECT ((EQL T) T))> T #<JUPYTER::IOPUB-STREAM>)\n",
      " 23: (#<FUNCTION (METHOD DISSECT:PRESENT-OBJECT (CONDITION T))> Symbol named \"CONFIGURE-JOBS\" not found in the TIRUN-JUPYTER package. #<JUPYTER::IOPUB-STREAM>)\n",
      " 32: (#<FUNCTION (LAMBDA NIL)>)\n",
      " 33: (#<FUNCTION DISSECT::STACK-CAPPER> #<FUNCTION (LAMBDA NIL)>)\n",
      " 34: (#<FUNCTION DISSECT:PRESENT> Symbol named \"CONFIGURE-JOBS\" not found in the TIRUN-JUPYTER package. #<JUPYTER::IOPUB-STREAM>)\n",
      " 35: (#<FUNCTION (LAMBDA (JUPYTER::ERR))> Symbol named \"CONFIGURE-JOBS\" not found in the TIRUN-JUPYTER package.)\n",
      " 97: (#<FUNCTION COMMON-LISP-JUPYTER::MY-READ> #<STRING-INPUT-STREAM > NIL EOF547055)\n",
      " 98: (#<FUNCTION (METHOD JUPYTER:EVALUATE-CODE (COMMON-LISP-JUPYTER:KERNEL T))> #<CANDO-JUPYTER:KERNEL> (tirun-jupyter:configure-jobs))\n",
      " 99: (#<FUNCTION (METHOD JUPYTER:EVALUATE-CODE (CANDO-JUPYTER:KERNEL T))> #<FUNCTION (METHOD EVALUATE-CODE (KERNEL T))> #<CANDO-JUPYTER:KERNEL> (tirun-jupyter:configure-jobs))\n",
      " 105: (#<FUNCTION JUPYTER::HANDLE-EXECUTE-REQUEST> #<CANDO-JUPYTER:KERNEL> #<JUPYTER::MESSAGE>)\n",
      " 106: (#<FUNCTION JUPYTER::HANDLE-SHELL-MESSAGE> #<CANDO-JUPYTER:KERNEL> #<JUPYTER::MESSAGE>)\n",
      " 111: (#<FUNCTION JUPYTER::RUN-SHELL> #<CANDO-JUPYTER:KERNEL>)\n",
      " 112: (#<FUNCTION (LAMBDA NIL)>)\n",
      " 115: (#<FUNCTION (LAMBDA NIL)>)"
     ]
    }
   ],
   "source": [
    "(tirun-jupyter:jobs)"
   ]
  }
 ],
 "metadata": {
  "kernelspec": {
   "display_name": "Cando",
   "language": "cando",
   "name": "cando"
  },
  "language_info": {
   "codemirror_mode": "text/x-common-lisp",
   "file_extension": ".lisp",
   "mimetype": "text/x-common-lisp",
   "name": "common-lisp",
   "pygments_lexer": "common-lisp",
   "version": "cclasp-boehm-0.4.2-3157-g414fbc177-cst"
  }
 },
 "nbformat": 4,
 "nbformat_minor": 4
}
