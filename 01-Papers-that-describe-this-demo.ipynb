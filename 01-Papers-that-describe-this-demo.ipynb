{
 "cells": [
  {
   "cell_type": "markdown",
   "metadata": {},
   "source": [
    "Christian Schafmeister (meister@temple.edu) http://www.schafmeistergroup.com"
   ]
  },
  {
   "cell_type": "markdown",
   "metadata": {},
   "source": [
    "# Talks about Cando, Molecular Lego and development of a \"Matter Compiler\""
   ]
  },
  {
   "cell_type": "markdown",
   "metadata": {},
   "source": [
    "### [A talk that I presented on Molecular Lego and Cando at Google in 2015](https://www.youtube.com/watch?v=8X69_42Mj-g)\n",
    "The first 15 minutes present the concept of Molecular Lego"
   ]
  },
  {
   "cell_type": "markdown",
   "metadata": {},
   "source": [
    "### [A second talk on using Cando to design functional molecules](https://www.youtube.com/watch?v=0rSMt1pAlbE)"
   ]
  },
  {
   "cell_type": "markdown",
   "metadata": {},
   "source": [
    "# Papers that describe this demo"
   ]
  },
  {
   "cell_type": "markdown",
   "metadata": {},
   "source": [
    "### Click on the links below to download published papers on Cando and Molecular Lego"
   ]
  },
  {
   "cell_type": "markdown",
   "metadata": {},
   "source": [
    "### The Cando and Clasp software"
   ]
  },
  {
   "cell_type": "markdown",
   "metadata": {},
   "source": [
    "[The Cando molecular design software environment](data/papers/2016 Cando paper - European Lisp Symposium.pdf)"
   ]
  },
  {
   "cell_type": "markdown",
   "metadata": {},
   "source": [
    "[The Clasp Common Lisp compiler that Cando is based on](data/papers/2015_Clasp_paper-European_Lisp_Symposium.pdf)"
   ]
  },
  {
   "cell_type": "markdown",
   "metadata": {},
   "source": [
    "### Molecular Lego (aka Spiroligomers - abiotic, programmable macromolecules that can mimic proteins)"
   ]
  },
  {
   "cell_type": "markdown",
   "metadata": {},
   "source": [
    "[A general introduction of spiroligomers. \n",
    "Schafmeister, C. E., Brown, Z. Z., and Gupta, S. “Shape-Programmable Macromolecules” Accounts Of Chemical Research 41, no. 10 (2008): 1387–1398. doi:10.1021/ar700283y](data/papers/Accounts Chem Res 2008 Schafmeister.pdf)\n"
   ]
  },
  {
   "cell_type": "markdown",
   "metadata": {},
   "source": [
    "[A recent demonstration of spiroligomer macrocycles that can display large programmable molecular surfaces. Zhao, Q. and Schafmeister, C. E. “Synthesis of Spiroligomer-Containing Macrocycles” Journal Of Organic Chemistry 80, no. 18 (2015): 8968–8978. doi:10.1021/acs.joc.5b01109](data/papers/J Org Chem 2015 Zhao.pdf)"
   ]
  },
  {
   "cell_type": "markdown",
   "metadata": {},
   "source": [
    "[A spiroligomer that binds metals. Vaddypally, S., Xu, C., Zhao, S., Fan, Y., Schafmeister, C. E., and Zdilla, M. J. “Architectural Spiroligomers Designed for Binuclear Metal Complex Templating” Inorganic Chemistry 52, no. 11 (2013): 130513122951001–6463. doi:10.1021/ic4003498](data/papers/Inorg Chem 2013 Vaddypally.pdf)"
   ]
  },
  {
   "cell_type": "markdown",
   "metadata": {},
   "source": [
    "[A spiroligomer that accelerates a transesterification reaction.  Kheirabadi, M., Çelebi-Ölçüm, N., Parker, M. F. L., Zhao, Q., Kiss, G., Houk, K. N., and Schafmeister, C. E. “Spiroligozymes for Transesterifications: Design and Relationship of Structure to Activity.” Journal Of The American Chemical Society 134, no. 44 (2012): 18345–18353. doi:10.1021/ja3069648](data/papers/J Am Chem Soc 2012 Kheirabadi.pdf)"
   ]
  },
  {
   "cell_type": "markdown",
   "metadata": {},
   "source": [
    "[A catalytic spiroligomer that accelerates the Claisen rearrangement. Parker, M. F. L., Osuna, S., Bollot, G., Vaddypally, S., Zdilla, M. J., Houk, K. N., and Schafmeister, C. E. “Acceleration of an Aromatic Claisen Rearrangement via a Designed Spiroligozyme Catalyst That Mimics the Ketosteroid Isomerase Catalytic Dyad.” Journal Of The American Chemical Society 136, no. 10 (2014): 3817–3827. doi:10.1021/ja409214c](data/papers/J Am Chem Soc 2014 Parker.pdf)"
   ]
  },
  {
   "cell_type": "markdown",
   "metadata": {},
   "source": [
    "[A spiroligomer that binds the protein MDM2 and stabilizes it in cell culture.  Brown, Z. Z., Akula, K., Arzumanyan, A., Alleva, J., Jackson, M., Bichenkov, E., Sheffield, J. B., Feitelson, M. A., and Schafmeister, C. E. “A Spiroligomer Α-Helix Mimic That Binds HDM2, Penetrates Human Cells and Stabilizes HDM2 in Cell Culture.” Plos One 7, no. 10 (2012): e45948. doi:10.1371/journal.pone.0045948](data/papers/Plos One 2012 Brown.pdf)"
   ]
  },
  {
   "cell_type": "markdown",
   "metadata": {},
   "source": [
    "[A Scientific American article I wrote in 2007 about Spiroligomers](data/papers/Scientific American 2007 Schafmeister.pdf)"
   ]
  },
  {
   "cell_type": "code",
   "execution_count": null,
   "metadata": {
    "collapsed": true
   },
   "outputs": [],
   "source": []
  }
 ],
 "metadata": {
  "kernelspec": {
   "display_name": "Cando",
   "language": "lisp",
   "name": "lisp"
  },
  "language_info": {
   "codemirror_mode": "text/x-common-lisp",
   "mimetype": "text/x-common-lisp",
   "name": "common-lisp",
   "pygments_lexer": "common-lisp",
   "version": "X3J13"
  }
 },
 "nbformat": 4,
 "nbformat_minor": 2
}
