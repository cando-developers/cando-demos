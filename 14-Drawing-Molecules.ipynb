{
 "cells": [
  {
   "cell_type": "markdown",
   "id": "91b572d1-1284-4a53-af6c-b72cf0c53024",
   "metadata": {},
   "source": [
    "## Demo for Drawing Molecules"
   ]
  },
  {
   "cell_type": "markdown",
   "id": "e9bf505b-9a79-4857-b9ee-6cb7bea35eca",
   "metadata": {
    "tags": []
   },
   "source": [
    "Ava Dremann 07-12-2022"
   ]
  },
  {
   "cell_type": "markdown",
   "id": "aff0992e-90b2-4fd4-b5e0-230bc34ff5f4",
   "metadata": {},
   "source": [
    "#### This demo requires the installation of the Kekule.js widget. This is done via the command line. Be sure to have AmberTools22 running and to be in the cando-demos folder. Enter *jupyter-labextension install kekule-clj* to install the widget."
   ]
  },
  {
   "cell_type": "markdown",
   "id": "27221fc7-4414-47e9-85ed-3071b38fd68d",
   "metadata": {},
   "source": [
    "##### Below is an outline on the usages of the widget. For more information on Kekule.js: https://github.com/yitzchak/kekule-clj"
   ]
  },
  {
   "cell_type": "markdown",
   "id": "f7bb3712-afae-4620-ba92-c75228e36cdf",
   "metadata": {},
   "source": [
    "<div style=\"text-align: center\"><img src=\"data/images-for-demos/Usage-of-kekule.png\" width=500 height=500 align=center /></div>"
   ]
  },
  {
   "cell_type": "markdown",
   "id": "47bc7335-4064-47b3-a4ce-9ada74477a22",
   "metadata": {},
   "source": [
    "<div class=\"alert alert-block alert-info\">\n",
    "    <b>Step 1:</b> <font color='black'>Once the Kekule.js widget is installed it can be loaded into the notebook using Quicklisp </font></div>"
   ]
  },
  {
   "cell_type": "code",
   "execution_count": null,
   "id": "26c78af3-7f56-4d77-aa34-00934b48e080",
   "metadata": {},
   "outputs": [],
   "source": [
    "(ql:quickload :kekule-clj)"
   ]
  }
 ],
 "metadata": {
  "kernelspec": {
   "display_name": "Cando",
   "language": "cando",
   "name": "cando"
  },
  "language_info": {
   "codemirror_mode": "text/x-common-lisp",
   "file_extension": ".lisp",
   "mimetype": "text/x-common-lisp",
   "name": "common-lisp",
   "pygments_lexer": "common-lisp",
   "version": "eclasp-boehmprecise-1.0.0-330-gc26a23a09-g4eb58b60-cst"
  }
 },
 "nbformat": 4,
 "nbformat_minor": 5
}
