{
 "cells": [
  {
   "cell_type": "markdown",
   "metadata": {},
   "source": [
    "# Cando hello-world notebook\n",
    "\n",
    "Cando combines a compiled programming language (Common Lisp) with fast chemistry code implemented in C++/C/Fortran.\n",
    "\n",
    "Click on an \"In\" box and hit Shift-Enter to evaluate each input cell."
   ]
  },
  {
   "cell_type": "code",
   "execution_count": null,
   "metadata": {},
   "outputs": [],
   "source": [
    "(print \"Hello world\")"
   ]
  },
  {
   "cell_type": "code",
   "execution_count": null,
   "metadata": {},
   "outputs": [],
   "source": [
    "(defun fibn (reps num)\n",
    "              (declare (optimize speed (safety 0) (debug 0))\n",
    "                   (fixnum reps num))\n",
    "              (let ((z 0))\n",
    "                (declare (fixnum z))\n",
    "                (dotimes (r reps)\n",
    "                  (declare (fixnum r))\n",
    "                    (let ((p1 1)\n",
    "                          (p2 1))\n",
    "                        (declare (fixnum p1 p2))\n",
    "                        (dotimes (i (- num 2))\n",
    "                        (declare (fixnum i))\n",
    "                        (setf z (+ p1 p2)\n",
    "                              p2 p1\n",
    "                              p1 z))))\n",
    "            z)))"
   ]
  },
  {
   "cell_type": "markdown",
   "metadata": {},
   "source": [
    "#### Evaluate the 78th Fibonacci number 1,000,000 times."
   ]
  },
  {
   "cell_type": "code",
   "execution_count": null,
   "metadata": {},
   "outputs": [],
   "source": [
    "(fibn 1000000 78)"
   ]
  },
  {
   "cell_type": "code",
   "execution_count": null,
   "metadata": {
    "collapsed": true
   },
   "outputs": [],
   "source": []
  }
 ],
 "metadata": {
  "kernelspec": {
   "display_name": "cando",
   "language": "lisp",
   "name": "cando"
  },
  "language_info": {
   "codemirror_mode": "text/x-common-lisp",
   "file_extension": ".lisp",
   "mimetype": "text/x-common-lisp",
   "name": "common-lisp",
   "pygments_lexer": "common-lisp",
   "version": "X3J13"
  }
 },
 "nbformat": 4,
 "nbformat_minor": 2
}
