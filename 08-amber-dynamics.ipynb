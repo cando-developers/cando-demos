{
 "cells": [
  {
   "cell_type": "code",
   "execution_count": null,
   "metadata": {},
   "outputs": [],
   "source": [
    "(ql:quickload :fep)"
   ]
  },
  {
   "cell_type": "code",
   "execution_count": null,
   "metadata": {},
   "outputs": [],
   "source": [
    "(leap:setup-amber-paths)\n",
    "(leap:source \"leaprc.water.tip3p\")\n",
    "(leap:load-off \"solvents.lib\")\n",
    "(leap:load-off \"atomic_ions.lib\")\n",
    "(leap:load-atom-type-rules \"atomtype_gff.def\")\n",
    "(leap:source \"leaprc.ff14sb.redq\")\n",
    "(leap:source \"leaprc.gaff\")"
   ]
  },
  {
   "cell_type": "code",
   "execution_count": null,
   "metadata": {},
   "outputs": [],
   "source": [
    "*default-pathname-defaults*"
   ]
  },
  {
   "cell_type": "code",
   "execution_count": null,
   "metadata": {},
   "outputs": [],
   "source": [
    "(setf *default-pathname-defaults* (merge-pathnames \"data/amber-dynamics/\" *default-pathname-defaults*))"
   ]
  },
  {
   "cell_type": "code",
   "execution_count": null,
   "metadata": {},
   "outputs": [],
   "source": [
    "(common-lisp:defparameter fep::*feps* (fep:load-feps \"postcharge/feps.cando\"))"
   ]
  },
  {
   "cell_type": "code",
   "execution_count": null,
   "metadata": {},
   "outputs": [],
   "source": [
    "(common-lisp:defparameter fep::*receptor*\n",
    "  (common-lisp:first (fep:receptors fep::*feps*)))"
   ]
  },
  {
   "cell_type": "code",
   "execution_count": null,
   "metadata": {},
   "outputs": [],
   "source": [
    "(common-lisp:defparameter fep::*side-name* :complex)"
   ]
  },
  {
   "cell_type": "code",
   "execution_count": null,
   "metadata": {},
   "outputs": [],
   "source": [
    "(common-lisp:defparameter fep::*morph*\n",
    "  (fep::find-morph-with-name \"AA-AB\" fep::*feps*))"
   ]
  },
  {
   "cell_type": "code",
   "execution_count": null,
   "metadata": {},
   "outputs": [],
   "source": [
    "(common-lisp:defparameter fep::*target* (fep:target fep::*morph*))"
   ]
  },
  {
   "cell_type": "code",
   "execution_count": null,
   "metadata": {},
   "outputs": [],
   "source": [
    "(common-lisp:defparameter fep::*system*\n",
    "  (cando:combine (chem:matter-copy (fep::molecule fep::*target*))\n",
    "                 (chem:matter-copy fep::*receptor*)))"
   ]
  },
  {
   "cell_type": "code",
   "execution_count": null,
   "metadata": {},
   "outputs": [],
   "source": [
    "(leap:solvate-box fep::*system*\n",
    "                  (leap.core:lookup-variable (fep::solvent-box fep::*feps*))\n",
    "                  (fep::solvent-buffer fep::*feps*)\n",
    "                  (fep::solvent-closeness fep::*feps*))\n",
    "(leap.add-ions:add-ions fep::*system* :|Cl-| 0)\n",
    "(cando:save-mol2 fep::*system* (common-lisp:ensure-directories-exist \"complex.mol2\"))"
   ]
  },
  {
   "cell_type": "code",
   "execution_count": null,
   "metadata": {},
   "outputs": [],
   "source": [
    "(leap.topology:save-amber-parm-format fep::*system* \"complex.parm7\" \"complex.rst7\")"
   ]
  },
  {
   "cell_type": "code",
   "execution_count": null,
   "metadata": {},
   "outputs": [],
   "source": [
    "(ql:quickload :amber)"
   ]
  },
  {
   "cell_type": "code",
   "execution_count": null,
   "metadata": {},
   "outputs": [],
   "source": [
    "*default-pathname-defaults*"
   ]
  },
  {
   "cell_type": "code",
   "execution_count": null,
   "metadata": {},
   "outputs": [],
   "source": [
    "(core:copy-file \"complex.parm7\" (ensure-directories-exist \"jobs/complex.parm7\"))\n",
    "(core:copy-file \"complex.rst7\" \"jobs/complex.rst7\")"
   ]
  },
  {
   "cell_type": "code",
   "execution_count": null,
   "metadata": {},
   "outputs": [],
   "source": [
    "(let* ((top #P\"complex.parm7\")\n",
    "           (crd #P\"complex.rst7\")\n",
    "           (start (amber:simple-jupyter-job :topology-file top :coordinate-file crd))\n",
    "           (min (amber:minimize :previous-job start))\n",
    "           (heat (amber:heat :previous-job min))\n",
    "           (press (amber:pressurize :previous-job heat))\n",
    "           (dynamics (amber:dynamics :previous-job press :nstlim 100000 :ntwx 1000)))\n",
    "      (amber:generate-all-code start\n",
    "                               (list (amber:mdcrd dynamics))\n",
    "                               :pathname-defaults #P\"jobs/\")\n",
    "   (defparameter *start* start))"
   ]
  },
  {
   "cell_type": "code",
   "execution_count": null,
   "metadata": {},
   "outputs": [],
   "source": [
    "(with-open-file (sout \"/tmp/simple.dot\" :direction :output)\n",
    "    (graphviz-amber:draw-graph-stream *start* sout))"
   ]
  },
  {
   "cell_type": "markdown",
   "metadata": {},
   "source": [
    "# Now go into the jobs directory and run the makefile"
   ]
  },
  {
   "cell_type": "code",
   "execution_count": null,
   "metadata": {},
   "outputs": [],
   "source": [
    "(:= *m* (load-mol2 \"complex.mol2\"))"
   ]
  },
  {
   "cell_type": "code",
   "execution_count": null,
   "metadata": {},
   "outputs": [],
   "source": [
    "(ql:quickload \"netcdf\")"
   ]
  },
  {
   "cell_type": "code",
   "execution_count": null,
   "metadata": {},
   "outputs": [],
   "source": [
    "(ql:quickload :static-vectors)"
   ]
  },
  {
   "cell_type": "code",
   "execution_count": null,
   "metadata": {},
   "outputs": [],
   "source": [
    "(ql:quickload :cando-jupyter)"
   ]
  },
  {
   "cell_type": "code",
   "execution_count": null,
   "metadata": {},
   "outputs": [],
   "source": [
    "(:= *n* (netcdf::nc-open (probe-file \"jobs/dynamics.nc\") :mode netcdf-cffi:+nowrite+))"
   ]
  },
  {
   "cell_type": "code",
   "execution_count": null,
   "metadata": {},
   "outputs": [],
   "source": [
    "(:= *agg* (load-mol2 \"complex.mol2\"))"
   ]
  },
  {
   "cell_type": "code",
   "execution_count": null,
   "metadata": {},
   "outputs": [],
   "source": [
    "(:= *nc* (cando-jupyter:make-amber-netcdf-trajectory :netcdf *n* :matter *agg*))"
   ]
  },
  {
   "cell_type": "code",
   "execution_count": null,
   "metadata": {},
   "outputs": [],
   "source": [
    "(:= *v* (show-amber-netcdf-trajectory *nc*))"
   ]
  },
  {
   "cell_type": "code",
   "execution_count": null,
   "metadata": {},
   "outputs": [],
   "source": [
    "*v*"
   ]
  },
  {
   "cell_type": "code",
   "execution_count": null,
   "metadata": {},
   "outputs": [],
   "source": [
    "(nglv::center *v*)"
   ]
  },
  {
   "cell_type": "code",
   "execution_count": null,
   "metadata": {},
   "outputs": [],
   "source": [
    "(nglv::clear-representations *v*)"
   ]
  },
  {
   "cell_type": "code",
   "execution_count": null,
   "metadata": {},
   "outputs": [],
   "source": [
    "(nglv::add-representation *v* \"ball+stick\" :selection \"protein\")"
   ]
  },
  {
   "cell_type": "code",
   "execution_count": null,
   "metadata": {},
   "outputs": [],
   "source": [
    "(nglv::add-representation *v* \"ribbon\" :selection \"protein\")"
   ]
  }
 ],
 "metadata": {
  "kernelspec": {
   "display_name": "cando",
   "language": "lisp",
   "name": "cando"
  },
  "language_info": {
   "codemirror_mode": "text/x-common-lisp",
   "file_extension": ".lisp",
   "mimetype": "text/x-common-lisp",
   "name": "common-lisp",
   "pygments_lexer": "common-lisp",
   "version": "X3J13"
  }
 },
 "nbformat": 4,
 "nbformat_minor": 2
}
