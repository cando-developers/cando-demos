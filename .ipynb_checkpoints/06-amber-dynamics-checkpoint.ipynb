{
 "cells": [
  {
   "cell_type": "markdown",
   "metadata": {},
   "source": [
    "## Thermodynamic Integration Walkthrough and Viewing a Trajectory\n",
    "### This demo walks the user through the details of TI calculation setup. At the end we load and visualize an MD trajectory.\n",
    "### A fully automated TI setup is provided in demo 07-thermodynamic-integration-demo.ipynb"
   ]
  },
  {
   "cell_type": "markdown",
   "metadata": {},
   "source": [
    "<div class=\"alert alert-block alert-success\">\n",
    "    <strong>Setup AmberMD paths as given by AMBERHOME. Load required libraries and force-field.</strong>\n",
    "</div>"
   ]
  },
  {
   "cell_type": "code",
   "execution_count": null,
   "metadata": {},
   "outputs": [],
   "source": [
    "(setup-amber-paths)\n",
    "(leap:source \"leaprc.water.tip3p\")\n",
    "(leap:load-off \"solvents.lib\")\n",
    "(leap:load-off \"atomic_ions.lib\")\n",
    "(leap:load-atom-type-rules \"ATOMTYPE_GFF.DEF\")\n",
    "(leap:source \"leaprc.ff14SB.redq\")\n",
    "(leap:source \"leaprc.gaff\")"
   ]
  },
  {
   "cell_type": "markdown",
   "metadata": {},
   "source": [
    "<div class=\"alert alert-block alert-success\">\n",
    "    <strong>Set the current directory as the default.</strong>\n",
    "    </div>"
   ]
  },
  {
   "cell_type": "code",
   "execution_count": null,
   "metadata": {},
   "outputs": [],
   "source": [
    "*default-pathname-defaults*"
   ]
  },
  {
   "cell_type": "markdown",
   "metadata": {},
   "source": [
    "<div class=\"alert alert-block alert-success\">\n",
    "    <strong>You can merge directory names to change your working directory as:</strong>\n",
    "    </div>"
   ]
  },
  {
   "cell_type": "code",
   "execution_count": null,
   "metadata": {},
   "outputs": [],
   "source": [
    "(setf *default-pathname-defaults* (merge-pathnames \"data/amber-dynamics/\" *default-pathname-defaults*))"
   ]
  },
  {
   "cell_type": "markdown",
   "metadata": {},
   "source": [
    "<div class=\"alert alert-block alert-success\">\n",
    "<strong>We already have a prepared receptor/ligand system saved in the above directory, which can be loaded as:</strong>\n",
    "    </div>"
   ]
  },
  {
   "cell_type": "code",
   "execution_count": null,
   "metadata": {},
   "outputs": [],
   "source": [
    "(defparameter tirun::*tiruns* (tirun:load-tiruns \"postcharge/postcharge.cando\"))"
   ]
  },
  {
   "cell_type": "markdown",
   "metadata": {},
   "source": [
    "<div class=\"alert alert-block alert-success\">\n",
    "<strong>The \"tirun\" module is capable of loading multiple receoptors. We can set the first receptor as:</strong>\n",
    "    </div>"
   ]
  },
  {
   "cell_type": "code",
   "execution_count": null,
   "metadata": {},
   "outputs": [],
   "source": [
    "(defparameter tirun::*receptor* (first (tirun:receptors tirun::*tiruns*)))"
   ]
  },
  {
   "cell_type": "markdown",
   "metadata": {},
   "source": [
    "<div class=\"alert alert-block alert-success\">\n",
    "    <strong>Tirun needs a global variable called *side-name*. This refers to the \"side\" (e.g.: complex or ligand) of the thermodynamic cycle we are currently looking at. In this case we are loading the \"complex\" side as:</strong>\n",
    "    </div>"
   ]
  },
  {
   "cell_type": "code",
   "execution_count": null,
   "metadata": {},
   "outputs": [],
   "source": [
    "(defparameter tirun::*side-name* :complex)"
   ]
  },
  {
   "cell_type": "markdown",
   "metadata": {},
   "source": [
    "<div class=\"alert alert-block alert-success\">\n",
    "<strong>A \"morph\" in tirun is the alchemical trasformation being calculated. It can also be thought of as one edge of a TI calculation map. Here we assign a single morph between two ligands as:</strong>\n",
    "    </div>"
   ]
  },
  {
   "cell_type": "code",
   "execution_count": null,
   "metadata": {},
   "outputs": [],
   "source": [
    "(defparameter tirun::*morph* (tirun::find-morph-with-name \"CHEMBL1089056-CHEMBL1088740\" tirun::*tiruns*))"
   ]
  },
  {
   "cell_type": "markdown",
   "metadata": {},
   "source": [
    "<div class=\"alert alert-block alert-success\">\n",
    "<strong>The next two commands setup a \"source\" and \"target\" molecule. This is nesessary for assigning the softcore and linear transformation regions of the AmberMD input files.</strong>\n",
    "    </div>"
   ]
  },
  {
   "cell_type": "code",
   "execution_count": null,
   "metadata": {},
   "outputs": [],
   "source": [
    "(defparameter tirun::*source* (tirun:source tirun::*morph*))"
   ]
  },
  {
   "cell_type": "code",
   "execution_count": null,
   "metadata": {},
   "outputs": [],
   "source": [
    "(defparameter tirun::*target* (tirun:target tirun::*morph*))"
   ]
  },
  {
   "cell_type": "markdown",
   "metadata": {},
   "source": [
    "<div class=\"alert alert-block alert-success\">\n",
    "<strong>Now we cam create our endpoint or final system by combining the receptor and the target ligand into the global variable *system*</strong>\n",
    "    </div>"
   ]
  },
  {
   "cell_type": "code",
   "execution_count": null,
   "metadata": {},
   "outputs": [],
   "source": [
    "(defparameter tirun::*system* (cando:combine (chem:matter-copy (tirun::molecule tirun::*target*))\n",
    "    (chem:matter-copy tirun::*receptor*)))"
   ]
  },
  {
   "cell_type": "markdown",
   "metadata": {},
   "source": [
    "<div class=\"alert alert-block alert-success\">\n",
    "<strong>The next two commands should look farmiliar! These are simply AmberTools Leap commands. Here we setup a solvent box, add ions, and write a mol2, parm, and rst files for our simulations:</strong>\n",
    "    </div>"
   ]
  },
  {
   "cell_type": "code",
   "execution_count": null,
   "metadata": {},
   "outputs": [],
   "source": [
    "(leap:solvate-box tirun::*system*\n",
    "                  (leap.core:lookup-variable \n",
    "                   (tirun::solvent-box tirun::*tiruns*))\n",
    "                  (tirun::solvent-buffer tirun::*tiruns*)\n",
    "                  :closeness\n",
    "                  (tirun::solvent-closeness tirun::*tiruns*))\n",
    "(leap.add-ions:add-ions tirun::*system* :|Cl-| 0)\n",
    "(cando:save-mol2 tirun::*system* \"complex.mol2\")"
   ]
  },
  {
   "cell_type": "code",
   "execution_count": null,
   "metadata": {},
   "outputs": [],
   "source": [
    "(leap.topology:save-amber-parm-format tirun::*system* \"complex.parm7\" \"complex.rst7\")"
   ]
  },
  {
   "cell_type": "markdown",
   "metadata": {},
   "source": [
    "<div class=\"alert alert-block alert-success\">\n",
    "    <strong>Copy the files we just created into our jobs directory in the data folder:</strong>\n",
    "    </div>"
   ]
  },
  {
   "cell_type": "code",
   "execution_count": null,
   "metadata": {},
   "outputs": [],
   "source": [
    "(core:copy-file \"complex.parm7\" (ensure-directories-exist \"jobs/complex.parm7\"))\n",
    "(core:copy-file \"complex.rst7\" \"jobs/complex.rst7\")\n",
    "(core:copy-file \"complex.mol2\" \"jobs/complex.mol2\")"
   ]
  },
  {
   "cell_type": "code",
   "execution_count": null,
   "metadata": {},
   "outputs": [],
   "source": [
    "(ql:quickload :amber)"
   ]
  },
  {
   "cell_type": "code",
   "execution_count": null,
   "metadata": {},
   "outputs": [],
   "source": [
    "(let* ((top #P\"complex.parm7\")\n",
    "           (crd #P\"complex.rst7\")\n",
    "           (start (amber:simple-jupyter-job :topology-file top :coordinate-file crd))\n",
    "           (min (amber:minimize :previous-job start))\n",
    "           (heat (amber:heat :previous-job min))\n",
    "           (press (amber:pressurize :previous-job heat))\n",
    "           (dynamics (amber:dynamics :previous-job press :nstlim 100000 :ntwx 1000)))\n",
    "      (amber:generate-all-code start\n",
    "                               (list (amber:mdcrd dynamics))\n",
    "                               :pathname-defaults #P\"jobs/\")\n",
    "   (defparameter *start* start))"
   ]
  },
  {
   "cell_type": "markdown",
   "metadata": {},
   "source": [
    "<div class=\"alert alert-block alert-success\">\n",
    "    <strong>Now move the jobs directory into the path so we can load some files:</strong>\n",
    "    </div>"
   ]
  },
  {
   "cell_type": "code",
   "execution_count": null,
   "metadata": {},
   "outputs": [],
   "source": [
    "(setf *default-pathname-defaults* (merge-pathnames \"jobs/\" *default-pathname-defaults*))"
   ]
  },
  {
   "cell_type": "markdown",
   "metadata": {},
   "source": [
    "<div class=\"alert alert-block alert-success\">\n",
    "    <strong>Load the mol2 file:</strong>\n",
    "    </div>"
   ]
  },
  {
   "cell_type": "code",
   "execution_count": null,
   "metadata": {},
   "outputs": [],
   "source": [
    "(defparameter *agg* (load-mol2 \"complex.mol2\"))"
   ]
  },
  {
   "cell_type": "markdown",
   "metadata": {},
   "source": [
    "<div class=\"alert alert-block alert-success\">\n",
    "<strong> Here we use a utility called \"quickclasp\", a library manager that we maintain and is simple to use. We need to use the netcdf and some dependency libraries to read a trajectory in:</strong>\n",
    "    </div>"
   ]
  },
  {
   "cell_type": "code",
   "execution_count": null,
   "metadata": {},
   "outputs": [],
   "source": [
    "(ql:quickload \"netcdf\")"
   ]
  },
  {
   "cell_type": "code",
   "execution_count": null,
   "metadata": {},
   "outputs": [],
   "source": [
    "(ql:quickload :static-vectors)"
   ]
  },
  {
   "cell_type": "code",
   "execution_count": null,
   "metadata": {},
   "outputs": [],
   "source": [
    "(ql:quickload :cando-jupyter)"
   ]
  },
  {
   "cell_type": "markdown",
   "metadata": {},
   "source": [
    "<div class=\"alert alert-block alert-success\">\n",
    "    <strong>Make sure we can read-in the netdf file:</strong>\n",
    "    </div>"
   ]
  },
  {
   "cell_type": "code",
   "execution_count": null,
   "metadata": {},
   "outputs": [],
   "source": [
    "(probe-file \"press.nc\")"
   ]
  },
  {
   "cell_type": "markdown",
   "metadata": {},
   "source": [
    "<div class=\"alert alert-block alert-success\">\n",
    "    <strong>Now load the file, load it into CANDO and prepare for visualization:</strong>\n",
    "    </div>"
   ]
  },
  {
   "cell_type": "code",
   "execution_count": null,
   "metadata": {},
   "outputs": [],
   "source": [
    "(defparameter *n* (netcdf::nc-open (probe-file \"press.nc\") :mode netcdf-cffi:+nowrite+))"
   ]
  },
  {
   "cell_type": "code",
   "execution_count": null,
   "metadata": {},
   "outputs": [],
   "source": [
    "(defparameter *nc* (cando-jupyter:make-amber-netcdf-trajectory :netcdf *n* :matter *agg*))"
   ]
  },
  {
   "cell_type": "code",
   "execution_count": null,
   "metadata": {},
   "outputs": [],
   "source": [
    "(defparameter *v* (cando-jupyter:show *nc*))"
   ]
  },
  {
   "cell_type": "markdown",
   "metadata": {},
   "source": [
    "<div class=\"alert alert-block alert-success\">\n",
    "    <strong>Now view the simulation:</strong>\n",
    "    </div>"
   ]
  },
  {
   "cell_type": "code",
   "execution_count": null,
   "metadata": {},
   "outputs": [],
   "source": [
    "*v*"
   ]
  },
  {
   "cell_type": "markdown",
   "metadata": {},
   "source": [
    "<div class=\"alert alert-block alert-success\">\n",
    "    <strong>Now we can use NGLview (as nglv:) to view only the protein:</strong>\n",
    "    </div>"
   ]
  },
  {
   "cell_type": "code",
   "execution_count": null,
   "metadata": {},
   "outputs": [],
   "source": [
    "(nglv:clear-representations *v*)"
   ]
  },
  {
   "cell_type": "code",
   "execution_count": null,
   "metadata": {},
   "outputs": [],
   "source": [
    "(nglv:add-representation *v* \"ball+stick\" :selection \"protein\")"
   ]
  },
  {
   "cell_type": "code",
   "execution_count": null,
   "metadata": {},
   "outputs": [],
   "source": [
    "(nglv:add-representation *v* \"ribbon\" :selection \"protein\")"
   ]
  },
  {
   "cell_type": "code",
   "execution_count": null,
   "metadata": {},
   "outputs": [],
   "source": []
  }
 ],
 "metadata": {
  "kernelspec": {
   "display_name": "Cando",
   "language": "cando",
   "name": "cando"
  },
  "language_info": {
   "codemirror_mode": "text/x-common-lisp",
   "file_extension": ".lisp",
   "mimetype": "text/x-common-lisp",
   "name": "common-lisp",
   "pygments_lexer": "common-lisp",
   "version": "cclasp-boehm-0.4.2-2955-gbdc09b2fe-cst"
  }
 },
 "nbformat": 4,
 "nbformat_minor": 4
}
