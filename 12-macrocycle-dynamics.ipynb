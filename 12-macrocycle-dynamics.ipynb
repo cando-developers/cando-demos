{
 "cells": [
  {
   "cell_type": "markdown",
   "id": "d7e3903e-8c48-4f70-afbf-bcfdae4ff857",
   "metadata": {},
   "source": [
    "# Molecular Dynamics of a Macrocycle in Chloroform Demo"
   ]
  },
  {
   "cell_type": "markdown",
   "id": "79588fb6-7c03-4108-b1d3-89fc7f02a92d",
   "metadata": {},
   "source": [
    "### This demo will show you how to use CANDO in order to solvate a macrocycle in a chloroform box and run various simulations with it"
   ]
  },
  {
   "cell_type": "markdown",
   "id": "be34f4e9-1dde-4f74-8358-af2df1888179",
   "metadata": {},
   "source": [
    "<div class=\"alert alert-block alert-info\">\n",
    "    <strong>Step 1:</b> <strong color='black'>Set up to use the Generalized Amber Force Field (GAFF)</strong></div>"
   ]
  },
  {
   "cell_type": "code",
   "execution_count": null,
   "id": "f5570468-b101-49e2-9d4b-03099c2df56f",
   "metadata": {
    "tags": []
   },
   "outputs": [],
   "source": [
    "(load-atom-type-rules \"ATOMTYPE_GFF.DEF\")"
   ]
  },
  {
   "cell_type": "code",
   "execution_count": null,
   "id": "af87a26f-05c5-4396-98ea-36eb40947053",
   "metadata": {},
   "outputs": [],
   "source": [
    "loadAmberParams \"gaff.dat\""
   ]
  },
  {
   "cell_type": "markdown",
   "id": "092a0e22-7318-4a4c-bc81-1b309ffa4732",
   "metadata": {},
   "source": [
    "<div class=\"alert alert-block alert-info\">\n",
    "    <strong>Step 2:</b> <strong color='black'>Load in solvent boxes</strong></div>"
   ]
  },
  {
   "cell_type": "code",
   "execution_count": null,
   "id": "b445f930-fbbe-49de-a237-9af6d81a46fe",
   "metadata": {},
   "outputs": [],
   "source": [
    "source \"leaprc.water.tip3p\""
   ]
  },
  {
   "cell_type": "markdown",
   "id": "c8d82def-48b4-44f4-a9ed-726e85d402ee",
   "metadata": {},
   "source": [
    "<div class=\"alert alert-block alert-info\">\n",
    "    <strong>Step 3:</b> <strong color='black'>Sketch the macrocycle in Chemdraw and copy it as a SMILES string</strong></div>"
   ]
  },
  {
   "cell_type": "markdown",
   "id": "b7c9022e-3e68-4677-996d-5623d5b1c0fe",
   "metadata": {},
   "source": [
    "<div class=\"alert alert-block alert-success\">\n",
    "    </b> <font color='black'>We sketched the macrocycle with the desired stereochemistry and double bond geometry in Chemdraw and copied it as a SMILES string</font></div>"
   ]
  },
  {
   "cell_type": "code",
   "execution_count": null,
   "id": "66889dfd-70af-4ffa-9b24-1a38d7bc749b",
   "metadata": {
    "tags": []
   },
   "outputs": [],
   "source": [
    "cyclo = smiles \"O=C1[C@H](C)/C=C(CN(C([C@H](C)/C=C(CN(C([C@H](C)/C=C(CN(C([C@H](C)/C=C(CN1CC2=CC=CC=C2)\\\\C)=O)CC3=CC=CC=C3)\\\\C)=O)CC4=CC=CC=C4)\\\\C)=O)CC5=CC=CC=C5)\\\\C\""
   ]
  },
  {
   "cell_type": "markdown",
   "id": "ff057c0f-a0c9-496b-b433-e1281de44d97",
   "metadata": {},
   "source": [
    "<div class=\"alert alert-block alert-info\">\n",
    "    <strong>Step 4:</b> <strong color='black'>View the sketch. Note that it may appear a bit distorted</strong></div>"
   ]
  },
  {
   "cell_type": "code",
   "execution_count": null,
   "id": "8e587a5d-977f-4772-b461-8680ed20fa85",
   "metadata": {},
   "outputs": [],
   "source": [
    "show (sketch2d:sketch2d cyclo)"
   ]
  },
  {
   "cell_type": "markdown",
   "id": "494eb146-6db4-4f55-9367-f18029e2c331",
   "metadata": {},
   "source": [
    "<div class=\"alert alert-block alert-info\">\n",
    "    <strong>Step 5:</b> <strong color='black'>Build a starting conformation for the macrocycle</strong></div>"
   ]
  },
  {
   "cell_type": "code",
   "execution_count": null,
   "id": "eb9e81af-decd-4f22-8f7b-8c5da2e9d9bb",
   "metadata": {},
   "outputs": [],
   "source": [
    "(build-good-geometry-from-random cyclo) "
   ]
  },
  {
   "cell_type": "code",
   "execution_count": null,
   "id": "e0c7eb23-ec34-4035-8d4c-1d6139754f9b",
   "metadata": {},
   "outputs": [],
   "source": [
    "show cyclo"
   ]
  },
  {
   "cell_type": "markdown",
   "id": "cad3c003-aa62-4312-af12-db9c5c59820b",
   "metadata": {},
   "source": [
    "<div class=\"alert alert-block alert-info\">\n",
    "    <strong>Step 6:</b> <strong color='black'>Put the macrocycle in a box of chloroform</strong></div>"
   ]
  },
  {
   "cell_type": "markdown",
   "id": "4168f896-5482-4c1b-b1cb-3caa232672fe",
   "metadata": {},
   "source": [
    "<div class=\"alert alert-block alert-success\">\n",
    "    </b> <font color='black'>We will make a copy of the macrocycle before we solvate it. This allows us to return to this point and make a new copy if we make a mistake</font></div>"
   ]
  },
  {
   "cell_type": "code",
   "execution_count": null,
   "id": "cdeecd56-d3ba-4e21-816c-ba54d425f3f6",
   "metadata": {},
   "outputs": [],
   "source": [
    "cycloBox = (chem:matter-copy cyclo)"
   ]
  },
  {
   "cell_type": "markdown",
   "id": "1fb37c42-8273-4904-b89e-bc7f8c28bfce",
   "metadata": {},
   "source": [
    "<div class=\"alert alert-block alert-info\">\n",
    "    <strong>Step 7:</b> <strong color='black'>Solvate the macrocycle in the box of chloroform</strong></div>"
   ]
  },
  {
   "cell_type": "code",
   "execution_count": null,
   "id": "9c95e91a-cc9e-4e16-a757-02bebeaa5c40",
   "metadata": {},
   "outputs": [],
   "source": [
    "solvateBox cycloBox CHCL3BOX 15.0"
   ]
  },
  {
   "cell_type": "code",
   "execution_count": null,
   "id": "5ae9d426-af6e-4349-89ee-7569fd184f07",
   "metadata": {},
   "outputs": [],
   "source": [
    "show cycloBox :axes t"
   ]
  },
  {
   "cell_type": "markdown",
   "id": "bf58ad8f-54d7-4713-9b01-41a743f3215d",
   "metadata": {},
   "source": [
    "<div class=\"alert alert-block alert-info\">\n",
    "    <strong>Step 8:</b> <strong color='black'>Save the Mol2 file</strong></div>"
   ]
  },
  {
   "cell_type": "code",
   "execution_count": null,
   "id": "5aca9999-51ff-4737-881b-05c4819e58d3",
   "metadata": {},
   "outputs": [],
   "source": [
    "saveMol2 cycloBox \"data/ambertools/cyclo/cyclo.mol2\" 1"
   ]
  },
  {
   "cell_type": "markdown",
   "id": "0987619f-3674-4366-b787-8b3ba07f973c",
   "metadata": {},
   "source": [
    "<div class=\"alert alert-block alert-info\">\n",
    "    <strong>Step 9:</b> <strong color='black'>Set up a complex simulation</strong></div>"
   ]
  },
  {
   "cell_type": "markdown",
   "id": "81a06d0f-549c-49e7-96f7-3c606ca459cd",
   "metadata": {},
   "source": [
    "<div class=\"alert alert-block alert-info\">\n",
    "    </b> <font color='black'>In this demo we will run a simulation that will follow these steps: 1) Minimize the strain of the macrocycle in the solvent box. 2) Heat the box to 300K. 3) Pressurize the box to 1 atm. 4) Carry out a molecular dynamics simulation</font></div>"
   ]
  },
  {
   "cell_type": "code",
   "execution_count": null,
   "id": "7ba76973-1a53-4e37-86eb-803e1158fe3d",
   "metadata": {},
   "outputs": [],
   "source": [
    "sim = (amber:simulation)"
   ]
  },
  {
   "cell_type": "code",
   "execution_count": null,
   "id": "835e550c-36f8-484e-b192-a7709637b717",
   "metadata": {},
   "outputs": [],
   "source": [
    "(amber:addAggregate sim cycloBox)"
   ]
  },
  {
   "cell_type": "code",
   "execution_count": null,
   "id": "901a36b9-11c5-432d-81ae-5b7000348850",
   "metadata": {
    "tags": []
   },
   "outputs": [],
   "source": [
    "(amber:minimize sim)"
   ]
  },
  {
   "cell_type": "code",
   "execution_count": null,
   "id": "7193d658-c294-4e96-b88f-3bde66ee1516",
   "metadata": {},
   "outputs": [],
   "source": [
    "(amber:heat sim :temperature 300.0)"
   ]
  },
  {
   "cell_type": "markdown",
   "id": "8d4e34eb-4a4f-4f83-b583-40b7d62cf20a",
   "metadata": {},
   "source": [
    "<div class=\"alert alert-block alert-success\">\n",
    "    </b> <font color='black'>Note that the pressurize command sets the box to 1 atm</font></div>"
   ]
  },
  {
   "cell_type": "code",
   "execution_count": null,
   "id": "c9f64849-d524-4eb3-ad27-2d4294b08047",
   "metadata": {},
   "outputs": [],
   "source": [
    "(amber:pressurize sim)"
   ]
  },
  {
   "cell_type": "markdown",
   "id": "f3fe9c1a-749d-46e0-8945-e294da98df73",
   "metadata": {},
   "source": [
    "<div class=\"alert alert-block alert-success\">\n",
    "    </b> <font color='black'>Note that the number of steps in the simulation correlates to molecular movement across femptoseconds (10^-15 seconds</font></div>"
   ]
  },
  {
   "cell_type": "code",
   "execution_count": null,
   "id": "16fae117-a63e-4639-a506-291f6f5aa5ec",
   "metadata": {},
   "outputs": [],
   "source": [
    "(amber:dynamics sim :steps 100000)"
   ]
  },
  {
   "cell_type": "markdown",
   "id": "db3990de-7456-4e41-9e80-2483261399d1",
   "metadata": {},
   "source": [
    "<div class=\"alert alert-block alert-info\">\n",
    "    <strong>Step 10:</b> <strong color='black'>Run the simulation</strong></div>"
   ]
  },
  {
   "cell_type": "markdown",
   "id": "d62e2678-f77d-416f-8982-7de3838a6d50",
   "metadata": {},
   "source": [
    "<div class=\"alert alert-block alert-success\">\n",
    "    </b> <font color='black'> This will write the simulation to the data/ambertools/cyclo directory and then run it</font></div>"
   ]
  },
  {
   "cell_type": "code",
   "execution_count": null,
   "id": "38b58d85-9755-4743-b663-6b123a4c5cbf",
   "metadata": {},
   "outputs": [],
   "source": [
    "stream = (amber:startSimulation sim :name \"data/ambertools/cyclo/\")"
   ]
  },
  {
   "cell_type": "code",
   "execution_count": null,
   "id": "298b97c7-6a30-4105-90d4-7b6dffe248f5",
   "metadata": {},
   "outputs": [],
   "source": [
    "(read-line stream)"
   ]
  },
  {
   "cell_type": "markdown",
   "id": "0c21c50d-a8ca-424d-b59b-83762cb748ca",
   "metadata": {},
   "source": [
    "## We haven't yet implemented a dashboard that will display the progress of the simulation - for now you have to wait about 15 minutes.\n",
    "### You can open a terminal and move to the `data/ambertools/cyclo/` directory and watch the simulation running using `tail -f dynamics-DEFAULT.info`."
   ]
  },
  {
   "cell_type": "markdown",
   "id": "6a3162f6-5244-4eb3-9b26-0b96d36082e9",
   "metadata": {},
   "source": [
    "### Once the simulation is complete we can examine individual molecular dynamics frames.\n",
    "### In the near future you will be able to display a movie of the molecular dynamics."
   ]
  },
  {
   "cell_type": "code",
   "execution_count": null,
   "id": "aba56dc7-38f7-44fa-9ded-35d9ea79de7a",
   "metadata": {},
   "outputs": [],
   "source": [
    "traj = (load-amber-topology-trajectory-pair :topology-filename \"data/ambertools/cyclo/start-DEFAULT.parm\"\n",
    "                                            :coordinate-filename \"data/ambertools/cyclo/dynamics-DEFAULT.nc\")"
   ]
  },
  {
   "cell_type": "code",
   "execution_count": null,
   "id": "f143f42b-c039-454d-b22d-727f28451c68",
   "metadata": {},
   "outputs": [],
   "source": [
    "show (read-frame-into-atoms traj 1)"
   ]
  },
  {
   "cell_type": "markdown",
   "id": "411868fb-1e71-4153-afba-9ad44babc72d",
   "metadata": {},
   "source": [
    "edited by Ava Dremann 07-05-2022"
   ]
  },
  {
   "cell_type": "code",
   "execution_count": null,
   "id": "3706183d-084f-4e2e-97ef-c29572013a6d",
   "metadata": {},
   "outputs": [],
   "source": []
  }
 ],
 "metadata": {
  "kernelspec": {
   "display_name": "Cando",
   "language": "cando",
   "name": "cando"
  },
  "language_info": {
   "codemirror_mode": "text/x-common-lisp",
   "file_extension": ".lisp",
   "mimetype": "text/x-common-lisp",
   "name": "common-lisp",
   "pygments_lexer": "common-lisp",
   "version": "cclasp-boehmprecise-1.0.0-315-g63f371417-g596341ca-cst"
  }
 },
 "nbformat": 4,
 "nbformat_minor": 5
}
