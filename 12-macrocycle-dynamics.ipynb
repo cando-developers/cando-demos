{
 "cells": [
  {
   "cell_type": "markdown",
   "id": "d7e3903e-8c48-4f70-afbf-bcfdae4ff857",
   "metadata": {},
   "source": [
    "# Molecular Dynamics of a macrocycle in chloroform"
   ]
  },
  {
   "cell_type": "markdown",
   "id": "09bfc0cf-ea6e-4ecc-86ad-37e7745426a9",
   "metadata": {},
   "source": [
    "## First we setup to use the Generalized Amber Force Field (GAFF)"
   ]
  },
  {
   "cell_type": "code",
   "execution_count": null,
   "id": "f5570468-b101-49e2-9d4b-03099c2df56f",
   "metadata": {
    "tags": []
   },
   "outputs": [],
   "source": [
    "(load-atom-type-rules \"ATOMTYPE_GFF.DEF\")"
   ]
  },
  {
   "cell_type": "code",
   "execution_count": null,
   "id": "af87a26f-05c5-4396-98ea-36eb40947053",
   "metadata": {},
   "outputs": [],
   "source": [
    "loadAmberParams \"gaff.dat\""
   ]
  },
  {
   "cell_type": "markdown",
   "id": "92a55751-f758-4f48-b870-53ed158f162e",
   "metadata": {},
   "source": [
    "## Then we load solvent boxes."
   ]
  },
  {
   "cell_type": "code",
   "execution_count": null,
   "id": "b445f930-fbbe-49de-a237-9af6d81a46fe",
   "metadata": {},
   "outputs": [],
   "source": [
    "source \"leaprc.water.tip3p\""
   ]
  },
  {
   "cell_type": "markdown",
   "id": "0ce86fba-0d63-4af6-9472-f6c276a0eb9f",
   "metadata": {},
   "source": [
    "## We sketched the macrocycle with the desired stereochemistry and double bond geometry in Chemdraw and copied it as a SMILES string."
   ]
  },
  {
   "cell_type": "code",
   "execution_count": null,
   "id": "66889dfd-70af-4ffa-9b24-1a38d7bc749b",
   "metadata": {
    "tags": []
   },
   "outputs": [],
   "source": [
    "cyclo = smiles \"O=C1[C@H](C)/C=C(CN(C([C@H](C)/C=C(CN(C([C@H](C)/C=C(CN(C([C@H](C)/C=C(CN1CC2=CC=CC=C2)\\\\C)=O)CC3=CC=CC=C3)\\\\C)=O)CC4=CC=CC=C4)\\\\C)=O)CC5=CC=CC=C5)\\\\C\""
   ]
  },
  {
   "cell_type": "markdown",
   "id": "9c5faacf-7a58-41c3-8de2-e8949921a7ed",
   "metadata": {},
   "source": [
    "## Let's see what it looks like (it may appear a bit distorted)."
   ]
  },
  {
   "cell_type": "code",
   "execution_count": null,
   "id": "8e587a5d-977f-4772-b461-8680ed20fa85",
   "metadata": {},
   "outputs": [],
   "source": [
    "show (sketch2d:sketch2d cyclo)"
   ]
  },
  {
   "cell_type": "markdown",
   "id": "a487a5f9-f63e-480e-a9f6-80f0457c54b4",
   "metadata": {},
   "source": [
    "## Let's build a starting conformation for the macrocycle."
   ]
  },
  {
   "cell_type": "code",
   "execution_count": null,
   "id": "eb9e81af-decd-4f22-8f7b-8c5da2e9d9bb",
   "metadata": {},
   "outputs": [],
   "source": [
    "(build-good-geometry-from-random cyclo) "
   ]
  },
  {
   "cell_type": "code",
   "execution_count": null,
   "id": "e0c7eb23-ec34-4035-8d4c-1d6139754f9b",
   "metadata": {},
   "outputs": [],
   "source": [
    "show cyclo"
   ]
  },
  {
   "cell_type": "markdown",
   "id": "3fff3a8d-a9a1-4703-b4cb-a4f581f8b787",
   "metadata": {},
   "source": [
    "## We are going to put the macrocycle into a box of chloroform. Let's make a copy and then solvate it.  If we make a mistake we can always make a new copy and continue from here."
   ]
  },
  {
   "cell_type": "code",
   "execution_count": null,
   "id": "cdeecd56-d3ba-4e21-816c-ba54d425f3f6",
   "metadata": {},
   "outputs": [],
   "source": [
    "cycloBox = (chem:matter-copy cyclo)"
   ]
  },
  {
   "cell_type": "markdown",
   "id": "ab8e3120-9289-4a46-8559-d6656140d631",
   "metadata": {},
   "source": [
    "## Now solvate the macrocycle in a box of chloroform."
   ]
  },
  {
   "cell_type": "code",
   "execution_count": null,
   "id": "9c95e91a-cc9e-4e16-a757-02bebeaa5c40",
   "metadata": {},
   "outputs": [],
   "source": [
    "solvateBox cycloBox CHCL3BOX 15.0"
   ]
  },
  {
   "cell_type": "code",
   "execution_count": null,
   "id": "5ae9d426-af6e-4349-89ee-7569fd184f07",
   "metadata": {},
   "outputs": [],
   "source": [
    "show cycloBox :axes t"
   ]
  },
  {
   "cell_type": "markdown",
   "id": "28f1e958-e986-40af-834a-be1ff82d62f9",
   "metadata": {},
   "source": [
    "## Save a mol2 file."
   ]
  },
  {
   "cell_type": "code",
   "execution_count": null,
   "id": "5aca9999-51ff-4737-881b-05c4819e58d3",
   "metadata": {},
   "outputs": [],
   "source": [
    "saveMol2 cycloBox \"data/ambertools/cyclo/cyclo.mol2\" 1"
   ]
  },
  {
   "cell_type": "markdown",
   "id": "af101037-ed1d-42a2-af9b-b1e092772c8e",
   "metadata": {},
   "source": [
    "## Now setup a simulation where we will...\n",
    "1. Minimize the strain of the macrocycle in the solvent box.\n",
    "2. Heat the box to 300K.\n",
    "3. Pressurize the box to 1 atm.\n",
    "4. Carry out a molecular dynamics simulation."
   ]
  },
  {
   "cell_type": "code",
   "execution_count": null,
   "id": "7ba76973-1a53-4e37-86eb-803e1158fe3d",
   "metadata": {},
   "outputs": [],
   "source": [
    "sim = (amber:simulation)"
   ]
  },
  {
   "cell_type": "code",
   "execution_count": null,
   "id": "835e550c-36f8-484e-b192-a7709637b717",
   "metadata": {},
   "outputs": [],
   "source": [
    "(amber:addAggregate sim cycloBox)"
   ]
  },
  {
   "cell_type": "code",
   "execution_count": null,
   "id": "901a36b9-11c5-432d-81ae-5b7000348850",
   "metadata": {
    "tags": []
   },
   "outputs": [],
   "source": [
    "(amber:minimize sim)"
   ]
  },
  {
   "cell_type": "code",
   "execution_count": null,
   "id": "7193d658-c294-4e96-b88f-3bde66ee1516",
   "metadata": {},
   "outputs": [],
   "source": [
    "(amber:heat sim :temperature 300.0)"
   ]
  },
  {
   "cell_type": "code",
   "execution_count": null,
   "id": "c9f64849-d524-4eb3-ad27-2d4294b08047",
   "metadata": {},
   "outputs": [],
   "source": [
    "(amber:pressurize sim)"
   ]
  },
  {
   "cell_type": "code",
   "execution_count": null,
   "id": "16fae117-a63e-4639-a506-291f6f5aa5ec",
   "metadata": {},
   "outputs": [],
   "source": [
    "(amber:dynamics sim :steps 100000)"
   ]
  },
  {
   "cell_type": "markdown",
   "id": "f0adfe33-4561-45e4-9b99-e28d5e343eb3",
   "metadata": {},
   "source": [
    "## Run the simulation. This will write the simulation to the `data/ambertools/cyclo` directory and then run it."
   ]
  },
  {
   "cell_type": "code",
   "execution_count": null,
   "id": "38b58d85-9755-4743-b663-6b123a4c5cbf",
   "metadata": {},
   "outputs": [],
   "source": [
    "stream = (amber:startSimulation sim :name \"data/ambertools/cyclo/\")"
   ]
  },
  {
   "cell_type": "markdown",
   "id": "0c21c50d-a8ca-424d-b59b-83762cb748ca",
   "metadata": {},
   "source": [
    "## We haven't yet implemented a dashboard that will display the progress of the simulation - for now you have to wait about 15 minutes.\n",
    "### You can open a terminal and move to the `data/ambertools/cyclo/` directory and watch the simulation running using `tail -f dynamics-DEFAULT.info`."
   ]
  },
  {
   "cell_type": "markdown",
   "id": "6a3162f6-5244-4eb3-9b26-0b96d36082e9",
   "metadata": {},
   "source": [
    "### Once the simulation is complete we can examine individual molecular dynamics frames.\n",
    "### In the near future you will be able to display a movie of the molecular dynamics."
   ]
  },
  {
   "cell_type": "code",
   "execution_count": null,
   "id": "aba56dc7-38f7-44fa-9ded-35d9ea79de7a",
   "metadata": {},
   "outputs": [],
   "source": [
    "traj = (load-amber-topology-trajectory-pair :topology-filename \"data/ambertools/cyclo/start-DEFAULT.parm\"\n",
    "                                            :coordinate-filename \"data/ambertools/cyclo/dynamics-DEFAULT.nc\")"
   ]
  },
  {
   "cell_type": "code",
   "execution_count": null,
   "id": "f143f42b-c039-454d-b22d-727f28451c68",
   "metadata": {},
   "outputs": [],
   "source": [
    "show (read-frame-into-atoms traj 1)"
   ]
  },
  {
   "cell_type": "code",
   "execution_count": null,
   "id": "5e0b5722-1d9d-4257-a73f-b0a5569eef35",
   "metadata": {},
   "outputs": [],
   "source": []
  }
 ],
 "metadata": {
  "kernelspec": {
   "display_name": "dev-scando",
   "language": "lisp",
   "name": "dev-scando"
  },
  "language_info": {
   "codemirror_mode": "text/x-common-lisp",
   "file_extension": ".lisp",
   "mimetype": "text/x-common-lisp",
   "name": "common-lisp",
   "pygments_lexer": "common-lisp",
   "version": "cclasp-boehmprecise-1.0.0-307-g3cb638c40-g9c97d8da-cst"
  }
 },
 "nbformat": 4,
 "nbformat_minor": 5
}
