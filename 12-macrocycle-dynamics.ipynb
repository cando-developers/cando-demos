{
 "cells": [
  {
   "cell_type": "markdown",
   "id": "d7e3903e-8c48-4f70-afbf-bcfdae4ff857",
   "metadata": {
    "tags": []
   },
   "source": [
    "# Molecular Dynamics of a Macrocycle in Chloroform Demo"
   ]
  },
  {
   "cell_type": "markdown",
   "id": "09bfc0cf-ea6e-4ecc-86ad-37e7745426a9",
   "metadata": {
    "tags": []
   },
   "source": [
    "### This demo will show you how to use CANDO in order to solvate a macrocycle in a chloroform box and run various simulations with it"
   ]
  },
  {
   "cell_type": "markdown",
   "id": "be34f4e9-1dde-4f74-8358-af2df1888179",
   "metadata": {},
   "source": [
    "<div class=\"alert alert-block alert-info\">\n",
    "    <strong>Step 1:</b> <strong color='black'>Set up to use the Generalized Amber Force Field (GAFF)</strong></div>"
   ]
  },
  {
   "cell_type": "code",
   "execution_count": 1,
   "id": "f5570468-b101-49e2-9d4b-03099c2df56f",
   "metadata": {
    "tags": []
   },
   "outputs": [
    {
     "data": {
      "text/plain": [
       "#<FORCE-FIELD ATOMTYPE_GFF.DEF>"
      ]
     },
     "execution_count": 1,
     "metadata": {},
     "output_type": "execute_result"
    }
   ],
   "source": [
    "(load-atom-type-rules \"ATOMTYPE_GFF.DEF\")"
   ]
  },
  {
   "cell_type": "code",
   "execution_count": 2,
   "id": "af87a26f-05c5-4396-98ea-36eb40947053",
   "metadata": {},
   "outputs": [
    {
     "data": {
      "text/plain": [
       "#<FORCE-FIELD gaff.dat>"
      ]
     },
     "execution_count": 2,
     "metadata": {},
     "output_type": "execute_result"
    },
    {
     "name": "stdout",
     "output_type": "stream",
     "text": [
      "Warning!  Skipping 10-12 hbond in #<IOSTREAM-STREAM #P\"/home/avadremann/anaconda3/envs/AmberTools22/dat/leap/parm/gaff.dat\">\n",
      "Warning!  Skipping force field atom equivalences in #<IOSTREAM-STREAM #P\"/home/avadremann/anaconda3/envs/AmberTools22/dat/leap/parm/gaff.dat\">\n",
      "Adding force field gaff.dat to DEFAULT\n"
     ]
    }
   ],
   "source": [
    "loadAmberParams \"gaff.dat\""
   ]
  },
  {
   "cell_type": "markdown",
   "id": "092a0e22-7318-4a4c-bc81-1b309ffa4732",
   "metadata": {},
   "source": [
    "<div class=\"alert alert-block alert-info\">\n",
    "    <strong>Step 2:</b> <strong color='black'>Load in solvent boxes</strong></div>"
   ]
  },
  {
   "cell_type": "code",
   "execution_count": 3,
   "id": "b445f930-fbbe-49de-a237-9af6d81a46fe",
   "metadata": {},
   "outputs": [
    {
     "data": {
      "text/plain": [
       "T"
      ]
     },
     "execution_count": 3,
     "metadata": {},
     "output_type": "execute_result"
    },
    {
     "name": "stdout",
     "output_type": "stream",
     "text": [
      "Adding force field frcmod.tip3p to DEFAULT\n",
      "Adding force field frcmod.ions1lm_126_tip3p to DEFAULT\n",
      "Adding force field frcmod.ionsjc_tip3p to DEFAULT\n",
      "Adding force field frcmod.ions234lm_126_tip3p to DEFAULT\n"
     ]
    }
   ],
   "source": [
    "source \"leaprc.water.tip3p\""
   ]
  },
  {
   "cell_type": "markdown",
   "id": "c8d82def-48b4-44f4-a9ed-726e85d402ee",
   "metadata": {},
   "source": [
    "<div class=\"alert alert-block alert-info\">\n",
    "    <strong>Step 3:</b> <strong color='black'>Sketch the macrocycle in Chemdraw and copy it as a SMILES string</strong></div>"
   ]
  },
  {
   "cell_type": "markdown",
   "id": "b7c9022e-3e68-4677-996d-5623d5b1c0fe",
   "metadata": {},
   "source": [
    "<div class=\"alert alert-block alert-success\">\n",
    "    </b> <font color='black'>We sketched the macrocycle with the desired stereochemistry and double bond geometry in Chemdraw and copied it as a SMILES string. SMILES is shorthand for Simplified Molecular Input Line Entry System. It is a way to represent chemical structures in a way a computer can use.  </font></div>"
   ]
  },
  {
   "cell_type": "code",
   "execution_count": 4,
   "id": "66889dfd-70af-4ffa-9b24-1a38d7bc749b",
   "metadata": {
    "tags": []
   },
   "outputs": [
    {
     "data": {
      "text/plain": [
       "#<AGGREGATE :DEFAULT :id 0 0x31b3a0a7>"
      ]
     },
     "execution_count": 4,
     "metadata": {},
     "output_type": "execute_result"
    }
   ],
   "source": [
    "cyclo = smiles \"O=C1[C@H](C)/C=C(CN(C([C@H](C)/C=C(CN(C([C@H](C)/C=C(CN(C([C@H](C)/C=C(CN1CC2=CC=CC=C2)\\\\C)=O)CC3=CC=CC=C3)\\\\C)=O)CC4=CC=CC=C4)\\\\C)=O)CC5=CC=CC=C5)\\\\C\""
   ]
  },
  {
   "cell_type": "markdown",
   "id": "ff057c0f-a0c9-496b-b433-e1281de44d97",
   "metadata": {},
   "source": [
    "<div class=\"alert alert-block alert-info\">\n",
    "    <strong>Step 4:</b> <strong color='black'>View the sketch. Note that it is a macrocycle and may appear a bit distorted</strong></div>"
   ]
  },
  {
   "cell_type": "code",
   "execution_count": 5,
   "id": "8e587a5d-977f-4772-b461-8680ed20fa85",
   "metadata": {},
   "outputs": [
    {
     "name": "stdout",
     "output_type": "stream",
     "text": [
      "There were 4 problems for try 2\n",
      "There were 3 problems for try 3\n",
      "There were 2 problems for try 4\n"
     ]
    },
    {
     "data": {
      "image/svg+xml": [
       "<?xml version=\"1.0\" standalone=\"no\"?>\n",
       "<svg viewBox=\"-223 -225 447 447\" height=\"447px\" width=\"447px\" version=\"1.2\"\n",
       "    id=\"\" xmlns=\"http://www.w3.org/2000/svg\"\n",
       "    xmlns:xlink=\"http://www.w3.org/1999/xlink\">\n",
       "  <defs>\n",
       "    <filter id=\"highlight\" x=\"-1\" y=\"-1\" width=\"3\" height=\"3\">\n",
       "      <feMorphology operator=\"dilate\" radius=\"3\" result=\"dilate\"/>\n",
       "      <feFlood flood-color=\"rgb(237,212,0)\"/>\n",
       "      <feComposite in2=\"dilate\" operator=\"in\"/>\n",
       "      <feMerge>\n",
       "        <feMergeNode />\n",
       "        <feMergeNode in=\"SourceGraphic\"/>\n",
       "      </feMerge>\n",
       "    </filter>\n",
       "  </defs>\n",
       "  <style>\n",
       "    .name {\n",
       "     font: italic 9px sans-serif;\n",
       "     fill: red;\n",
       "     text-anchor: left;\n",
       "     alignment-baseline: left;\n",
       "   }\n",
       "   .element {\n",
       "     text-anchor: middle;\n",
       "     alignment-baseline: middle;\n",
       "   }\n",
       "   .bond {\n",
       "     fill: none;\n",
       "     stroke: black;\n",
       "     stroke-width: 2;\n",
       "     stroke-linecap: round;\n",
       "   }\n",
       "   .dash {\n",
       "     stroke-dasharray: 5, 5;\n",
       "   }\n",
       "   .bond.wedge {\n",
       "     fill: black;\n",
       "     stroke: black;\n",
       "     stroke-width: 1;\n",
       "   }\n",
       "  </style>\n",
       "  <line x1=\"-158.95\" y1=\"58.84\" x2=\"-152.64\" y2=\"34.36\" class=\"bond C54 C55\"/>\n",
       "  <line x1=\"-153.11\" y1=\"56.21\" x2=\"-148.80\" y2=\"39.48\" class=\"bond C54 C55\"/>\n",
       "  <line x1=\"-140.89\" y1=\"76.54\" x2=\"-158.95\" y2=\"58.84\" class=\"bond C53 C54\"/>\n",
       "  <line x1=\"-116.44\" y1=\"69.71\" x2=\"-140.89\" y2=\"76.54\" class=\"bond C52 C53\"/>\n",
       "  <line x1=\"-121.64\" y1=\"65.97\" x2=\"-138.38\" y2=\"70.65\" class=\"bond C52 C53\"/>\n",
       "  <line x1=\"-110.21\" y1=\"45.31\" x2=\"-116.44\" y2=\"69.71\" class=\"bond C51 C52\"/>\n",
       "  <line x1=\"-128.30\" y1=\"27.75\" x2=\"-152.64\" y2=\"34.36\" class=\"bond C50 C55\"/>\n",
       "  <line x1=\"-128.30\" y1=\"27.75\" x2=\"-110.21\" y2=\"45.31\" class=\"bond C50 C51\"/>\n",
       "  <line x1=\"-128.91\" y1=\"34.12\" x2=\"-116.57\" y2=\"46.11\" class=\"bond C50 C51\"/>\n",
       "  <line x1=\"-122.06\" y1=\"3.33\" x2=\"-128.30\" y2=\"27.75\" class=\"bond C49 C50\"/>\n",
       "  <line x1=\"-28.76\" y1=\"-129.81\" x2=\"-35.44\" y2=\"-154.22\" class=\"bond C42 C47\"/>\n",
       "  <line x1=\"-60.03\" y1=\"-160.42\" x2=\"-35.44\" y2=\"-154.22\" class=\"bond C46 C47\"/>\n",
       "  <line x1=\"-57.37\" y1=\"-154.59\" x2=\"-40.54\" y2=\"-150.35\" class=\"bond C46 C47\"/>\n",
       "  <line x1=\"-77.63\" y1=\"-142.33\" x2=\"-60.03\" y2=\"-160.42\" class=\"bond C45 C46\"/>\n",
       "  <line x1=\"-70.94\" y1=\"-118.04\" x2=\"-77.63\" y2=\"-142.33\" class=\"bond C44 C45\"/>\n",
       "  <line x1=\"-67.18\" y1=\"-123.22\" x2=\"-71.74\" y2=\"-139.80\" class=\"bond C44 C45\"/>\n",
       "  <line x1=\"-48.03\" y1=\"-116.86\" x2=\"-70.94\" y2=\"-118.04\" class=\"bond C43 C44\"/>\n",
       "  <line x1=\"-28.76\" y1=\"-129.81\" x2=\"-48.03\" y2=\"-116.86\" class=\"bond C42 C43\"/>\n",
       "  <line x1=\"-34.87\" y1=\"-131.72\" x2=\"-47.50\" y2=\"-123.24\" class=\"bond C42 C43\"/>\n",
       "  <line x1=\"-4.43\" y1=\"-123.55\" x2=\"-28.76\" y2=\"-129.81\" class=\"bond C41 C42\"/>\n",
       "  <line x1=\"128.75\" y1=\"-30.26\" x2=\"116.36\" y2=\"-49.08\" class=\"bond C34 C39\"/>\n",
       "  <line x1=\"116.90\" y1=\"-72.41\" x2=\"116.36\" y2=\"-49.08\" class=\"bond C38 C39\"/>\n",
       "  <line x1=\"121.80\" y1=\"-68.30\" x2=\"121.45\" y2=\"-52.97\" class=\"bond C38 C39\"/>\n",
       "  <line x1=\"141.23\" y1=\"-79.15\" x2=\"116.90\" y2=\"-72.41\" class=\"bond C37 C38\"/>\n",
       "  <line x1=\"159.36\" y1=\"-61.45\" x2=\"141.23\" y2=\"-79.15\" class=\"bond C36 C37\"/>\n",
       "  <line x1=\"153.01\" y1=\"-60.66\" x2=\"140.60\" y2=\"-72.78\" class=\"bond C36 C37\"/>\n",
       "  <line x1=\"153.09\" y1=\"-36.91\" x2=\"159.36\" y2=\"-61.45\" class=\"bond C35 C36\"/>\n",
       "  <line x1=\"128.75\" y1=\"-30.26\" x2=\"153.09\" y2=\"-36.91\" class=\"bond C34 C35\"/>\n",
       "  <line x1=\"131.29\" y1=\"-36.14\" x2=\"147.91\" y2=\"-40.68\" class=\"bond C34 C35\"/>\n",
       "  <line x1=\"122.44\" y1=\"-5.91\" x2=\"128.75\" y2=\"-30.26\" class=\"bond C33 C34\"/>\n",
       "  <line x1=\"104.18\" y1=\"-3.67\" x2=\"122.44\" y2=\"-5.91\" class=\"bond N3 C33\"/>\n",
       "  <line x1=\"92.97\" y1=\"20.43\" x2=\"109.97\" y2=\"26.85\" class=\"bond C19 O2\"/>\n",
       "  <line x1=\"91.20\" y1=\"25.10\" x2=\"108.20\" y2=\"31.53\" class=\"bond C19 O2\"/>\n",
       "  <line x1=\"45.99\" y1=\"70.59\" x2=\"68.61\" y2=\"82.64\" class=\"bond C23 C32\"/>\n",
       "  <line x1=\"29.05\" y1=\"127.24\" x2=\"35.82\" y2=\"151.67\" class=\"bond C26 C31\"/>\n",
       "  <line x1=\"60.36\" y1=\"157.85\" x2=\"35.82\" y2=\"151.67\" class=\"bond C30 C31\"/>\n",
       "  <line x1=\"57.70\" y1=\"152.03\" x2=\"40.92\" y2=\"147.80\" class=\"bond C30 C31\"/>\n",
       "  <line x1=\"78.06\" y1=\"139.72\" x2=\"60.36\" y2=\"157.85\" class=\"bond C29 C30\"/>\n",
       "  <line x1=\"71.32\" y1=\"115.39\" x2=\"78.06\" y2=\"139.72\" class=\"bond C28 C29\"/>\n",
       "  <line x1=\"67.57\" y1=\"120.58\" x2=\"72.17\" y2=\"137.20\" class=\"bond C28 C29\"/>\n",
       "  <line x1=\"47.82\" y1=\"114.52\" x2=\"71.32\" y2=\"115.39\" class=\"bond C27 C28\"/>\n",
       "  <line x1=\"29.05\" y1=\"127.24\" x2=\"47.82\" y2=\"114.52\" class=\"bond C26 C27\"/>\n",
       "  <line x1=\"35.17\" y1=\"129.14\" x2=\"47.31\" y2=\"120.90\" class=\"bond C26 C27\"/>\n",
       "  <line x1=\"4.80\" y1=\"120.95\" x2=\"29.05\" y2=\"127.24\" class=\"bond C25 C26\"/>\n",
       "  <line x1=\"2.94\" y1=\"101.80\" x2=\"4.80\" y2=\"120.95\" class=\"bond N4 C25\"/>\n",
       "  <line x1=\"-22.01\" y1=\"89.16\" x2=\"-6.82\" y2=\"91.48\" class=\"bond C1 N4\"/>\n",
       "  <line x1=\"25.12\" y1=\"84.43\" x2=\"10.53\" y2=\"89.76\" class=\"bond C24 N4\"/>\n",
       "  <line x1=\"45.99\" y1=\"70.59\" x2=\"25.12\" y2=\"84.43\" class=\"bond C23 C24\"/>\n",
       "  <line x1=\"49.48\" y1=\"45.59\" x2=\"45.99\" y2=\"70.59\" class=\"bond C22 C23\"/>\n",
       "  <line x1=\"53.88\" y1=\"50.24\" x2=\"51.49\" y2=\"67.32\" class=\"bond C22 C23\"/>\n",
       "  <line x1=\"66.20\" y1=\"35.04\" x2=\"65.05\" y2=\"33.40\" class=\"bond C20 C22\"/>\n",
       "  <line x1=\"62.74\" y1=\"38.70\" x2=\"60.44\" y2=\"35.43\" class=\"bond C20 C22\"/>\n",
       "  <line x1=\"59.28\" y1=\"42.36\" x2=\"55.83\" y2=\"37.45\" class=\"bond C20 C22\"/>\n",
       "  <line x1=\"55.82\" y1=\"46.02\" x2=\"51.21\" y2=\"39.48\" class=\"bond C20 C22\"/>\n",
       "  <line x1=\"69.66\" y1=\"31.38\" x2=\"85.15\" y2=\"60.82\" class=\"bond C20 C21\"/>\n",
       "  <line x1=\"92.09\" y1=\"22.76\" x2=\"69.66\" y2=\"31.38\" class=\"bond C19 C20\"/>\n",
       "  <line x1=\"94.13\" y1=\"6.36\" x2=\"92.09\" y2=\"22.76\" class=\"bond N3 C19\"/>\n",
       "  <line x1=\"82.88\" y1=\"-23.23\" x2=\"90.63\" y2=\"-10.30\" class=\"bond C18 N3\"/>\n",
       "  <line x1=\"59.62\" y1=\"-34.02\" x2=\"82.88\" y2=\"-23.23\" class=\"bond C17 C18\"/>\n",
       "  <line x1=\"59.62\" y1=\"-34.02\" x2=\"39.01\" y2=\"-21.06\" class=\"bond C17 C40\"/>\n",
       "  <line x1=\"57.10\" y1=\"-60.35\" x2=\"59.62\" y2=\"-34.02\" class=\"bond C16 C17\"/>\n",
       "  <line x1=\"52.51\" y1=\"-55.89\" x2=\"54.26\" y2=\"-37.52\" class=\"bond C16 C17\"/>\n",
       "  <polygon points=\"34.33 -71.2 58.61 -63.5  55.6 -57.2\"\n",
       "           class=\"bond C14 C16 wedge\"/>\n",
       "  <line x1=\"34.33\" y1=\"-71.19\" x2=\"15.63\" y2=\"-52.11\" class=\"bond C14 C15\"/>\n",
       "  <line x1=\"24.17\" y1=\"-93.59\" x2=\"34.33\" y2=\"-71.19\" class=\"bond C13 C14\"/>\n",
       "  <line x1=\"21.84\" y1=\"-94.49\" x2=\"28.27\" y2=\"-111.14\" class=\"bond C13 O3\"/>\n",
       "  <line x1=\"26.50\" y1=\"-92.69\" x2=\"32.94\" y2=\"-109.34\" class=\"bond C13 O3\"/>\n",
       "  <line x1=\"8.15\" y1=\"-95.55\" x2=\"24.17\" y2=\"-93.59\" class=\"bond N2 C13\"/>\n",
       "  <line x1=\"-1.99\" y1=\"-105.55\" x2=\"-4.43\" y2=\"-123.55\" class=\"bond N2 C41\"/>\n",
       "  <line x1=\"-20.92\" y1=\"-80.74\" x2=\"-7.85\" y2=\"-91.06\" class=\"bond C12 N2\"/>\n",
       "  <line x1=\"-30.87\" y1=\"-60.10\" x2=\"-20.92\" y2=\"-80.74\" class=\"bond C11 C12\"/>\n",
       "  <line x1=\"-30.87\" y1=\"-60.10\" x2=\"-17.77\" y2=\"-38.11\" class=\"bond C11 C48\"/>\n",
       "  <line x1=\"-51.90\" y1=\"-48.59\" x2=\"-30.87\" y2=\"-60.10\" class=\"bond C10 C11\"/>\n",
       "  <line x1=\"-45.99\" y1=\"-46.13\" x2=\"-31.98\" y2=\"-53.79\" class=\"bond C10 C11\"/>\n",
       "  <line x1=\"-69.27\" y1=\"-44.84\" x2=\"-68.74\" y2=\"-42.91\" class=\"bond C8 C10\"/>\n",
       "  <line x1=\"-65.26\" y1=\"-46.98\" x2=\"-64.20\" y2=\"-43.13\" class=\"bond C8 C10\"/>\n",
       "  <line x1=\"-61.25\" y1=\"-49.13\" x2=\"-59.65\" y2=\"-43.34\" class=\"bond C8 C10\"/>\n",
       "  <line x1=\"-57.24\" y1=\"-51.27\" x2=\"-55.11\" y2=\"-43.56\" class=\"bond C8 C10\"/>\n",
       "  <line x1=\"-73.28\" y1=\"-42.70\" x2=\"-90.12\" y2=\"-66.04\" class=\"bond C8 C9\"/>\n",
       "  <line x1=\"-90.83\" y1=\"-24.18\" x2=\"-73.28\" y2=\"-42.70\" class=\"bond C7 C8\"/>\n",
       "  <line x1=\"-91.78\" y1=\"-21.87\" x2=\"-109.76\" y2=\"-29.24\" class=\"bond C7 O4\"/>\n",
       "  <line x1=\"-89.88\" y1=\"-26.49\" x2=\"-107.87\" y2=\"-33.87\" class=\"bond C7 O4\"/>\n",
       "  <line x1=\"-93.11\" y1=\"-8.99\" x2=\"-90.83\" y2=\"-24.18\" class=\"bond N1 C7\"/>\n",
       "  <line x1=\"-103.37\" y1=\"1.02\" x2=\"-122.06\" y2=\"3.33\" class=\"bond N1 C49\"/>\n",
       "  <line x1=\"-84.79\" y1=\"21.91\" x2=\"-90.82\" y2=\"8.15\" class=\"bond C6 N1\"/>\n",
       "  <line x1=\"-67.33\" y1=\"36.99\" x2=\"-84.79\" y2=\"21.91\" class=\"bond C5 C6\"/>\n",
       "  <line x1=\"-67.33\" y1=\"36.99\" x2=\"-90.61\" y2=\"61.51\" class=\"bond C5 C56\"/>\n",
       "  <line x1=\"-52.43\" y1=\"54.91\" x2=\"-67.33\" y2=\"36.99\" class=\"bond C4 C5\"/>\n",
       "  <line x1=\"-58.83\" y1=\"55.03\" x2=\"-68.61\" y2=\"43.27\" class=\"bond C4 C5\"/>\n",
       "  <line x1=\"-44.17\" y1=\"71.55\" x2=\"-42.43\" y2=\"70.57\" class=\"bond C2 C4\"/>\n",
       "  <line x1=\"-47.32\" y1=\"68.01\" x2=\"-43.84\" y2=\"66.04\" class=\"bond C2 C4\"/>\n",
       "  <line x1=\"-50.47\" y1=\"64.46\" x2=\"-45.25\" y2=\"61.51\" class=\"bond C2 C4\"/>\n",
       "  <line x1=\"-53.63\" y1=\"60.92\" x2=\"-46.66\" y2=\"56.98\" class=\"bond C2 C4\"/>\n",
       "  <line x1=\"-41.02\" y1=\"75.10\" x2=\"-63.07\" y2=\"94.94\" class=\"bond C2 C3\"/>\n",
       "  <line x1=\"-22.01\" y1=\"89.16\" x2=\"-41.02\" y2=\"75.10\" class=\"bond C1 C2\"/>\n",
       "  <line x1=\"-32.25\" y1=\"106.76\" x2=\"-24.31\" y2=\"88.17\" class=\"bond O1 C1\"/>\n",
       "  <line x1=\"-27.65\" y1=\"108.73\" x2=\"-19.71\" y2=\"90.14\" class=\"bond O1 C1\"/>\n",
       "  <text x=\"-94.44\" y=\"1.91\" class=\"atom element N1\">\n",
       "    N\n",
       "  </text>\n",
       "  <text x=\"117.51\" y=\"34.37\" class=\"atom element O2\">\n",
       "    O\n",
       "  </text>\n",
       "  <text x=\"95.25\" y=\"-0.57\" class=\"atom element N3\">\n",
       "    N\n",
       "  </text>\n",
       "  <text x=\"-33.49\" y=\"118.02\" class=\"atom element O1\">\n",
       "    O\n",
       "  </text>\n",
       "  <text x=\"33.85\" y=\"-116.63\" class=\"atom element O3\">\n",
       "    O\n",
       "  </text>\n",
       "  <text x=\"2.07\" y=\"94.84\" class=\"atom element N4\">\n",
       "    N\n",
       "  </text>\n",
       "  <text x=\"-117.14\" y=\"-32.97\" class=\"atom element O4\">\n",
       "    O\n",
       "  </text>\n",
       "  <text x=\"-0.79\" y=\"-94.64\" class=\"atom element N2\">\n",
       "    N\n",
       "  </text>\n",
       "</svg>\n"
      ]
     },
     "execution_count": 5,
     "metadata": {},
     "output_type": "execute_result"
    }
   ],
   "source": [
    "show (sketch2d:sketch2d cyclo)"
   ]
  },
  {
   "cell_type": "markdown",
   "id": "494eb146-6db4-4f55-9367-f18029e2c331",
   "metadata": {},
   "source": [
    "<div class=\"alert alert-block alert-info\">\n",
    "    <strong>Step 5:</b> <strong color='black'>Build a starting conformation for the macrocycle</strong></div>"
   ]
  },
  {
   "cell_type": "code",
   "execution_count": 6,
   "id": "eb9e81af-decd-4f22-8f7b-8c5da2e9d9bb",
   "metadata": {},
   "outputs": [
    {
     "name": "stdout",
     "output_type": "stream",
     "text": [
      "Done.\n"
     ]
    },
    {
     "data": {
      "text/plain": [
       "#<DYNAMICS:SIMULATION>"
      ]
     },
     "execution_count": 6,
     "metadata": {},
     "output_type": "execute_result"
    }
   ],
   "source": [
    "(starting-geometry cyclo) "
   ]
  },
  {
   "cell_type": "code",
   "execution_count": 7,
   "id": "e0c7eb23-ec34-4035-8d4c-1d6139754f9b",
   "metadata": {},
   "outputs": [
    {
     "data": {
      "application/vnd.jupyter.widget-view+json": {
       "model_id": "bea7a6870ba3469b04b1b1a27a5ba04c",
       "version_major": 2,
       "version_minor": 0
      },
      "text/plain": [
       "A Jupyter Widget"
      ]
     },
     "execution_count": 7,
     "metadata": {},
     "output_type": "execute_result"
    }
   ],
   "source": [
    "show cyclo"
   ]
  },
  {
   "cell_type": "markdown",
   "id": "cad3c003-aa62-4312-af12-db9c5c59820b",
   "metadata": {},
   "source": [
    "<div class=\"alert alert-block alert-info\">\n",
    "    <strong>Step 6:</b> <strong color='black'>Put the macrocycle in a box of chloroform</strong></div>"
   ]
  },
  {
   "cell_type": "code",
   "execution_count": 8,
   "id": "a41ca950-9666-4c4b-8b02-598b1b24b54d",
   "metadata": {},
   "outputs": [
    {
     "name": "stdout",
     "output_type": "stream",
     "text": [
      "solvate-box bounding-box -> UNBOUND\n",
      "tool-solvate-and-shell bounding-box -> UNBOUND\n",
      "Removing solvent and solute box\n",
      "Removed 0 solvent molecules\n",
      "solvent-box = #<CHEM:BOUNDING-BOX 56.496 56.496 56.496>\n",
      "Total bounding box for atom centers:   31.81  29.50  31.46\n",
      "There are 1375 solvent molecules and 132 solute atoms\n",
      "Completed  [**************************************************] ETC: --0.1 seconds\n"
     ]
    },
    {
     "data": {
      "text/plain": [
       "NIL"
      ]
     },
     "execution_count": 8,
     "metadata": {},
     "output_type": "execute_result"
    }
   ],
   "source": [
    "resolvateBox cyclo CHCL3BOX 12"
   ]
  },
  {
   "cell_type": "code",
   "execution_count": 9,
   "id": "7d2ec58c-e021-4aa7-9ca8-da4a5bb34d46",
   "metadata": {},
   "outputs": [
    {
     "data": {
      "application/vnd.jupyter.widget-view+json": {
       "model_id": "951c2f1dcc634fc4f98734d5ff3210e7",
       "version_major": 2,
       "version_minor": 0
      },
      "text/plain": [
       "A Jupyter Widget"
      ]
     },
     "execution_count": 9,
     "metadata": {},
     "output_type": "execute_result"
    }
   ],
   "source": [
    "show cyclo"
   ]
  },
  {
   "cell_type": "markdown",
   "id": "0987619f-3674-4366-b787-8b3ba07f973c",
   "metadata": {},
   "source": [
    "<div class=\"alert alert-block alert-info\">\n",
    "    <strong>Step 7:</b> <strong color='black'>Set up a complex simulation</strong></div>"
   ]
  },
  {
   "cell_type": "markdown",
   "id": "81a06d0f-549c-49e7-96f7-3c606ca459cd",
   "metadata": {},
   "source": [
    "<div class=\"alert alert-block alert-info\">\n",
    "    </b> <font color='black'>In this demo we will run a simulation that will follow these steps: 1) Minimize the strain of the macrocycle in the solvent box. 2) Heat the box to 300K. 3) Pressurize the box to 1 atm. 4) Carry out a molecular dynamics simulation</font></div>"
   ]
  },
  {
   "cell_type": "code",
   "execution_count": 10,
   "id": "7ba76973-1a53-4e37-86eb-803e1158fe3d",
   "metadata": {},
   "outputs": [
    {
     "data": {
      "text/plain": [
       "#<SIMULATION #jobs 0 NIL>"
      ]
     },
     "execution_count": 10,
     "metadata": {},
     "output_type": "execute_result"
    }
   ],
   "source": [
    "sim = (amber:simulation)"
   ]
  },
  {
   "cell_type": "code",
   "execution_count": 11,
   "id": "835e550c-36f8-484e-b192-a7709637b717",
   "metadata": {},
   "outputs": [
    {
     "data": {
      "text/plain": [
       "(#<JUPYTER-JOB START-DEFAULT>)"
      ]
     },
     "execution_count": 11,
     "metadata": {},
     "output_type": "execute_result"
    },
    {
     "name": "stdout",
     "output_type": "stream",
     "text": [
      "Setting latest-jobs simulation -> (#<JUPYTER-JOB START-DEFAULT>)\n"
     ]
    }
   ],
   "source": [
    "(amber:add-aggregate sim cyclo)"
   ]
  },
  {
   "cell_type": "code",
   "execution_count": 12,
   "id": "901a36b9-11c5-432d-81ae-5b7000348850",
   "metadata": {
    "tags": []
   },
   "outputs": [
    {
     "data": {
      "text/plain": [
       "#<SIMULATION #jobs 2 (:DEFAULT)>"
      ]
     },
     "execution_count": 12,
     "metadata": {},
     "output_type": "execute_result"
    }
   ],
   "source": [
    "(amber:minimize sim)"
   ]
  },
  {
   "cell_type": "code",
   "execution_count": 13,
   "id": "b7824d2f-9ca7-4815-b221-3701ada45553",
   "metadata": {},
   "outputs": [
    {
     "data": {
      "text/plain": [
       "#<SIMULATION #jobs 3 (:DEFAULT)>"
      ]
     },
     "execution_count": 13,
     "metadata": {},
     "output_type": "execute_result"
    }
   ],
   "source": [
    "(amber:heat sim :temperature 300.0)"
   ]
  },
  {
   "cell_type": "markdown",
   "id": "8d4e34eb-4a4f-4f83-b583-40b7d62cf20a",
   "metadata": {},
   "source": [
    "<div class=\"alert alert-block alert-success\">\n",
    "    </b> <font color='black'>Note that the pressurize command sets the box to 1 atm</font></div>"
   ]
  },
  {
   "cell_type": "code",
   "execution_count": 14,
   "id": "286d300b-6e11-4e75-94fa-0b063eb1730f",
   "metadata": {},
   "outputs": [
    {
     "data": {
      "text/plain": [
       "#<SIMULATION #jobs 4 (:DEFAULT)>"
      ]
     },
     "execution_count": 14,
     "metadata": {},
     "output_type": "execute_result"
    }
   ],
   "source": [
    "(amber:pressurize sim)"
   ]
  },
  {
   "cell_type": "markdown",
   "id": "f3fe9c1a-749d-46e0-8945-e294da98df73",
   "metadata": {},
   "source": [
    "<div class=\"alert alert-block alert-success\">\n",
    "    </b> <font color='black'>Note that the simulation time can be specified in picoseconds.</font></div>"
   ]
  },
  {
   "cell_type": "code",
   "execution_count": 15,
   "id": "8be248b3-2379-48b3-9cdc-2ad02c6f90cc",
   "metadata": {},
   "outputs": [
    {
     "data": {
      "text/plain": [
       "#<SIMULATION #jobs 5 (:DEFAULT)>"
      ]
     },
     "execution_count": 15,
     "metadata": {},
     "output_type": "execute_result"
    }
   ],
   "source": [
    "(amber:dynamics sim :time-ps 100)"
   ]
  },
  {
   "cell_type": "markdown",
   "id": "db3990de-7456-4e41-9e80-2483261399d1",
   "metadata": {},
   "source": [
    "<div class=\"alert alert-block alert-info\">\n",
    "    <strong>Step 10:</b> <strong color='black'>Run the simulation</strong></div>"
   ]
  },
  {
   "cell_type": "markdown",
   "id": "d62e2678-f77d-416f-8982-7de3838a6d50",
   "metadata": {},
   "source": [
    "<div class=\"alert alert-block alert-success\">\n",
    "    </b> <font color='black'> This will write the simulation to the data/cyclo directory and then run it</font></div>"
   ]
  },
  {
   "cell_type": "code",
   "execution_count": 16,
   "id": "38b58d85-9755-4743-b663-6b123a4c5cbf",
   "metadata": {},
   "outputs": [
    {
     "name": "stdout",
     "output_type": "stream",
     "text": [
      "Constructing energy function - please wait\n",
      "Writing to /home/avadremann/cando-demos/data/cyclo/start-DEFAULT.parm\n",
      "Starting prepare-amber-energy-dihedral\n",
      "Ordering i1,i2,i3,i4 prepare-amber-energy-dihedral\n",
      "1-4 interactions prepare-amber-energy-dihedral\n",
      "Counting w and w/o water prepare-amber-energy-dihedral\n",
      "Extracting prepare-amber-energy-dihedral\n",
      "Saving     [*******************************************] ETC: --\n"
     ]
    },
    {
     "data": {
      "text/plain": [
       "NIL"
      ]
     },
     "execution_count": 16,
     "metadata": {},
     "output_type": "execute_result"
    },
    {
     "name": "stdout",
     "output_type": "stream",
     "text": [
      "Writing build-file to /home/avadremann/cando-demos/data/cyclo/build.ninja\n",
      "process.lisp:242 Returning process #S(EXT::EXTERNAL-PROCESS :PID 10445 :INPUT #<IOSTREAM-STREAM \"parent-write\"> :OUTPUT #<IOSTREAM-STREAM \"parent-read\"> :ERROR-STREAM #<IOSTREAM-STREAM \"parent-error\"> :%STATUS :RUNNING :%CODE NIL :%LOCK #<MUTEX \"external-process-lock\" :owner NIL :counter 0 @0x7f01fb0f0319> :%PIPE #<PROCESS \"external-process\" @0x7f01ee3bc309 (Not yet started)>)\n"
     ]
    }
   ],
   "source": [
    "(amber:start-simulation sim :name \"data/cyclo/\")"
   ]
  },
  {
   "cell_type": "code",
   "execution_count": 17,
   "id": "4b1c31a1-0e96-4ac3-8218-f1fec8ee3d11",
   "metadata": {},
   "outputs": [
    {
     "data": {
      "application/vnd.jupyter.widget-view+json": {
       "model_id": "5c0eeae694144019fca2b6205b3127bf",
       "version_major": 2,
       "version_minor": 0
      },
      "text/plain": [
       "A Jupyter Widget"
      ]
     },
     "execution_count": 17,
     "metadata": {},
     "output_type": "execute_result"
    }
   ],
   "source": [
    "(amber.jupyter::monitor sim)"
   ]
  },
  {
   "cell_type": "markdown",
   "id": "6a3162f6-5244-4eb3-9b26-0b96d36082e9",
   "metadata": {},
   "source": [
    "## Display a movie of the trajectory."
   ]
  },
  {
   "cell_type": "code",
   "execution_count": 18,
   "id": "aba56dc7-38f7-44fa-9ded-35d9ea79de7a",
   "metadata": {},
   "outputs": [
    {
     "data": {
      "text/plain": [
       "#<LEAP.TOPOLOGY:AMBER-TOPOLOGY-TRAJECTORY-PAIR>"
      ]
     },
     "execution_count": 18,
     "metadata": {},
     "output_type": "execute_result"
    }
   ],
   "source": [
    "traj = (load-amber-topology-trajectory-pair :topology-filename \"data/cyclo/start-DEFAULT.parm\"\n",
    "                                            :coordinate-filename \"data/cyclo/dynamics-DEFAULT.nc\")"
   ]
  },
  {
   "cell_type": "markdown",
   "id": "bda1ecc3-b94d-4819-bb51-d71167d71535",
   "metadata": {},
   "source": [
    "### Press play or use the slider.  You may need to rotate the atoms into view.  This is a work in progress."
   ]
  },
  {
   "cell_type": "code",
   "execution_count": 19,
   "id": "2a3e0fb5-0e25-4ac8-bff6-b66be1a9937e",
   "metadata": {},
   "outputs": [
    {
     "data": {
      "application/vnd.jupyter.widget-view+json": {
       "model_id": "88562eb9ea69412bbc75ab86c236174c",
       "version_major": 2,
       "version_minor": 0
      },
      "text/plain": [
       "A Jupyter Widget"
      ]
     },
     "execution_count": 19,
     "metadata": {},
     "output_type": "execute_result"
    }
   ],
   "source": [
    "show traj"
   ]
  },
  {
   "cell_type": "code",
   "execution_count": null,
   "id": "f4744904-e669-40d5-82c1-5ea299b49c8d",
   "metadata": {},
   "outputs": [],
   "source": []
  },
  {
   "cell_type": "markdown",
   "id": "411868fb-1e71-4153-afba-9ad44babc72d",
   "metadata": {},
   "source": [
    "edited by Ava Dremann 07-05-2022, 07-07-2022"
   ]
  }
 ],
 "metadata": {
  "kernelspec": {
   "display_name": "Cando",
   "language": "cando",
   "name": "cando"
  },
  "language_info": {
   "codemirror_mode": "text/x-common-lisp",
   "file_extension": ".lisp",
   "mimetype": "text/x-common-lisp",
   "name": "common-lisp",
   "pygments_lexer": "common-lisp",
   "version": "eclasp-boehmprecise-1.0.0-327-gdf71e1a14-gf032ebd0-cst"
  }
 },
 "nbformat": 4,
 "nbformat_minor": 5
}
