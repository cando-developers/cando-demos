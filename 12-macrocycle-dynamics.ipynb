{
 "cells": [
  {
   "cell_type": "markdown",
   "id": "d7e3903e-8c48-4f70-afbf-bcfdae4ff857",
   "metadata": {
    "tags": []
   },
   "source": [
    "# Molecular Dynamics of a macrocycle in chloroform"
   ]
  },
  {
   "cell_type": "markdown",
   "id": "09bfc0cf-ea6e-4ecc-86ad-37e7745426a9",
   "metadata": {
    "tags": []
   },
   "source": [
    "## First we setup to use the Generalized Amber Force Field (GAFF)"
   ]
  },
  {
   "cell_type": "code",
   "execution_count": null,
   "id": "f5570468-b101-49e2-9d4b-03099c2df56f",
   "metadata": {
    "tags": []
   },
   "outputs": [],
   "source": [
    "(load-atom-type-rules \"ATOMTYPE_GFF.DEF\")"
   ]
  },
  {
   "cell_type": "code",
   "execution_count": null,
   "id": "af87a26f-05c5-4396-98ea-36eb40947053",
   "metadata": {},
   "outputs": [],
   "source": [
    "loadAmberParams \"gaff.dat\""
   ]
  },
  {
   "cell_type": "markdown",
   "id": "92a55751-f758-4f48-b870-53ed158f162e",
   "metadata": {},
   "source": [
    "## Then we load solvent boxes."
   ]
  },
  {
   "cell_type": "code",
   "execution_count": null,
   "id": "b445f930-fbbe-49de-a237-9af6d81a46fe",
   "metadata": {},
   "outputs": [],
   "source": [
    "source \"leaprc.water.tip3p\""
   ]
  },
  {
   "cell_type": "markdown",
   "id": "0ce86fba-0d63-4af6-9472-f6c276a0eb9f",
   "metadata": {},
   "source": [
    "## We sketched the macrocycle with the desired stereochemistry and double bond geometry in Chemdraw and copied it as a SMILES string."
   ]
  },
  {
   "cell_type": "code",
   "execution_count": null,
   "id": "66889dfd-70af-4ffa-9b24-1a38d7bc749b",
   "metadata": {
    "tags": []
   },
   "outputs": [],
   "source": [
    "cyclo = smiles \"O=C1[C@H](C)/C=C(CN(C([C@H](C)/C=C(CN(C([C@H](C)/C=C(CN(C([C@H](C)/C=C(CN1CC2=CC=CC=C2)\\\\C)=O)CC3=CC=CC=C3)\\\\C)=O)CC4=CC=CC=C4)\\\\C)=O)CC5=CC=CC=C5)\\\\C\""
   ]
  },
  {
   "cell_type": "markdown",
   "id": "9c5faacf-7a58-41c3-8de2-e8949921a7ed",
   "metadata": {},
   "source": [
    "## Let's see what it looks like (it may appear a bit distorted)."
   ]
  },
  {
   "cell_type": "code",
   "execution_count": null,
   "id": "8e587a5d-977f-4772-b461-8680ed20fa85",
   "metadata": {},
   "outputs": [],
   "source": [
    "show (sketch2d:sketch2d cyclo)"
   ]
  },
  {
   "cell_type": "markdown",
   "id": "a487a5f9-f63e-480e-a9f6-80f0457c54b4",
   "metadata": {},
   "source": [
    "## Let's build a starting conformation for the macrocycle."
   ]
  },
  {
   "cell_type": "code",
   "execution_count": null,
   "id": "eb9e81af-decd-4f22-8f7b-8c5da2e9d9bb",
   "metadata": {},
   "outputs": [],
   "source": [
    "(starting-geometry cyclo) "
   ]
  },
  {
   "cell_type": "code",
   "execution_count": null,
   "id": "e0c7eb23-ec34-4035-8d4c-1d6139754f9b",
   "metadata": {},
   "outputs": [],
   "source": [
    "show cyclo"
   ]
  },
  {
   "cell_type": "markdown",
   "id": "9d81796c-2bdb-458d-b083-d6d82c41ffb2",
   "metadata": {},
   "source": [
    "## We are going to put the macrocycle into a box of chloroform. resolvateBox removes any existing solvent and bounding box."
   ]
  },
  {
   "cell_type": "code",
   "execution_count": null,
   "id": "a41ca950-9666-4c4b-8b02-598b1b24b54d",
   "metadata": {},
   "outputs": [],
   "source": [
    "resolvateBox cyclo CHCL3BOX 8"
   ]
  },
  {
   "cell_type": "code",
   "execution_count": null,
   "id": "7d2ec58c-e021-4aa7-9ca8-da4a5bb34d46",
   "metadata": {},
   "outputs": [],
   "source": [
    "show cyclo"
   ]
  },
  {
   "cell_type": "markdown",
   "id": "af101037-ed1d-42a2-af9b-b1e092772c8e",
   "metadata": {
    "tags": []
   },
   "source": [
    "## Now setup a simulation where we will...\n",
    "1. Minimize the strain of the macrocycle in the solvent box.\n",
    "2. Heat the box to 300K.\n",
    "3. Pressurize the box to 1 atm.\n",
    "4. Carry out a molecular dynamics simulation."
   ]
  },
  {
   "cell_type": "code",
   "execution_count": null,
   "id": "7ba76973-1a53-4e37-86eb-803e1158fe3d",
   "metadata": {},
   "outputs": [],
   "source": [
    "sim = (amber:simulation)"
   ]
  },
  {
   "cell_type": "code",
   "execution_count": null,
   "id": "835e550c-36f8-484e-b192-a7709637b717",
   "metadata": {},
   "outputs": [],
   "source": [
    "(amber:add-aggregate sim cyclo)"
   ]
  },
  {
   "cell_type": "code",
   "execution_count": null,
   "id": "901a36b9-11c5-432d-81ae-5b7000348850",
   "metadata": {
    "tags": []
   },
   "outputs": [],
   "source": [
    "(amber:minimize sim)"
   ]
  },
  {
   "cell_type": "code",
   "execution_count": null,
   "id": "b7824d2f-9ca7-4815-b221-3701ada45553",
   "metadata": {},
   "outputs": [],
   "source": [
    "(amber:heat sim :temperature 300.0)"
   ]
  },
  {
   "cell_type": "code",
   "execution_count": null,
   "id": "286d300b-6e11-4e75-94fa-0b063eb1730f",
   "metadata": {},
   "outputs": [],
   "source": [
    "(amber:pressurize sim)"
   ]
  },
  {
   "cell_type": "code",
   "execution_count": null,
   "id": "8be248b3-2379-48b3-9cdc-2ad02c6f90cc",
   "metadata": {},
   "outputs": [],
   "source": [
    "(amber:dynamics sim :time-ps 100)"
   ]
  },
  {
   "cell_type": "markdown",
   "id": "f0adfe33-4561-45e4-9b99-e28d5e343eb3",
   "metadata": {},
   "source": [
    "## Run the simulation. This will write the simulation to the `data/ambertools/cyclo` directory and then run it."
   ]
  },
  {
   "cell_type": "code",
   "execution_count": null,
   "id": "38b58d85-9755-4743-b663-6b123a4c5cbf",
   "metadata": {},
   "outputs": [],
   "source": [
    "(amber:start-simulation sim :name \"data/cyclo/\")"
   ]
  },
  {
   "cell_type": "code",
   "execution_count": null,
   "id": "4b1c31a1-0e96-4ac3-8218-f1fec8ee3d11",
   "metadata": {},
   "outputs": [],
   "source": [
    "(amber.jupyter::monitor sim)"
   ]
  },
  {
   "cell_type": "markdown",
   "id": "6a3162f6-5244-4eb3-9b26-0b96d36082e9",
   "metadata": {},
   "source": [
    "## Display a movie of the trajectory."
   ]
  },
  {
   "cell_type": "code",
   "execution_count": null,
   "id": "aba56dc7-38f7-44fa-9ded-35d9ea79de7a",
   "metadata": {},
   "outputs": [],
   "source": [
    "traj = (load-amber-topology-trajectory-pair :topology-filename \"data/cyclo/start-DEFAULT.parm\"\n",
    "                                            :coordinate-filename \"data/cyclo/dynamics-DEFAULT.nc\")"
   ]
  },
  {
   "cell_type": "markdown",
   "id": "bda1ecc3-b94d-4819-bb51-d71167d71535",
   "metadata": {},
   "source": [
    "### Press play or use the slider.  You may need to rotate the atoms into view.  This is a work in progress."
   ]
  },
  {
   "cell_type": "code",
   "execution_count": null,
   "id": "2a3e0fb5-0e25-4ac8-bff6-b66be1a9937e",
   "metadata": {},
   "outputs": [],
   "source": [
    "show traj"
   ]
  }
 ],
 "metadata": {
  "kernelspec": {
   "display_name": "dev-scando",
   "language": "lisp",
   "name": "dev-scando"
  },
  "language_info": {
   "codemirror_mode": "text/x-common-lisp",
   "file_extension": ".lisp",
   "mimetype": "text/x-common-lisp",
   "name": "common-lisp",
   "pygments_lexer": "common-lisp",
   "version": "eclasp-boehmprecise-1.0.0-322-g982404b45-g2b0699a8-cst"
  }
 },
 "nbformat": 4,
 "nbformat_minor": 5
}
