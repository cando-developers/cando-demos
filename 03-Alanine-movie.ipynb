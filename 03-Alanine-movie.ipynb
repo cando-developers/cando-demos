{
 "cells": [
  {
   "cell_type": "markdown",
   "metadata": {},
   "source": [
    "# Build an alanine residue"
   ]
  },
  {
   "cell_type": "markdown",
   "metadata": {},
   "source": [
    "Setup the AMBER paths."
   ]
  },
  {
   "cell_type": "code",
   "execution_count": 1,
   "metadata": {},
   "outputs": [
    {
     "data": {
      "text/plain": [
       "(#P\"/Users/meister/Development/amber18/dat/antechamber/\"\n",
       " #P\"/Users/meister/Development/amber18/dat/leap/cmd/oldff/\"\n",
       " #P\"/Users/meister/Development/amber18/dat/leap/cmd/\"\n",
       " #P\"/Users/meister/Development/amber18/dat/leap/parm/\"\n",
       " #P\"/Users/meister/Development/amber18/dat/leap/lib/\"\n",
       " #P\"/Users/meister/Development/amber18/dat/leap/prep/\")"
      ]
     },
     "execution_count": 1,
     "metadata": {},
     "output_type": "execute_result"
    }
   ],
   "source": [
    "(setup-amber-paths)"
   ]
  },
  {
   "cell_type": "code",
   "execution_count": 3,
   "metadata": {},
   "outputs": [
    {
     "ename": "SYMBOL-DOES-NOT-EXIST",
     "evalue": "Symbol named \"PNG\" not found in the COMMON-LISP-JUPYTER package.",
     "execution_count": 3,
     "output_type": "error",
     "traceback": []
    },
    {
     "name": "stderr",
     "output_type": "stream",
     "text": [
      "Symbol named \"PNG\" not found in the COMMON-LISP-JUPYTER package."
     ]
    }
   ],
   "source": [
    "(common-lisp-jupyter:png \"data/alanine/alanine.png\")"
   ]
  },
  {
   "cell_type": "markdown",
   "metadata": {},
   "source": [
    "Load the residue from a Chemdraw sketch. Put the aggregate in "
   ]
  },
  {
   "cell_type": "code",
   "execution_count": 4,
   "metadata": {},
   "outputs": [
    {
     "data": {
      "text/plain": [
       "*CHEMAGG*"
      ]
     },
     "execution_count": 4,
     "metadata": {},
     "output_type": "execute_result"
    }
   ],
   "source": [
    "(defparameter *chemagg* (load-chem-draw-aggregate \"data/alanine/alanine2.cdxml\"))"
   ]
  },
  {
   "cell_type": "code",
   "execution_count": 5,
   "metadata": {},
   "outputs": [
    {
     "data": {
      "text/plain": [
       "#<FORCE-FIELD ATOMTYPE_AMBER.DEF>"
      ]
     },
     "execution_count": 5,
     "metadata": {},
     "output_type": "execute_result"
    }
   ],
   "source": [
    "(load-atom-type-rules \"ATOMTYPE_AMBER.DEF\")"
   ]
  },
  {
   "cell_type": "code",
   "execution_count": 6,
   "metadata": {
    "scrolled": true
   },
   "outputs": [
    {
     "data": {
      "application/vnd.jupyter.widget-view+json": {
       "model_id": "cc7d137884e1447d936af52ca57909c8",
       "version_major": 2,
       "version_minor": 0
      },
      "text/plain": [
       "A Jupyter Widget"
      ]
     },
     "metadata": {},
     "output_type": "display_data"
    }
   ],
   "source": [
    "(show *chemagg*)"
   ]
  },
  {
   "cell_type": "code",
   "execution_count": 7,
   "metadata": {},
   "outputs": [
    {
     "data": {
      "text/plain": [
       "*STEREOCENTERS*"
      ]
     },
     "execution_count": 7,
     "metadata": {},
     "output_type": "execute_result"
    }
   ],
   "source": [
    "(defparameter *stereocenters* (cando:gather-stereocenters *chemagg*))"
   ]
  },
  {
   "cell_type": "code",
   "execution_count": 8,
   "metadata": {},
   "outputs": [
    {
     "data": {
      "text/plain": [
       "NIL"
      ]
     },
     "execution_count": 8,
     "metadata": {},
     "output_type": "execute_result"
    }
   ],
   "source": [
    "(set-stereoisomer-func *stereocenters* (lambda (c) :R))"
   ]
  },
  {
   "cell_type": "code",
   "execution_count": 11,
   "metadata": {},
   "outputs": [
    {
     "name": "stdout",
     "output_type": "stream",
     "text": [
      "Saving matter to /Users/meister/Development/cando-demos/alanine2.mol2\n",
      "Warning!  Skipping 10-12 hbond in #<IOSTREAM-STREAM #P\"/Users/meister/Development/amber18/dat/leap/parm/gaff.dat\">\n",
      "Warning!  Skipping force field atom equivalences in #<IOSTREAM-STREAM #P\"/Users/meister/Development/amber18/dat/leap/parm/gaff.dat\">\n",
      "Adding force field gaff.dat to DEFAULT\n",
      "Entered minimize\n",
      "======= Starting Steepest Descent Minimizer\n",
      " minSDnP       0    10     -7.75   0.0        5087550.613       72833054.945\n",
      " minSDnP       0    20     -8.05   0.0         611265.328        7287982.364\n",
      " minSDnP       0    30     -7.85   0.0         119098.575        1185249.789\n",
      " minSDnP       0    40     -7.88   0.0          28179.416         152381.261\n",
      " minSDnP       0    50     -7.65   0.0          11260.016          36291.532\n",
      " minSDnP       0    60     -7.69   0.0           5671.038          12785.465\n",
      " minSDnP       0    70     -7.82   0.0           3567.405           6758.928\n",
      "---Stage-Seconds--Step-log(Alpha)--Prev.dir--------Energy-----------RMSforce\n",
      " minSDnP       0    76     -7.87   0.0           2877.830           4980.459\n",
      " ! DONE absolute force test:\n",
      " ! forceRmsMag(4.980459e+03) < forceTolerance(5.000000e+03)\n",
      "======= Starting Conjugate Gradient Minimizer\n",
      " minCGnP       0    80     -7.90  15.2            834.743           2342.803\n",
      " minCGnP       0    90     -8.22  72.1            529.770            675.048\n",
      " minCGnP       0   100     -6.69  59.6            345.907            298.367\n",
      " minCGnP       0   110     -6.83  63.2            299.669             93.388\n",
      " minCGnP       0   120     -7.35  57.9            282.016             50.974\n",
      " minCGnP       0   130     -8.02  73.9            278.904              9.795\n",
      " minCGnP       0   140     -7.73  78.3            277.401              3.540\n",
      " minCGnP       0   150     -6.50  68.5            276.336              3.535\n",
      " minCGnP       0   160     -8.02  82.3            274.870              5.795\n",
      " minCGnP       0   170     -7.15  73.8            271.116              8.070\n",
      " minCGnP       0   180     -6.69  64.6            269.622              3.162\n",
      " minCGnP       0   190     -8.20  81.3            269.196              2.909\n",
      " minCGnP       0   200     -6.46  79.6            268.123              7.424\n",
      " minCGnP       0   210     -7.52  44.4            267.650              1.341\n",
      "---Stage-Seconds--Step-log(Alpha)--Prev.dir--------Energy-----------RMSforce\n",
      " minCGnP       0   218     -6.58  70.5            267.463              0.366\n",
      " ! DONE absolute force test:\n",
      " ! forceRmsMag(0.366182)<forceTolerance(0.500000)\n",
      "======= Skipping Truncated Newton #steps = 0\n",
      "======= All three minimizers have completed or passed on minimization.\n"
     ]
    },
    {
     "data": {
      "text/plain": [
       "NIL"
      ]
     },
     "execution_count": 11,
     "metadata": {},
     "output_type": "execute_result"
    },
    {
     "data": {
      "text/plain": [
       "#<FORCE-FIELD gaff.dat>"
      ]
     },
     "execution_count": 11,
     "metadata": {},
     "output_type": "execute_result"
    },
    {
     "data": {
      "text/plain": [
       "NIL"
      ]
     },
     "execution_count": 11,
     "metadata": {},
     "output_type": "execute_result"
    },
    {
     "data": {
      "text/plain": [
       "#<ENERGY-FUNCTION >"
      ]
     },
     "execution_count": 11,
     "metadata": {},
     "output_type": "execute_result"
    }
   ],
   "source": [
    "(save-mol2 *chemagg* \"alanine2.mol2\")\n",
    "(easy-gaff)\n",
    "(jostle *chemagg*)\n",
    "(energy:minimize *chemagg*)"
   ]
  },
  {
   "cell_type": "code",
   "execution_count": 12,
   "metadata": {
    "scrolled": true
   },
   "outputs": [
    {
     "data": {
      "application/vnd.jupyter.widget-view+json": {
       "model_id": "4398f1bc22b94b47ecccaae76cc732d9",
       "version_major": 2,
       "version_minor": 0
      },
      "text/plain": [
       "A Jupyter Widget"
      ]
     },
     "metadata": {},
     "output_type": "display_data"
    }
   ],
   "source": [
    "(show *chemagg*)"
   ]
  },
  {
   "cell_type": "code",
   "execution_count": 13,
   "metadata": {},
   "outputs": [
    {
     "data": {
      "text/plain": [
       "NIL"
      ]
     },
     "execution_count": 13,
     "metadata": {},
     "output_type": "execute_result"
    }
   ],
   "source": [
    "(jostle *chemagg* 40)"
   ]
  },
  {
   "cell_type": "code",
   "execution_count": 14,
   "metadata": {},
   "outputs": [
    {
     "data": {
      "application/vnd.jupyter.widget-view+json": {
       "model_id": "199fbf4573424b0bead22507eb5c692e",
       "version_major": 2,
       "version_minor": 0
      },
      "text/plain": [
       "A Jupyter Widget"
      ]
     },
     "metadata": {},
     "output_type": "display_data"
    }
   ],
   "source": [
    "(show *chemagg*)"
   ]
  },
  {
   "cell_type": "code",
   "execution_count": 17,
   "metadata": {},
   "outputs": [
    {
     "data": {
      "text/plain": [
       "*ENERGY*"
      ]
     },
     "execution_count": 17,
     "metadata": {},
     "output_type": "execute_result"
    }
   ],
   "source": [
    "(defparameter *energy* (chem:make-energy-function :matter *chemagg*))"
   ]
  },
  {
   "cell_type": "code",
   "execution_count": 18,
   "metadata": {},
   "outputs": [
    {
     "data": {
      "text/plain": [
       "*MIN*"
      ]
     },
     "execution_count": 18,
     "metadata": {},
     "output_type": "execute_result"
    }
   ],
   "source": [
    "(defparameter *min* (chem:make-minimizer *energy*))"
   ]
  },
  {
   "cell_type": "code",
   "execution_count": 23,
   "metadata": {},
   "outputs": [
    {
     "name": "stdout",
     "output_type": "stream",
     "text": [
      "CANDO-TRAJECTORY\n",
      "CANDO-JUPYTER::MAKE-CANDO-TRAJECTORY\n"
     ]
    }
   ],
   "source": [
    "(apropos \"cando-trajectory\")"
   ]
  },
  {
   "cell_type": "code",
   "execution_count": 31,
   "metadata": {},
   "outputs": [
    {
     "data": {
      "text/plain": [
       "*TRAJ*"
      ]
     },
     "execution_count": 31,
     "metadata": {},
     "output_type": "execute_result"
    }
   ],
   "source": [
    "(defparameter *traj* (make-instance 'cando-trajectory\n",
    "                                    :matter *chemagg*))"
   ]
  },
  {
   "cell_type": "code",
   "execution_count": 32,
   "metadata": {},
   "outputs": [],
   "source": [
    "(chem:set-step-callback *min* (lambda (coords) (let ((arr (make-array (length coords) :element-type 'single-float)))\n",
    "                                                    (loop for idx below (length coords)\n",
    "                                                          do (setf (aref arr idx) (float (aref coords idx) 1s0)))\n",
    "                                                            (nglv:append-coordinates *traj* arr))))"
   ]
  },
  {
   "cell_type": "code",
   "execution_count": 33,
   "metadata": {},
   "outputs": [
    {
     "name": "stdout",
     "output_type": "stream",
     "text": [
      "======= Starting Steepest Descent Minimizer\n",
      "---Stage-Seconds--Step-log(Alpha)--Prev.dir--------Energy-----------RMSforce\n",
      " minSDnP       0   217      -inf  90.0            269.198              0.321\n",
      " ! DONE absolute force test:\n",
      " ! forceRmsMag(3.209900e-01) < forceTolerance(5.000000e+03)\n",
      "======= Starting Conjugate Gradient Minimizer\n",
      "---Stage-Seconds--Step-log(Alpha)--Prev.dir--------Energy-----------RMSforce\n",
      " minCGnP       0   217      -inf  90.0            269.198              0.321\n",
      " ! DONE absolute force test:\n",
      " ! forceRmsMag(0.320990)<forceTolerance(0.500000)\n",
      "======= Skipping Truncated Newton #steps = 0\n",
      "======= All three minimizers have completed or passed on minimization.\n"
     ]
    }
   ],
   "source": [
    "(energy:minimize-minimizer *min* )"
   ]
  },
  {
   "cell_type": "code",
   "execution_count": 34,
   "metadata": {},
   "outputs": [
    {
     "data": {
      "text/plain": [
       "#<CANDO-JUPYTER:CANDO-TRAJECTORY>"
      ]
     },
     "execution_count": 34,
     "metadata": {},
     "output_type": "execute_result"
    }
   ],
   "source": [
    "*traj*"
   ]
  },
  {
   "cell_type": "code",
   "execution_count": 35,
   "metadata": {},
   "outputs": [
    {
     "ename": "UNDEFINED-FUNCTION",
     "evalue": "The function CANDO-JUPYTER:TRAJECTORY is undefined.",
     "execution_count": 35,
     "output_type": "error",
     "traceback": []
    },
    {
     "name": "stdout",
     "output_type": "stream",
     "text": [
      "\n",
      "UNDEFINED-FUNCTION-WARNING: \n",
      "  Undefined function TRAJECTORY\n"
     ]
    },
    {
     "name": "stderr",
     "output_type": "stream",
     "text": [
      "The function CANDO-JUPYTER:TRAJECTORY is undefined."
     ]
    }
   ],
   "source": [
    "(length (aref (cando-jupyter::trajectory *traj*) 0))"
   ]
  },
  {
   "cell_type": "code",
   "execution_count": 36,
   "metadata": {},
   "outputs": [
    {
     "ename": "SIMPLE-PROGRAM-ERROR",
     "evalue": "When calling %LOAD-DATA the bad keyword argument :NAME was passed",
     "execution_count": 36,
     "output_type": "error",
     "traceback": []
    },
    {
     "name": "stderr",
     "output_type": "stream",
     "text": [
      "When calling %LOAD-DATA the bad keyword argument :NAME was passed"
     ]
    }
   ],
   "source": [
    "(show *traj*)"
   ]
  },
  {
   "cell_type": "code",
   "execution_count": null,
   "metadata": {},
   "outputs": [],
   "source": [
    "(leap.topology:save-amber-parm-format *chemagg* \"chemagg.top\" \"chemagg.crd\")"
   ]
  },
  {
   "cell_type": "code",
   "execution_count": 37,
   "metadata": {},
   "outputs": [
    {
     "data": {
      "text/plain": [
       "T"
      ]
     },
     "execution_count": 37,
     "metadata": {},
     "output_type": "execute_result"
    },
    {
     "name": "stdout",
     "output_type": "stream",
     "text": [
      "Checking SLIME_HOME\n",
      "About to start swank server\n",
      "Started swank server\n"
     ]
    }
   ],
   "source": [
    "startSwank"
   ]
  },
  {
   "cell_type": "code",
   "execution_count": null,
   "metadata": {},
   "outputs": [],
   "source": []
  }
 ],
 "metadata": {
  "kernelspec": {
   "display_name": "cando",
   "language": "lisp",
   "name": "cando"
  },
  "language_info": {
   "codemirror_mode": "text/x-common-lisp",
   "file_extension": ".lisp",
   "mimetype": "text/x-common-lisp",
   "name": "common-lisp",
   "pygments_lexer": "common-lisp",
   "version": "cclasp-boehm-0.4.2-2681-g9d65ff206-cst"
  }
 },
 "nbformat": 4,
 "nbformat_minor": 4
}
