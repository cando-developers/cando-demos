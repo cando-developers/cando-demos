{
 "cells": [
  {
   "cell_type": "markdown",
   "metadata": {},
   "source": [
    "# A Cando Demo\n",
    "We are going to explore two catalyst designs to look for macromolecules that could wrap around a Zr-O metal cluster and leave open coordination sites that could bind and hydrolyze reactive phosphate esters."
   ]
  },
  {
   "cell_type": "markdown",
   "metadata": {},
   "source": [
    "### NOTE: Some/all of the interactive display windows are clipped and display a scroll-bar.  \n",
    "#### This isn't good for interactive viewing.  \n",
    "#### Solution: Right click on the window and select \"Disable Scrolling For Outputs\"."
   ]
  },
  {
   "cell_type": "markdown",
   "metadata": {},
   "source": [
    "## To replay the calculations in this notebook:\n",
    "\n",
    "Click on this text box and then hit Shift-Enter to evaluate each cell.\n",
    "\n",
    "Some cells take a few seconds to minutes to evaluate - wait until output appears before moving on to the next cell."
   ]
  },
  {
   "cell_type": "markdown",
   "metadata": {},
   "source": [
    "### We will start with a chemdraw structure for a designed molecule that presents six carboxylic acids that could displace benzoic acids from a crystal structure of a Zr-O cluster.\n",
    "\n",
    "It turns out that this is a poor design - but suggests some ideas on how to make a better one.\n",
    "\n",
    "Chemdraw was used to draw the structure - we will use the saved chemdraw file to build a three-dimensional structure of the catalyst design and wrap it around a Zr-O cluster to see if the resulting geometry is chemically reasonable."
   ]
  },
  {
   "cell_type": "code",
   "execution_count": null,
   "metadata": {},
   "outputs": [],
   "source": [
    "(jupyter:png-file \"data/cat-design/trimer.png\")"
   ]
  },
  {
   "cell_type": "markdown",
   "metadata": {},
   "source": [
    "### First we will load the X-ray crystal structure of the Zr-O cluster.\n",
    "\n",
    "It is surrounded by benzoic acid groups (I don't have the Cambridge Crystallographic Database accession number in hand when I created this demo)."
   ]
  },
  {
   "cell_type": "code",
   "execution_count": null,
   "metadata": {},
   "outputs": [],
   "source": [
    "(defparameter *zr* (load-mol2 \"data/cat-design/renamed-zrcluster.mol2\"))"
   ]
  },
  {
   "cell_type": "markdown",
   "metadata": {},
   "source": [
    "#### You can look at the structure and manipulate it using your mouse.\n",
    "\n",
    "Rotate the molecule by dragging the left mouse button (or trackpad) within the view below.\n",
    "\n",
    "Zoom (two button drag scroll or scroll wheel).\n",
    "\n",
    "Pick atoms (hover over an atom and left button click).\n",
    "\n",
    "At the bottom right corner of the view above is a very small control, drag that to make the view larger or smaller.\n",
    "\n",
    "Double click with left button to go full screen, hit Escape to return to browser."
   ]
  },
  {
   "cell_type": "code",
   "execution_count": null,
   "metadata": {},
   "outputs": [],
   "source": [
    "(defparameter *zr-view* (show *zr*)) *zr-view*"
   ]
  },
  {
   "cell_type": "markdown",
   "metadata": {},
   "source": [
    "## Load and build 3D coordinates of trimer"
   ]
  },
  {
   "cell_type": "code",
   "execution_count": null,
   "metadata": {},
   "outputs": [],
   "source": [
    "(defparameter *agg* (load-chem-draw-aggregate \"data/cat-design/trimer.cdxml\"))"
   ]
  },
  {
   "cell_type": "code",
   "execution_count": null,
   "metadata": {},
   "outputs": [],
   "source": [
    "(chem:fill-in-implicit-hydrogens *agg*)\n",
    "(build-unbuilt-hydrogens *agg*)"
   ]
  },
  {
   "cell_type": "code",
   "execution_count": null,
   "metadata": {},
   "outputs": [],
   "source": [
    "(show *agg*)"
   ]
  },
  {
   "cell_type": "markdown",
   "metadata": {},
   "source": [
    "The structure above is the Chemdraw structure with no depth.  It illustrates that the Chemdraw structure is loaded successfuly into Cando."
   ]
  },
  {
   "cell_type": "code",
   "execution_count": null,
   "metadata": {},
   "outputs": [],
   "source": [
    "(defparameter *stereocenters* (stereocenters-sorted-by-name *agg*))"
   ]
  },
  {
   "cell_type": "code",
   "execution_count": null,
   "metadata": {},
   "outputs": [],
   "source": [
    "(set-all-stereocenters-to *stereocenters* :S :show t)"
   ]
  },
  {
   "cell_type": "markdown",
   "metadata": {},
   "source": [
    "We randomly displace all atoms to assist the energy minimization that we are about to do below."
   ]
  },
  {
   "cell_type": "code",
   "execution_count": null,
   "metadata": {},
   "outputs": [],
   "source": [
    "(jostle *agg* 20)"
   ]
  },
  {
   "cell_type": "code",
   "execution_count": null,
   "metadata": {},
   "outputs": [],
   "source": [
    "(show *agg*)"
   ]
  },
  {
   "cell_type": "markdown",
   "metadata": {},
   "source": [
    "In the view above, atoms are randomly jostled in space to break them out of \"flatland\"."
   ]
  },
  {
   "cell_type": "markdown",
   "metadata": {},
   "source": [
    "## Below we construct a chemically reasonable structure of the molecule by minimizing the conformation energy. \n",
    "\n",
    "This does a lot of things in sequence:\n",
    "\n",
    "1) Cando automatically assigns atom types.\n",
    "\n",
    "2) Cando assigns Generalized Amber Force Field (GAFF) parameters.\n",
    "\n",
    "3) Cando minimizes the energy of the structure, automatically switching between three energy minimizers to take advantage of their different speed/convergence characteristics."
   ]
  },
  {
   "cell_type": "code",
   "execution_count": null,
   "metadata": {},
   "outputs": [],
   "source": [
    "(easy-gaff)"
   ]
  },
  {
   "cell_type": "markdown",
   "metadata": {},
   "source": [
    "#### You can ignore the warnings above."
   ]
  },
  {
   "cell_type": "code",
   "execution_count": null,
   "metadata": {},
   "outputs": [],
   "source": [
    "(build-unbuilt-hydrogens *agg*)"
   ]
  },
  {
   "cell_type": "code",
   "execution_count": null,
   "metadata": {},
   "outputs": [],
   "source": [
    "(energy:minimize *agg* \n",
    "                 :restraints-on t\n",
    "                 :max-sd-steps 5000\n",
    "                 :sd-tolerance 5000.0\n",
    "                 :max-cg-steps 1000)"
   ]
  },
  {
   "cell_type": "code",
   "execution_count": null,
   "metadata": {
    "scrolled": true
   },
   "outputs": [],
   "source": [
    "(show *agg*)"
   ]
  },
  {
   "cell_type": "markdown",
   "metadata": {},
   "source": [
    "## Above should be a chemically reasonable three-dimensional structure of the molecule."
   ]
  },
  {
   "cell_type": "code",
   "execution_count": null,
   "metadata": {},
   "outputs": [],
   "source": [
    "(cando-jupyter:center-on *agg* '(0.0 0.0 15.0))"
   ]
  },
  {
   "cell_type": "code",
   "execution_count": null,
   "metadata": {},
   "outputs": [],
   "source": [
    "(defparameter *design-view* (show *zr*))\n",
    "(defparameter *cagg* (make-instance 'cando-structure :matter *agg*))\n",
    "(nglv::add-structure *design-view* *cagg*)\n",
    "*design-view*"
   ]
  },
  {
   "cell_type": "markdown",
   "metadata": {},
   "source": [
    "## You can select pairs of carboxylic acid carbons on the ligand and on the benzoic acids of the Zr-O cluster multiple times to build a mapping of atoms on the ligand to the cluster.  It's a bit tricky and takes a couple of tries to get it right.  The function below pulls out the mapping."
   ]
  },
  {
   "cell_type": "code",
   "execution_count": null,
   "metadata": {},
   "outputs": [],
   "source": [
    "(defparameter *named-map* '((:C_350 . :C_2) (:C_354 . :C_1) \n",
    "                  (:C_255 . :C_7) (:C_259 . :C_8)\n",
    "                  (:C_185 . :C_3) (:C_196 . :C_4)))"
   ]
  },
  {
   "cell_type": "code",
   "execution_count": null,
   "metadata": {},
   "outputs": [],
   "source": [
    "(cando-jupyter:cartoon-atom-map *design-view* *named-map* *agg* *zr*)"
   ]
  },
  {
   "cell_type": "markdown",
   "metadata": {},
   "source": [
    "## Scroll up and you should see magenta lines joining the pairs of atoms that are mapped on to each other."
   ]
  },
  {
   "cell_type": "markdown",
   "metadata": {},
   "source": [
    "### Next we are going to constrain the selected atoms from the trial catalyst to the Zr-O crystal structure."
   ]
  },
  {
   "cell_type": "code",
   "execution_count": null,
   "metadata": {},
   "outputs": [],
   "source": [
    "(clear-all-atom-restraints *agg*)"
   ]
  },
  {
   "cell_type": "code",
   "execution_count": null,
   "metadata": {
    "scrolled": true
   },
   "outputs": [],
   "source": [
    "(cando-jupyter:anchor-named-atom-map *named-map* *agg* *zr*)"
   ]
  },
  {
   "cell_type": "code",
   "execution_count": null,
   "metadata": {},
   "outputs": [],
   "source": [
    "(set-all-stereocenters-to *stereocenters* :S :show t)"
   ]
  },
  {
   "cell_type": "code",
   "execution_count": null,
   "metadata": {},
   "outputs": [],
   "source": [
    "(energy:minimize *agg* \n",
    "                 :restraints-on t\n",
    "                 :max-sd-steps 1000\n",
    "                 :sd-tolerance 5000.0\n",
    "                 :max-cg-steps 1000)"
   ]
  },
  {
   "cell_type": "code",
   "execution_count": null,
   "metadata": {
    "scrolled": true
   },
   "outputs": [],
   "source": [
    "(show *agg*)"
   ]
  },
  {
   "cell_type": "markdown",
   "metadata": {},
   "source": [
    "### It turns out that the structure above is a bad design - with lots of bad geometry.\n",
    "# We can rule this design out and move on to another design with a larger macrocycle to better envelop the Zr-O cluster."
   ]
  },
  {
   "cell_type": "markdown",
   "metadata": {},
   "source": [
    "### Overlay of the trial above on the Zr-O cluster and looking at it closely can help us learn what is wrong with the design."
   ]
  },
  {
   "cell_type": "code",
   "execution_count": null,
   "metadata": {},
   "outputs": [],
   "source": [
    "(defparameter *overlay-view* (show *zr*))\n",
    "(defparameter *cagg* (make-instance 'cando-structure :matter *agg*))\n",
    "(nglv::clear-representations *overlay-view*)\n",
    "(nglv::add-representation *overlay-view* \"hyperball\")\n",
    "(nglv::add-structure *overlay-view* *cagg*)\n",
    "*overlay-view*"
   ]
  },
  {
   "cell_type": "code",
   "execution_count": null,
   "metadata": {},
   "outputs": [],
   "source": [
    "(jupyter:png-file \"data/cat-design/trial-catalyst2.png\")"
   ]
  },
  {
   "cell_type": "code",
   "execution_count": null,
   "metadata": {},
   "outputs": [],
   "source": [
    "(defparameter *agg2* (load-chem-draw-aggregate \"data/cat-design/trial-catalyst2.cdxml\"))"
   ]
  },
  {
   "cell_type": "code",
   "execution_count": null,
   "metadata": {},
   "outputs": [],
   "source": [
    "(chem:fill-in-implicit-hydrogens *agg2*)\n",
    "(build-unbuilt-hydrogens *agg2*)"
   ]
  },
  {
   "cell_type": "code",
   "execution_count": null,
   "metadata": {},
   "outputs": [],
   "source": [
    "(show *agg2*)"
   ]
  },
  {
   "cell_type": "markdown",
   "metadata": {},
   "source": [
    "### The structure above is the Chemdraw structure with no depth.  It illustrates that the Chemdraw structure is loaded successfuly into Cando."
   ]
  },
  {
   "cell_type": "code",
   "execution_count": null,
   "metadata": {},
   "outputs": [],
   "source": [
    "(defparameter *stereocenters2* (stereocenters-sorted-by-name *agg2*))"
   ]
  },
  {
   "cell_type": "code",
   "execution_count": null,
   "metadata": {},
   "outputs": [],
   "source": [
    "(set-all-stereocenters-to *stereocenters2* :S :show t)"
   ]
  },
  {
   "cell_type": "code",
   "execution_count": null,
   "metadata": {},
   "outputs": [],
   "source": [
    "(jostle *agg2* 20)"
   ]
  },
  {
   "cell_type": "code",
   "execution_count": null,
   "metadata": {},
   "outputs": [],
   "source": [
    "(show *agg2*)"
   ]
  },
  {
   "cell_type": "code",
   "execution_count": null,
   "metadata": {
    "scrolled": true
   },
   "outputs": [],
   "source": [
    "(energy:minimize *agg2* \n",
    "                 :restraints-on t\n",
    "                 :max-sd-steps 2000\n",
    "                 :sd-tolerance 5000.0\n",
    "                 :max-cg-steps 1000)"
   ]
  },
  {
   "cell_type": "code",
   "execution_count": null,
   "metadata": {
    "scrolled": true
   },
   "outputs": [],
   "source": [
    "(show *agg2*)"
   ]
  },
  {
   "cell_type": "code",
   "execution_count": null,
   "metadata": {},
   "outputs": [],
   "source": [
    "(cando-jupyter:center-on *agg2* '(0.0 0.0 15.0))"
   ]
  },
  {
   "cell_type": "code",
   "execution_count": null,
   "metadata": {},
   "outputs": [],
   "source": [
    "(defparameter *design-view2* (show *zr*))\n",
    "(defparameter *cagg2* (make-instance 'cando-structure :matter *agg2*))\n",
    "(nglv::add-structure *design-view2* *cagg2*)\n",
    "*design-view2*"
   ]
  },
  {
   "cell_type": "code",
   "execution_count": null,
   "metadata": {},
   "outputs": [],
   "source": [
    "(defparameter *named-map2* '((:C_452 . :C_8) (:C_458 . :C_7) \n",
    "                    (:C_198 . :C_5) (:C_219 . :C_6)\n",
    "                    (:C_305 . :C_4) (:C_311 . :C_3)))"
   ]
  },
  {
   "cell_type": "code",
   "execution_count": null,
   "metadata": {},
   "outputs": [],
   "source": [
    "(cando-jupyter:cartoon-atom-map *design-view2* *named-map2* *agg2* *zr*)"
   ]
  },
  {
   "cell_type": "markdown",
   "metadata": {},
   "source": [
    "## Scroll up and you should see magenta lines joining the pairs of atoms that are mapped on to each other."
   ]
  },
  {
   "cell_type": "markdown",
   "metadata": {},
   "source": [
    "### Next we are going to constrain the selected atoms from the trial catalyst to the Zr-O crystal structure."
   ]
  },
  {
   "cell_type": "code",
   "execution_count": null,
   "metadata": {},
   "outputs": [],
   "source": [
    "(clear-all-atom-restraints *agg2*)"
   ]
  },
  {
   "cell_type": "code",
   "execution_count": null,
   "metadata": {
    "scrolled": true
   },
   "outputs": [],
   "source": [
    "(cando-jupyter:anchor-named-atom-map *named-map2* *agg2* *zr*)"
   ]
  },
  {
   "cell_type": "code",
   "execution_count": null,
   "metadata": {},
   "outputs": [],
   "source": [
    "(set-all-stereocenters-to *stereocenters2* :S :show t)"
   ]
  },
  {
   "cell_type": "code",
   "execution_count": null,
   "metadata": {},
   "outputs": [],
   "source": [
    "(energy:minimize *agg2* \n",
    "                 :restraints-on t\n",
    "                 :max-sd-steps 2000\n",
    "                 :sd-tolerance 5000.0\n",
    "                 :max-cg-steps 1000)"
   ]
  },
  {
   "cell_type": "code",
   "execution_count": null,
   "metadata": {
    "scrolled": true
   },
   "outputs": [],
   "source": [
    "(show *agg2*)"
   ]
  },
  {
   "cell_type": "markdown",
   "metadata": {},
   "source": [
    "### This may be a better design.\n",
    "### It's going to take more work to establish this.\n",
    "### A build-tree will be constructed and ligands will be restrained to mimic the benzoic acids from the Zr-O cluster.\n",
    "### 1) Rotatable bonds will be twisted.\n",
    "### 2) Stereocenters will be flipped.\n",
    "### 3) Functional groups will be varied.\n",
    "### While scoring the conformational energy to find an optimal design."
   ]
  },
  {
   "cell_type": "markdown",
   "metadata": {},
   "source": [
    "## That's it for now - anything more sophisticated requires setting up more designs and running more sophisticated calculations on super-computers.\n",
    "## This user interface can drive 100,000s of copies of Cando running on large super-computers."
   ]
  },
  {
   "cell_type": "code",
   "execution_count": null,
   "metadata": {},
   "outputs": [],
   "source": []
  }
 ],
 "metadata": {
  "kernelspec": {
   "display_name": "cando",
   "language": "lisp",
   "name": "cando"
  },
  "language_info": {
   "codemirror_mode": "text/x-common-lisp",
   "file_extension": ".lisp",
   "mimetype": "text/x-common-lisp",
   "name": "common-lisp",
   "pygments_lexer": "common-lisp",
   "version": "cclasp-boehm-0.4.2-2941-g366ec55cd-cst"
  }
 },
 "nbformat": 4,
 "nbformat_minor": 4
}
