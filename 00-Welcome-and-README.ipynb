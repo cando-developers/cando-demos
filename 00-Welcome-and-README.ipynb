{
 "cells": [
  {
   "cell_type": "markdown",
   "metadata": {},
   "source": [
    "# <h1><center>Welcome to CANDO</center></h1>\n",
    "### Christian Schafmeister - Lead Developer  |  Michael Yonkunas - Computational Chemistry  |  Tarn W. Burton - Jupyter Interface\n",
    "---"
   ]
  },
  {
   "cell_type": "markdown",
   "metadata": {},
   "source": [
    " <div style=\"text-align: center\"><img src=\"data/CANDO_map.png\" width=800 height=800 align=center /></div>"
   ]
  },
  {
   "cell_type": "markdown",
   "metadata": {},
   "source": [
    "---\n",
    "<font size=\"5\">CANDO is built around the powerful [Common Lisp](https://lisp-lang.org) programming languange. You can evaluate code in cells just like IPython by clicking a cell and hitting `Shift-Enter` together.</font>"
   ]
  },
  {
   "cell_type": "markdown",
   "metadata": {},
   "source": [
    "---\n",
    "### Everything is done through calls to a function, even mathamatical operations:"
   ]
  },
  {
   "cell_type": "code",
   "execution_count": null,
   "metadata": {},
   "outputs": [],
   "source": [
    "(+ 5 5)"
   ]
  },
  {
   "cell_type": "markdown",
   "metadata": {},
   "source": [
    "### A variable is declared using a simple function call like this:"
   ]
  },
  {
   "cell_type": "code",
   "execution_count": null,
   "metadata": {},
   "outputs": [],
   "source": [
    "(defvar x 0)\n",
    "x"
   ]
  },
  {
   "cell_type": "markdown",
   "metadata": {},
   "source": [
    "### If we would like to set x to a new value, we use `setf`:"
   ]
  },
  {
   "cell_type": "code",
   "execution_count": null,
   "metadata": {},
   "outputs": [],
   "source": [
    "(setf x 10)\n",
    "x ;; What is the new value of x? You can add comments with the semicolon."
   ]
  },
  {
   "cell_type": "markdown",
   "metadata": {},
   "source": [
    "### The lisp equivalent of printf is called format, which uses `~a` where C code printf would use `%d, %f`, etc, and uses `~%` instead of `\\n`:"
   ]
  },
  {
   "cell_type": "code",
   "execution_count": null,
   "metadata": {},
   "outputs": [],
   "source": [
    "(loop for x from 2.0 to 5.0 by 1.0\n",
    "      do (format t \"Hello from Cando - the square root of ~a is ~a~%\" x (sqrt x)))"
   ]
  },
  {
   "cell_type": "markdown",
   "metadata": {},
   "source": [
    "---\n",
    "<font size=\"5\">You will get used to the parenthesis! Close this browser tab and try some of the other demos in the directory where you found this file to explore a few of the capabilities of CANDO.</font>"
   ]
  },
  {
   "cell_type": "markdown",
   "metadata": {},
   "source": [
    "---\n",
    "## Our software team"
   ]
  },
  {
   "cell_type": "markdown",
   "metadata": {},
   "source": [
    "- Prof. Christian Schafmeister (meister@temple.edu) http://www.schafmeistergroup.com\n",
    "- Dr. Michael Yonkunas (yonkunas@thirdlaw.tech)\n",
    "- Martin Cracauer \n",
    "- Alex Wood\n",
    "- Tarn W. Burton\n",
    "- Charles Zhang \n",
    "- Shiho Nagai"
   ]
  },
  {
   "cell_type": "code",
   "execution_count": null,
   "metadata": {},
   "outputs": [],
   "source": []
  }
 ],
 "metadata": {
  "kernelspec": {
   "display_name": "Cando (dcando)",
   "language": "cando",
   "name": "cando_dcando"
  },
  "language_info": {
   "codemirror_mode": "text/x-common-lisp",
   "file_extension": ".lisp",
   "mimetype": "text/x-common-lisp",
   "name": "common-lisp",
   "pygments_lexer": "common-lisp",
   "version": "cclasp-boehmprecise-1.0.0-257-g43c558812-cst"
  }
 },
 "nbformat": 4,
 "nbformat_minor": 4
}
