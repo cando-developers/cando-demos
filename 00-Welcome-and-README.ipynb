{
 "cells": [
  {
   "cell_type": "markdown",
   "metadata": {},
   "source": [
    "# <h1><center>Welcome to CANDO</center></h1>\n",
    "### Christian Schafmeister - Lead Developer \n",
    "#### Michael Yonkunas - Computational Chemistry\n",
    "#### Tarn W. Burton - Jupyter Interface\n",
    "#### Alex Wood - Compiler Development\n",
    "---"
   ]
  },
  {
   "cell_type": "markdown",
   "metadata": {},
   "source": [
    " <div style=\"text-align: center\"><img src=\"data/CANDO_map.png\" width=800 height=800 align=center /></div>"
   ]
  },
  {
   "cell_type": "markdown",
   "metadata": {},
   "source": [
    "# CANDO combines tleap scripting with a powerful, builtin programming language for computational chemistry workflows."
   ]
  },
  {
   "cell_type": "markdown",
   "metadata": {},
   "source": [
    "Enhanced leap commands are built in"
   ]
  },
  {
   "cell_type": "code",
   "execution_count": null,
   "metadata": {},
   "outputs": [],
   "source": [
    "help"
   ]
  },
  {
   "cell_type": "markdown",
   "metadata": {},
   "source": [
    "## Lets build a molecule"
   ]
  },
  {
   "cell_type": "markdown",
   "metadata": {},
   "source": [
    "Create two hydrogen atoms and one oxygen"
   ]
  },
  {
   "cell_type": "code",
   "execution_count": null,
   "metadata": {},
   "outputs": [],
   "source": [
    "h1 = createAtom \"H1\"\n",
    "h2 = createAtom \"H2\"\n",
    "o = createAtom \"O\""
   ]
  },
  {
   "cell_type": "markdown",
   "metadata": {},
   "source": [
    "Create a residue, a molecule and an aggregate (collection of molecules) to contain them."
   ]
  },
  {
   "cell_type": "code",
   "execution_count": null,
   "metadata": {},
   "outputs": [],
   "source": [
    "res = createResidue :wat\n",
    "mol = createMolecule :wat\n",
    "agg = createAggregate :wat"
   ]
  },
  {
   "cell_type": "markdown",
   "metadata": {},
   "source": [
    "Build the hierarchy of matter containers"
   ]
  },
  {
   "cell_type": "code",
   "execution_count": null,
   "metadata": {},
   "outputs": [],
   "source": [
    "add agg mol\n",
    "add mol res\n",
    "add res h1\n",
    "add res h2\n",
    "add res o"
   ]
  },
  {
   "cell_type": "markdown",
   "metadata": {},
   "source": [
    "Create a single bond between the hydrogens and the oxygen."
   ]
  },
  {
   "cell_type": "code",
   "execution_count": null,
   "metadata": {},
   "outputs": [],
   "source": [
    "bond h1 o\n",
    "bond h2 o"
   ]
  },
  {
   "cell_type": "markdown",
   "metadata": {},
   "source": [
    "Build the geometry of the water molecule."
   ]
  },
  {
   "cell_type": "markdown",
   "metadata": {},
   "source": [
    "The O-H distance is 0.9724 Angstroms and the H-O-H angle is 105 degrees."
   ]
  },
  {
   "cell_type": "code",
   "execution_count": null,
   "metadata": {},
   "outputs": [],
   "source": [
    "zMatrix agg { { o h1 0.9724 }\n",
    "              { h2 o h1 0.9725 105.0 } }"
   ]
  },
  {
   "cell_type": "markdown",
   "metadata": {},
   "source": [
    "Let's take a look at the structure!\n",
    "\n",
    "Rotate using the left mouse button.\n",
    "\n",
    "Zoom using the track-wheel or two fingers on a track-pad.\n",
    "\n",
    "Left click on atoms to focus on them."
   ]
  },
  {
   "cell_type": "code",
   "execution_count": null,
   "metadata": {
    "tags": []
   },
   "outputs": [],
   "source": [
    "show agg"
   ]
  },
  {
   "cell_type": "markdown",
   "metadata": {},
   "source": [
    "---\n",
    "## Our software team"
   ]
  },
  {
   "cell_type": "markdown",
   "metadata": {},
   "source": [
    "- Prof. Christian Schafmeister (meister@temple.edu) http://www.schafmeistergroup.com\n",
    "- Dr. Michael Yonkunas \n",
    "- Martin Cracauer \n",
    "- Alex Wood\n",
    "- Tarn W. Burton\n",
    "- Charles Zhang \n",
    "- Shiho Nagai"
   ]
  },
  {
   "cell_type": "code",
   "execution_count": null,
   "metadata": {},
   "outputs": [],
   "source": []
  }
 ],
 "metadata": {
  "kernelspec": {
   "display_name": "cando_dcando",
   "language": "cando",
   "name": "cando_dcando"
  },
  "language_info": {
   "codemirror_mode": "text/x-common-lisp",
   "file_extension": ".lisp",
   "mimetype": "text/x-common-lisp",
   "name": "common-lisp",
   "pygments_lexer": "common-lisp",
   "version": "cclasp-boehmprecise-1.0.0-276-g108eb3dd9-gf3b862c4-cst"
  }
 },
 "nbformat": 4,
 "nbformat_minor": 4
}
