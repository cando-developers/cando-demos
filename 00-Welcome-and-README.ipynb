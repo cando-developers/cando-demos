{
 "cells": [
  {
   "cell_type": "markdown",
   "metadata": {},
   "source": [
    "# <h1><center>Welcome to CANDO</center></h1>\n",
    "### Christian Schafmeister - Lead Developer \n",
    "#### Michael Yonkunas - Computational Chemistry\n",
    "#### Tarn W. Burton - Jupyter Interface\n",
    "#### Alex Wood - Compiler Development\n",
    "---"
   ]
  },
  {
   "cell_type": "markdown",
   "metadata": {},
   "source": [
    " <div style=\"text-align: center\"><img src=\"data/CANDO_map.png\" width=800 height=800 align=center /></div>"
   ]
  },
  {
   "cell_type": "markdown",
   "metadata": {},
   "source": [
    "# CANDO combines tleap scripting with a powerful, builtin programming language for computational chemistry workflows."
   ]
  },
  {
   "cell_type": "markdown",
   "metadata": {},
   "source": [
    "<div class=\"alert alert-block alert-info\">\n",
    "    <b>NOTE:</b> <font color='black'> you can always type \"help\" into a cell to see CANDO LEAP commands:</font></div>"
   ]
  },
  {
   "cell_type": "code",
   "execution_count": null,
   "metadata": {
    "tags": []
   },
   "outputs": [],
   "source": [
    "help"
   ]
  },
  {
   "cell_type": "markdown",
   "metadata": {},
   "source": [
    "# Let's Build A Molecule!"
   ]
  },
  {
   "cell_type": "markdown",
   "metadata": {},
   "source": [
    "##### Important: The heirarchy of matter containers is atom < residue (section of a molecule) < molecule < aggregate (collection of molecules"
   ]
  },
  {
   "cell_type": "markdown",
   "metadata": {},
   "source": [
    "<div class=\"alert alert-block alert-info\">\n",
    "    <b>Step 1:</b> <font color='black'>Let's create two Hydrogen atoms and one Oxygen atom</font></div>"
   ]
  },
  {
   "cell_type": "markdown",
   "metadata": {},
   "source": [
    "##### Use the command *createAtom* to create individual atoms"
   ]
  },
  {
   "cell_type": "code",
   "execution_count": null,
   "metadata": {},
   "outputs": [],
   "source": [
    "h1 = createAtom \"H1\"\n",
    "h2 = createAtom \"H2\"\n",
    "o = createAtom \"O\""
   ]
  },
  {
   "cell_type": "markdown",
   "metadata": {},
   "source": [
    "<div class=\"alert alert-block alert-info\">\n",
    "    <b>Step 2:</b> <font color='black'>Let's create a residue, molecule, and an aggregate</font></div>"
   ]
  },
  {
   "cell_type": "markdown",
   "metadata": {},
   "source": [
    "##### Use the commands *createResidue*, *createMolecule*, and *createAggregate* to create a residue, molecule, and aggregate respectively"
   ]
  },
  {
   "cell_type": "code",
   "execution_count": null,
   "metadata": {
    "tags": []
   },
   "outputs": [],
   "source": [
    "res = createResidue :wat\n",
    "mol = createMolecule :wat\n",
    "agg = createAggregate :wat"
   ]
  },
  {
   "cell_type": "markdown",
   "metadata": {},
   "source": [
    "<div class=\"alert alert-block alert-info\">\n",
    "    <b>Step 3:</b> <font color='black'>Let's build up the heirarchy of matter containers</font></div>"
   ]
  },
  {
   "cell_type": "markdown",
   "metadata": {},
   "source": [
    "##### Use the command *add* to combine and build upon containers "
   ]
  },
  {
   "cell_type": "code",
   "execution_count": null,
   "metadata": {},
   "outputs": [],
   "source": [
    "add agg mol\n",
    "add mol res\n",
    "add res h1\n",
    "add res h2\n",
    "add res o"
   ]
  },
  {
   "cell_type": "markdown",
   "metadata": {},
   "source": [
    "<div class=\"alert alert-block alert-info\">\n",
    "    <b>Step 4:</b> <font color='black'>Let's create single bonds between the hydrogens and the oxygen</font></div>"
   ]
  },
  {
   "cell_type": "markdown",
   "metadata": {},
   "source": [
    "##### Use the command *bond* to create a single bond"
   ]
  },
  {
   "cell_type": "code",
   "execution_count": null,
   "metadata": {},
   "outputs": [],
   "source": [
    "bond h1 o\n",
    "bond h2 o"
   ]
  },
  {
   "cell_type": "markdown",
   "metadata": {},
   "source": [
    "<div class=\"alert alert-block alert-info\">\n",
    "    <b>Step 5:</b> <font color='black'>Let's build the geometry of the water molecule</font></div>"
   ]
  },
  {
   "cell_type": "markdown",
   "metadata": {},
   "source": [
    "##### Use the command *zMatrix* to build the aggregate's geometry. Remember that the O-H distance is 0.9724 Angstroms and the H-O-H angle is 105 degrees."
   ]
  },
  {
   "cell_type": "code",
   "execution_count": null,
   "metadata": {},
   "outputs": [],
   "source": [
    "zMatrix agg { { o h1 0.9724 }\n",
    "              { h2 o h1 0.9725 105.0 } }"
   ]
  },
  {
   "cell_type": "markdown",
   "metadata": {},
   "source": [
    "## Let's look at the structure you built!"
   ]
  },
  {
   "cell_type": "markdown",
   "metadata": {},
   "source": [
    "##### Use the command *show* to create the image of the aggregate"
   ]
  },
  {
   "cell_type": "markdown",
   "metadata": {},
   "source": [
    "##### You can rotate the image using the left mouse button, zoom using the track wheel or two fingers on the track pad, and you can focus on atoms by left clicking on them. "
   ]
  },
  {
   "cell_type": "code",
   "execution_count": null,
   "metadata": {
    "tags": []
   },
   "outputs": [],
   "source": [
    "show agg"
   ]
  },
  {
   "cell_type": "markdown",
   "metadata": {},
   "source": [
    "---\n",
    "## Our software team"
   ]
  },
  {
   "cell_type": "markdown",
   "metadata": {},
   "source": [
    "- Prof. Christian Schafmeister (meister@temple.edu) http://www.schafmeistergroup.com\n",
    "- Dr. Michael Yonkunas \n",
    "- Martin Cracauer \n",
    "- Alex Wood\n",
    "- Tarn W. Burton\n",
    "- Charles Zhang \n",
    "- Shiho Nagai"
   ]
  },
  {
   "cell_type": "markdown",
   "metadata": {},
   "source": [
    "edited by Ava Dremann 06-16-2022"
   ]
  },
  {
   "cell_type": "code",
   "execution_count": null,
   "metadata": {},
   "outputs": [],
   "source": []
  }
 ],
 "metadata": {
  "kernelspec": {
   "display_name": "cando_dcando",
   "language": "cando",
   "name": "cando_dcando"
  },
  "language_info": {
   "codemirror_mode": "text/x-common-lisp",
   "file_extension": ".lisp",
   "mimetype": "text/x-common-lisp",
   "name": "common-lisp",
   "pygments_lexer": "common-lisp",
   "version": "cclasp-boehmprecise-1.0.0-278-g87b4f5c24-gb804caaa-cst"
  }
 },
 "nbformat": 4,
 "nbformat_minor": 4
}
