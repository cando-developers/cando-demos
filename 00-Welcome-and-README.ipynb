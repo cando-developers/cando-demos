{
 "cells": [
  {
   "cell_type": "markdown",
   "metadata": {},
   "source": [
    "# <h1><center>Welcome to CANDO</center></h1>\n",
    "### Christian Schafmeister - Lead Developer \n",
    "#### Michael Yonkunas - Computational Chemistry\n",
    "#### Tarn W. Burton - Jupyter Interface\n",
    "#### Alex Wood - Compiler Development\n",
    "---"
   ]
  },
  {
   "cell_type": "markdown",
   "metadata": {},
   "source": [
    " <div style=\"text-align: center\"><img src=\"data/CANDO_map.png\" width=800 height=800 align=center /></div>"
   ]
  },
  {
   "cell_type": "markdown",
   "metadata": {},
   "source": [
    "# CANDO combines tleap scripting with a powerful, builtin programming language for computational chemistry workflows."
   ]
  },
  {
   "cell_type": "markdown",
   "metadata": {},
   "source": [
    "Enhanced leap commands are built in"
   ]
  },
  {
   "cell_type": "code",
   "execution_count": 1,
   "metadata": {},
   "outputs": [
    {
     "name": "stdout",
     "output_type": "stream",
     "text": [
      "Help is available on the following subjects: \n",
      "add                     addAtomTypes            addH                    addIons                 \n",
      "addIons2                addIonsRand             addPath                 addPdbAtomMap           \n",
      "addPdbResMap            alignAxes               assignAtomTypes         bond                    \n",
      "bondByDistance          cando                   center                  charge                  \n",
      "check                   combine                 compileSmarts           copy                    \n",
      "createAggregate         createAtom              createMolecule          createResidue           \n",
      "createUnit              deSelect                deleteBond              desc                    \n",
      "dir                     easyGaff                help                    jostleAtoms             \n",
      "leapCommandsAvailable   leapCommandsMissing     list                    listForceFields         \n",
      "listVariables           loadAmberParams         loadChemDraw            loadChemDrawAggregate   \n",
      "loadMoe                 loadMol2                loadOff                 loadPdb                 \n",
      "loadSmirnoffParams      logFile                 ls                      measureGeom             \n",
      "minimize                quickload               quit                    remove                  \n",
      "removeMatter            saveAmberParm           saveMol2                savePdb                 \n",
      "scanPdb                 select                  set                     setBox                  \n",
      "setForceField           setupAmberPaths         setupDefaultPaths       show                    \n",
      "showPaths               solvateBox              solvateCap              solvateOct              \n",
      "solvateShell            source                  startSwank              transform               \n",
      "translate               zMatrix                 \n"
     ]
    }
   ],
   "source": [
    "help"
   ]
  },
  {
   "cell_type": "markdown",
   "metadata": {},
   "source": [
    "## Lets build a molecule"
   ]
  },
  {
   "cell_type": "markdown",
   "metadata": {},
   "source": [
    "Create two hydrogen atoms and one oxygen"
   ]
  },
  {
   "cell_type": "code",
   "execution_count": 2,
   "metadata": {},
   "outputs": [
    {
     "data": {
      "text/plain": [
       "#<ATOM :H1/:H :id 0 0x66c4ab36>"
      ]
     },
     "execution_count": 2,
     "metadata": {},
     "output_type": "execute_result"
    },
    {
     "data": {
      "text/plain": [
       "#<ATOM :H2/:H :id 0 0xbb2575d>"
      ]
     },
     "execution_count": 2,
     "metadata": {},
     "output_type": "execute_result"
    },
    {
     "data": {
      "text/plain": [
       "#<ATOM :O/:O :id 0 0xed3e5d05>"
      ]
     },
     "execution_count": 2,
     "metadata": {},
     "output_type": "execute_result"
    }
   ],
   "source": [
    "h1 = createAtom \"H1\"\n",
    "h2 = createAtom \"H2\"\n",
    "o = createAtom \"O\""
   ]
  },
  {
   "cell_type": "markdown",
   "metadata": {},
   "source": [
    "Create a residue, a molecule and an aggregate (collection of molecules) to contain them."
   ]
  },
  {
   "cell_type": "code",
   "execution_count": 3,
   "metadata": {},
   "outputs": [
    {
     "data": {
      "text/plain": [
       "#<RESIDUE :WAT :id 0 0xf490802c>"
      ]
     },
     "execution_count": 3,
     "metadata": {},
     "output_type": "execute_result"
    },
    {
     "data": {
      "text/plain": [
       "#<MOLECULE :WAT :id 0 0xeac475b3>"
      ]
     },
     "execution_count": 3,
     "metadata": {},
     "output_type": "execute_result"
    },
    {
     "data": {
      "text/plain": [
       "#<AGGREGATE :WAT :id 0 0x1dca3ad2>"
      ]
     },
     "execution_count": 3,
     "metadata": {},
     "output_type": "execute_result"
    },
    {
     "name": "stdout",
     "output_type": "stream",
     "text": [
      "keyword str -> \"WAT\"\n",
      "keyword str -> \"WAT\"\n",
      "keyword str -> \"WAT\"\n"
     ]
    }
   ],
   "source": [
    "res = createResidue :wat\n",
    "mol = createMolecule :wat\n",
    "agg = createAggregate :wat"
   ]
  },
  {
   "cell_type": "markdown",
   "metadata": {},
   "source": [
    "Build the hierarchy of matter containers"
   ]
  },
  {
   "cell_type": "code",
   "execution_count": 4,
   "metadata": {},
   "outputs": [],
   "source": [
    "add agg mol\n",
    "add mol res\n",
    "add res h1\n",
    "add res h2\n",
    "add res o"
   ]
  },
  {
   "cell_type": "markdown",
   "metadata": {},
   "source": [
    "Create a single bond between the hydrogens and the oxygen."
   ]
  },
  {
   "cell_type": "code",
   "execution_count": 5,
   "metadata": {},
   "outputs": [],
   "source": [
    "bond h1 o\n",
    "bond h2 o"
   ]
  },
  {
   "cell_type": "markdown",
   "metadata": {},
   "source": [
    "Build the geometry of the water molecule."
   ]
  },
  {
   "cell_type": "markdown",
   "metadata": {},
   "source": [
    "The O-H distance is 0.9724 Angstroms and the H-O-H angle is 105 degrees."
   ]
  },
  {
   "cell_type": "code",
   "execution_count": 6,
   "metadata": {},
   "outputs": [],
   "source": [
    "zMatrix agg { { o h1 0.9724 }\n",
    "              { h2 o h1 0.9725 105.0 } }"
   ]
  },
  {
   "cell_type": "markdown",
   "metadata": {},
   "source": [
    "Let's take a look at the structure!\n",
    "\n",
    "Rotate using the left mouse button.\n",
    "\n",
    "Zoom using the track-wheel or two fingers on a track-pad.\n",
    "\n",
    "Left click on atoms to focus on them."
   ]
  },
  {
   "cell_type": "code",
   "execution_count": 7,
   "metadata": {
    "tags": []
   },
   "outputs": [
    {
     "data": {
      "application/vnd.jupyter.widget-view+json": {
       "model_id": "f8a6c4cca73e4c5af068e13a574e51a3",
       "version_major": 2,
       "version_minor": 0
      },
      "text/plain": [
       "A Jupyter Widget"
      ]
     },
     "execution_count": 7,
     "metadata": {},
     "output_type": "execute_result"
    }
   ],
   "source": [
    "show agg"
   ]
  },
  {
   "cell_type": "markdown",
   "metadata": {},
   "source": [
    "---\n",
    "## Our software team"
   ]
  },
  {
   "cell_type": "markdown",
   "metadata": {},
   "source": [
    "- Prof. Christian Schafmeister (meister@temple.edu) http://www.schafmeistergroup.com\n",
    "- Dr. Michael Yonkunas \n",
    "- Martin Cracauer \n",
    "- Alex Wood\n",
    "- Tarn W. Burton\n",
    "- Charles Zhang \n",
    "- Shiho Nagai"
   ]
  },
  {
   "cell_type": "markdown",
   "metadata": {},
   "source": [
    "edited by Ava Dremann"
   ]
  }
 ],
 "metadata": {
  "kernelspec": {
   "display_name": "Cando",
   "language": "cando",
   "name": "cando"
  },
  "language_info": {
   "codemirror_mode": "text/x-common-lisp",
   "file_extension": ".lisp",
   "mimetype": "text/x-common-lisp",
   "name": "common-lisp",
   "pygments_lexer": "common-lisp",
   "version": "cclasp-boehmprecise-1.0.0-284-ge8f9b4608-gb65e1215-cst"
  }
 },
 "nbformat": 4,
 "nbformat_minor": 4
}
