{
 "cells": [
  {
   "cell_type": "markdown",
   "metadata": {},
   "source": [
    "# Welcome to Cando"
   ]
  },
  {
   "cell_type": "markdown",
   "metadata": {},
   "source": [
    "#### My name is Christian Schafmeister \n",
    "- I am the lead developer of Cando and Professor of Chemistry at Temple University in Philadelphia\n",
    "(meister@temple.edu) http://www.schafmeistergroup.com"
   ]
  },
  {
   "cell_type": "markdown",
   "metadata": {},
   "source": [
    "Cando is a molecular modeling environment developed to enable computational design of macromolecules and materials."
   ]
  },
  {
   "cell_type": "markdown",
   "metadata": {},
   "source": [
    "Cando was developed to design <b>Spiroligomers</b> - unnatural, abiotic macromolecules that we invented and have been developing for the last 12 years to mimic proteins.  <b>Spiroligomers</b> are shape and functional group programmable macromolecules that display functional groups like proteins do.  We are developing them to act as <b>catalysts</b>, <b>membrane channels</b> and <b>new therapeutics</b>."
   ]
  },
  {
   "cell_type": "markdown",
   "metadata": {},
   "source": [
    "More generally - Cando is designed as an academic, open source alternative to commercial molecular modeling software.  It is built from the ground up to rapidly develop, test and deploy advanced molecular design software and new concepts.  It can be used to design <b>any molecules</b>."
   ]
  },
  {
   "cell_type": "markdown",
   "metadata": {},
   "source": [
    "Cando is designed to explore ideas in applying Artificial Intelligence to macromolecular and materials design."
   ]
  },
  {
   "cell_type": "markdown",
   "metadata": {},
   "source": [
    "Cando runs on everything from personal computers to large parallel supercomputers. It includes a custom compiler based on two industrial strength programming languages (Common Lisp for application development and rapid prototyping and C++ to interact with legacy software libraries). "
   ]
  },
  {
   "cell_type": "markdown",
   "metadata": {},
   "source": [
    "Cando generates fast native code for a variety of hardware (x86-64, ARM, GPU) using the LLVM compiler library and that code interoperates seamlessly with existing C++, C and Fortran scientific computing libraries.  It also incorporates a full software development environment with builtin editor, debugger."
   ]
  },
  {
   "cell_type": "markdown",
   "metadata": {},
   "source": [
    "It has the web based notebook interface that you see here based on \"Jupyter Notebooks\" (http://jupyter.org).  Users enter commands into an unlimited supply of \"Input\" cells in the notebook and Cando generates the output in the cell below."
   ]
  },
  {
   "cell_type": "markdown",
   "metadata": {},
   "source": [
    "Jupyter notebooks can be easily written, saved, reloaded, rerun, sent to collaborators, published on the web and provided in class-room settings."
   ]
  },
  {
   "cell_type": "markdown",
   "metadata": {},
   "source": [
    "Evaluate the input cell below by clicking on it somewhere and pressing the <b>Shift key</b> and <b>Enter key</b> together at the same time."
   ]
  },
  {
   "cell_type": "code",
   "execution_count": null,
   "metadata": {
    "scrolled": false
   },
   "outputs": [],
   "source": [
    "(loop for x from 2.0 to 5.0 by 1.0\n",
    "      do (format t \"Hello from Cando - the square root of ~a is ~a~%\" x (sqrt x)))"
   ]
  },
  {
   "cell_type": "markdown",
   "metadata": {},
   "source": [
    "Cando incorporates powerful molecular visualization tools and widgets for developing graphical applications."
   ]
  },
  {
   "cell_type": "markdown",
   "metadata": {},
   "source": [
    "Evaluate (hit <b>Shift-Enter</b>) the cell below and then manipulate the model by dragging your mouse while holding the left mouse button within the viewer."
   ]
  },
  {
   "cell_type": "code",
   "execution_count": null,
   "metadata": {},
   "outputs": [],
   "source": [
    "(:= *agg* (cando:load-mol2 \"data/macro1-minimized.mol2\"))\n",
    "(show *agg*)"
   ]
  },
  {
   "cell_type": "markdown",
   "metadata": {},
   "source": [
    "Close this browser tab and try some of the other demos in the directory where you found this file to explore a few of the capabilities of Cando."
   ]
  },
  {
   "cell_type": "markdown",
   "metadata": {},
   "source": [
    "- Prof. Christian Schafmeister (meister@temple.edu) http://www.schafmeistergroup.com (Sept 1, 2017)"
   ]
  }
 ],
 "metadata": {
  "kernelspec": {
   "display_name": "cando",
   "language": "lisp",
   "name": "cando"
  },
  "language_info": {
   "codemirror_mode": "text/x-common-lisp",
   "file_extension": ".lisp",
   "mimetype": "text/x-common-lisp",
   "name": "common-lisp",
   "pygments_lexer": "common-lisp",
   "version": "X3J13"
  }
 },
 "nbformat": 4,
 "nbformat_minor": 2
}
