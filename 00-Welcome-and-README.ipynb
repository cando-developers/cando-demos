{
 "cells": [
  {
   "cell_type": "markdown",
   "metadata": {},
   "source": [
    "# <h1><center>Welcome to CANDO</center></h1>\n",
    "### Christian Schafmeister - Lead Developer \n",
    "#### Michael Yonkunas - Computational Chemistry\n",
    "#### Tarn W. Burton - Jupyter Interface\n",
    "#### Alex Wood - Compiler Development\n",
    "---"
   ]
  },
  {
   "cell_type": "markdown",
   "metadata": {},
   "source": [
    " <div style=\"text-align: center\"><img src=\"data/CANDO_map.png\" width=800 height=800 align=center /></div>"
   ]
  },
  {
   "cell_type": "markdown",
   "metadata": {},
   "source": [
    "# CANDO combines tleap scripting with a powerful, builtin programming language for computational chemistry workflows."
   ]
  },
  {
   "cell_type": "markdown",
   "metadata": {},
   "source": [
    "<div class=\"alert alert-block alert-info\">\n",
    "    <b>NOTE:</b> <font color='black'> you can always type \"help\" into a cell to see CANDO LEAP commands:</font></div>"
   ]
  },
  {
   "cell_type": "code",
   "execution_count": 5,
   "metadata": {
    "tags": []
   },
   "outputs": [
    {
     "name": "stdout",
     "output_type": "stream",
     "text": [
      "Help is available on the following subjects: \n",
      "add                     addAtomTypes            addH                    addIons                 \n",
      "addIons2                addIonsRand             addPath                 addPdbAtomMap           \n",
      "addPdbResMap            alignAxes               assignAtomTypes         bond                    \n",
      "bondByDistance          cando                   center                  charge                  \n",
      "check                   combine                 compileSmarts           copy                    \n",
      "createAggregate         createAtom              createMolecule          createResidue           \n",
      "createUnit              deSelect                deleteBond              desc                    \n",
      "dir                     easyGaff                help                    jostleAtoms             \n",
      "leapCommandsAvailable   leapCommandsMissing     list                    listForceFields         \n",
      "listVariables           loadAmberParams         loadChemDraw            loadChemDrawAggregate   \n",
      "loadMoe                 loadMol2                loadOff                 loadPdb                 \n",
      "loadSmirnoffParams      logFile                 ls                      measureGeom             \n",
      "minimize                quickload               quit                    remove                  \n",
      "removeMatter            saveAmberParm           saveMol2                savePdb                 \n",
      "scanPdb                 select                  set                     setBox                  \n",
      "setForceField           setupAmberPaths         setupDefaultPaths       show                    \n",
      "showPaths               solvateBox              solvateCap              solvateOct              \n",
      "solvateShell            source                  startSwank              transform               \n",
      "translate               zMatrix                 \n"
     ]
    }
   ],
   "source": [
    "help"
   ]
  },
  {
   "cell_type": "markdown",
   "metadata": {},
   "source": [
    "# Let's Build A Molecule!"
   ]
  },
  {
   "cell_type": "markdown",
   "metadata": {},
   "source": [
    "##### Important: The heirarchy of matter containers is atom < residue (section of a molecule) < molecule < aggregate (collection of molecules"
   ]
  },
  {
   "cell_type": "markdown",
   "metadata": {},
   "source": [
    "<div class=\"alert alert-block alert-info\">\n",
    "    <b>Step 1:</b> <font color='black'>Let's create two Hydrogen atoms and one Oxygen atom</font></div>"
   ]
  },
  {
   "cell_type": "markdown",
   "metadata": {},
   "source": [
    "##### Use the command *createAtom* to create individual atoms"
   ]
  },
  {
   "cell_type": "code",
   "execution_count": 6,
   "metadata": {},
   "outputs": [
    {
     "data": {
      "text/plain": [
       "#<ATOM :H1/:H :id 0 0xb05c32a1>"
      ]
     },
     "execution_count": 6,
     "metadata": {},
     "output_type": "execute_result"
    },
    {
     "data": {
      "text/plain": [
       "#<ATOM :H2/:H :id 0 0x96fc70bf>"
      ]
     },
     "execution_count": 6,
     "metadata": {},
     "output_type": "execute_result"
    },
    {
     "data": {
      "text/plain": [
       "#<ATOM :O/:O :id 0 0x9b992fd6>"
      ]
     },
     "execution_count": 6,
     "metadata": {},
     "output_type": "execute_result"
    }
   ],
   "source": [
    "h1 = createAtom \"H1\"\n",
    "h2 = createAtom \"H2\"\n",
    "o = createAtom \"O\""
   ]
  },
  {
   "cell_type": "markdown",
   "metadata": {},
   "source": [
    "<div class=\"alert alert-block alert-info\">\n",
    "    <b>Step 2:</b> <font color='black'>Let's create a residue, molecule, and an aggregate</font></div>"
   ]
  },
  {
   "cell_type": "markdown",
   "metadata": {},
   "source": [
    "##### Use the commands *createResidue*, *createMolecule*, and *createAggregate* to create a residue, molecule, and aggregate respectively"
   ]
  },
  {
   "cell_type": "code",
   "execution_count": 7,
   "metadata": {
    "tags": []
   },
   "outputs": [
    {
     "data": {
      "text/plain": [
       "#<RESIDUE :WAT :id 0 0xc0876552>"
      ]
     },
     "execution_count": 7,
     "metadata": {},
     "output_type": "execute_result"
    },
    {
     "data": {
      "text/plain": [
       "#<MOLECULE :WAT :id 0 0x820482bf>"
      ]
     },
     "execution_count": 7,
     "metadata": {},
     "output_type": "execute_result"
    },
    {
     "data": {
      "text/plain": [
       "#<AGGREGATE :WAT :id 0 0x4aeaabb0>"
      ]
     },
     "execution_count": 7,
     "metadata": {},
     "output_type": "execute_result"
    },
    {
     "name": "stdout",
     "output_type": "stream",
     "text": [
      "keyword str -> \"WAT\"\n",
      "keyword str -> \"WAT\"\n",
      "keyword str -> \"WAT\"\n"
     ]
    }
   ],
   "source": [
    "res = createResidue :wat\n",
    "mol = createMolecule :wat\n",
    "agg = createAggregate :wat"
   ]
  },
  {
   "cell_type": "markdown",
   "metadata": {},
   "source": [
    "<div class=\"alert alert-block alert-info\">\n",
    "    <b>Step 3:</b> <font color='black'>Let's build up the heirarchy of matter containers</font></div>"
   ]
  },
  {
   "cell_type": "markdown",
   "metadata": {},
   "source": [
    "##### Use the command *add* to combine and build upon containers "
   ]
  },
  {
   "cell_type": "code",
   "execution_count": 8,
   "metadata": {},
   "outputs": [],
   "source": [
    "add agg mol\n",
    "add mol res\n",
    "add res h1\n",
    "add res h2\n",
    "add res o"
   ]
  },
  {
   "cell_type": "markdown",
   "metadata": {},
   "source": [
    "<div class=\"alert alert-block alert-info\">\n",
    "    <b>Step 4:</b> <font color='black'>Let's create single bonds between the hydrogens and the oxygen</font></div>"
   ]
  },
  {
   "cell_type": "markdown",
   "metadata": {},
   "source": [
    "##### Use the command *bond* to create a single bond"
   ]
  },
  {
   "cell_type": "code",
   "execution_count": 9,
   "metadata": {},
   "outputs": [],
   "source": [
    "bond h1 o\n",
    "bond h2 o"
   ]
  },
  {
   "cell_type": "markdown",
   "metadata": {},
   "source": [
    "<div class=\"alert alert-block alert-info\">\n",
    "    <b>Step 5:</b> <font color='black'>Let's build the geometry of the water molecule</font></div>"
   ]
  },
  {
   "cell_type": "markdown",
   "metadata": {},
   "source": [
    "##### Use the command *zMatrix* to build the aggregate's geometry. Remember that the O-H distance is 0.9724 Angstroms and the H-O-H angle is 105 degrees."
   ]
  },
  {
   "cell_type": "code",
   "execution_count": 10,
   "metadata": {},
   "outputs": [],
   "source": [
    "zMatrix agg { { o h1 0.9724 }\n",
    "              { h2 o h1 0.9725 105.0 } }"
   ]
  },
  {
   "cell_type": "markdown",
   "metadata": {},
   "source": [
    "## Let's look at the structure you built!"
   ]
  },
  {
   "cell_type": "markdown",
   "metadata": {},
   "source": [
    "##### Use the command *show* to create the image of the aggregate"
   ]
  },
  {
   "cell_type": "markdown",
   "metadata": {},
   "source": [
    "##### You can rotate the image using the left mouse button, zoom using the track wheel or two fingers on the track pad, and you can focus on atoms by left clicking on them. "
   ]
  },
  {
   "cell_type": "code",
   "execution_count": 11,
   "metadata": {
    "tags": []
   },
   "outputs": [
    {
     "data": {
      "application/vnd.jupyter.widget-view+json": {
       "model_id": "7c284de6344b486f78447844a75e3c27",
       "version_major": 2,
       "version_minor": 0
      },
      "text/plain": [
       "A Jupyter Widget"
      ]
     },
     "execution_count": 11,
     "metadata": {},
     "output_type": "execute_result"
    }
   ],
   "source": [
    "show agg"
   ]
  },
  {
   "cell_type": "markdown",
   "metadata": {},
   "source": [
    "---\n",
    "## Our software team"
   ]
  },
  {
   "cell_type": "markdown",
   "metadata": {},
   "source": [
    "- Prof. Christian Schafmeister (meister@temple.edu) http://www.schafmeistergroup.com\n",
    "- Dr. Michael Yonkunas \n",
    "- Martin Cracauer \n",
    "- Alex Wood\n",
    "- Tarn W. Burton\n",
    "- Charles Zhang \n",
    "- Shiho Nagai"
   ]
  },
  {
   "cell_type": "markdown",
   "metadata": {},
   "source": [
    "edited by Ava Dremann 06-16-2022"
   ]
  },
  {
   "cell_type": "code",
   "execution_count": null,
   "metadata": {},
   "outputs": [],
   "source": []
  }
 ],
 "metadata": {
  "kernelspec": {
   "display_name": "Cando",
   "language": "cando",
   "name": "cando"
  },
  "language_info": {
   "codemirror_mode": "text/x-common-lisp",
   "file_extension": ".lisp",
   "mimetype": "text/x-common-lisp",
   "name": "common-lisp",
   "pygments_lexer": "common-lisp",
   "version": "cclasp-boehmprecise-1.0.0-284-ge8f9b4608-gb65e1215-cst"
  }
 },
 "nbformat": 4,
 "nbformat_minor": 4
}
