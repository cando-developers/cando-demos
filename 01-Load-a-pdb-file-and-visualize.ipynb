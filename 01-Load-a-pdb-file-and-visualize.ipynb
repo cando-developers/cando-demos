{
 "cells": [
  {
   "cell_type": "markdown",
   "metadata": {},
   "source": [
    "# How to Load a PDB file and Visualize It"
   ]
  },
  {
   "cell_type": "markdown",
   "metadata": {},
   "source": [
    "<div class=\"alert alert-block alert-info\">\n",
    "    <b>Step 1:</b> <font color='black'>Set up the AMBER paths</font></div>"
   ]
  },
  {
   "cell_type": "markdown",
   "metadata": {},
   "source": [
    "##### Use the command *setupAmberPaths*"
   ]
  },
  {
   "cell_type": "code",
   "execution_count": 7,
   "metadata": {},
   "outputs": [
    {
     "data": {
      "text/plain": [
       "(#P\"/home/avadremann/anaconda3/envs/AmberTools22/dat/antechamber/\"\n",
       " #P\"/home/avadremann/anaconda3/envs/AmberTools22/dat/leap/cmd/oldff/\"\n",
       " #P\"/home/avadremann/anaconda3/envs/AmberTools22/dat/leap/cmd/\"\n",
       " #P\"/home/avadremann/anaconda3/envs/AmberTools22/dat/leap/parm/\"\n",
       " #P\"/home/avadremann/anaconda3/envs/AmberTools22/dat/leap/lib/\"\n",
       " #P\"/home/avadremann/anaconda3/envs/AmberTools22/dat/leap/prep/\")"
      ]
     },
     "execution_count": 7,
     "metadata": {},
     "output_type": "execute_result"
    }
   ],
   "source": [
    "setupAmberPaths"
   ]
  },
  {
   "cell_type": "markdown",
   "metadata": {},
   "source": [
    "<div class=\"alert alert-block alert-info\">\n",
    "    <b>Step 2:</b> <font color='black'>Have Cando read in the Leap scripts</font></div>"
   ]
  },
  {
   "cell_type": "markdown",
   "metadata": {},
   "source": [
    "##### Use the command *source* to pull files"
   ]
  },
  {
   "cell_type": "code",
   "execution_count": 8,
   "metadata": {},
   "outputs": [
    {
     "data": {
      "text/plain": [
       "T"
      ]
     },
     "execution_count": 8,
     "metadata": {},
     "output_type": "execute_result"
    },
    {
     "name": "stdout",
     "output_type": "stream",
     "text": [
      "Warning!  Skipping 10-12 hbond in #<IOSTREAM-STREAM #P\"/home/avadremann/anaconda3/envs/AmberTools22/dat/leap/parm/parm10.dat\">\n",
      "Warning!  Skipping force field atom equivalences in #<IOSTREAM-STREAM #P\"/home/avadremann/anaconda3/envs/AmberTools22/dat/leap/parm/parm10.dat\">\n",
      "Adding force field parm10.dat to DEFAULT\n",
      "Adding force field frcmod.ff14SB to DEFAULT\n"
     ]
    }
   ],
   "source": [
    "source \"leaprc.protein.ff14SB\""
   ]
  },
  {
   "cell_type": "markdown",
   "metadata": {},
   "source": [
    "<div class=\"alert alert-block alert-info\">\n",
    "    <b>Step 3:</b> <font color='black'>Load in a PDB file</font></div>"
   ]
  },
  {
   "cell_type": "markdown",
   "metadata": {},
   "source": [
    "#### Warning: if there are any unbuilt heavy atoms and unbuilt hydrogens. Put the result in the global variable \\*pdb\\*."
   ]
  },
  {
   "cell_type": "markdown",
   "metadata": {},
   "source": [
    "##### Use the command *loadPdb* to load in files"
   ]
  },
  {
   "cell_type": "code",
   "execution_count": 9,
   "metadata": {},
   "outputs": [
    {
     "name": "stdout",
     "output_type": "stream",
     "text": [
      "Scanned    100.0% elapsed: -- ETC: --   \n",
      "Load pdb   100.0% elapsed:   1.0 seconds ETC: --    seconds   Loaded pdb\n",
      "\n"
     ]
    },
    {
     "data": {
      "text/plain": [
       "#<AGGREGATE 5t6o :id 0 0xa7dce6bd>"
      ]
     },
     "execution_count": 9,
     "metadata": {},
     "output_type": "execute_result"
    },
    {
     "name": "stdout",
     "output_type": "stream",
     "text": [
      "Built 44 heavy atoms\n",
      "Built 2896 missing hydrogens\n"
     ]
    }
   ],
   "source": [
    "pdb = loadPdb \"data/pdbload/5t6o.pdb\""
   ]
  },
  {
   "cell_type": "markdown",
   "metadata": {},
   "source": [
    "<div class=\"alert alert-block alert-info\">\n",
    "    <b>Step 4:</b> <font color='black'>Create the image of the structure</font></div>"
   ]
  },
  {
   "cell_type": "markdown",
   "metadata": {},
   "source": [
    "##### Use the command *show* to visualize the structure. Rotate using the left mouse button, scale using two finger dragging"
   ]
  },
  {
   "cell_type": "code",
   "execution_count": 10,
   "metadata": {},
   "outputs": [
    {
     "data": {
      "application/vnd.jupyter.widget-view+json": {
       "model_id": "eafef70666634f65e344b576c1f88e74",
       "version_major": 2,
       "version_minor": 0
      },
      "text/plain": [
       "A Jupyter Widget"
      ]
     },
     "execution_count": 10,
     "metadata": {},
     "output_type": "execute_result"
    }
   ],
   "source": [
    "show pdb"
   ]
  },
  {
   "cell_type": "markdown",
   "metadata": {},
   "source": [
    "<div class=\"alert alert-block alert-info\">\n",
    "    <b>NOTE:</b> <font color='black'> you can always type \"help\" into a cell to see CANDO LEAP commands:</font></div>"
   ]
  },
  {
   "cell_type": "code",
   "execution_count": 11,
   "metadata": {},
   "outputs": [
    {
     "name": "stdout",
     "output_type": "stream",
     "text": [
      "Help is available on the following subjects: \n",
      "add                     addAtomTypes            addH                    addIons                 \n",
      "addIons2                addIonsRand             addPath                 addPdbAtomMap           \n",
      "addPdbResMap            alignAxes               assignAtomTypes         bond                    \n",
      "bondByDistance          cando                   center                  charge                  \n",
      "check                   combine                 compileSmarts           copy                    \n",
      "createAggregate         createAtom              createMolecule          createResidue           \n",
      "createUnit              deSelect                deleteBond              desc                    \n",
      "dir                     easyGaff                help                    jostleAtoms             \n",
      "leapCommandsAvailable   leapCommandsMissing     list                    listForceFields         \n",
      "listVariables           loadAmberParams         loadChemDraw            loadChemDrawAggregate   \n",
      "loadMoe                 loadMol2                loadOff                 loadPdb                 \n",
      "loadSmirnoffParams      logFile                 ls                      measureGeom             \n",
      "minimize                quickload               quit                    remove                  \n",
      "removeMatter            saveAmberParm           saveMol2                savePdb                 \n",
      "scanPdb                 select                  set                     setBox                  \n",
      "setForceField           setupAmberPaths         setupDefaultPaths       show                    \n",
      "showPaths               solvateBox              solvateCap              solvateOct              \n",
      "solvateShell            source                  startSwank              transform               \n",
      "translate               zMatrix                 \n"
     ]
    }
   ],
   "source": [
    "help"
   ]
  },
  {
   "cell_type": "markdown",
   "metadata": {},
   "source": [
    "<div class=\"alert alert-block alert-info\">\n",
    "    <b>NOTE:</b> <font color='black'> You can always type \"help\" and then a command to find out additional information about that CANDO LEAP command:</font></div>"
   ]
  },
  {
   "cell_type": "code",
   "execution_count": 12,
   "metadata": {},
   "outputs": [
    {
     "name": "stdout",
     "output_type": "stream",
     "text": [
      "\n",
      "   Construct the external coordinates for the atoms.\n",
      "\n",
      "      Arguments:\n",
      "              [0]     - Container that contains the atoms.\n",
      "              [1]     - A list of atoms and internal coordinates.\n",
      "\n",
      "      The entries in the list of atoms and internal coordinates must\n",
      "      look like:\n",
      "\n",
      "      a1 a2 b12\n",
      "      a1 a2 a3 b12 t123\n",
      "      a1 a2 a3 a4 b12 t123 p1234\n",
      "      a1 a2 a3 a4 b12 t123 t124 orientation\n",
      "\n",
      "      Where a1,a2,a3,a4 can be an atom or an atom name which exists\n",
      "      in the container.\n",
      "\n"
     ]
    }
   ],
   "source": [
    "help zMatrix"
   ]
  },
  {
   "cell_type": "markdown",
   "metadata": {},
   "source": [
    "edited by Ava Dremann 06-16-2022"
   ]
  }
 ],
 "metadata": {
  "kernelspec": {
   "display_name": "Cando",
   "language": "cando",
   "name": "cando"
  },
  "language_info": {
   "codemirror_mode": "text/x-common-lisp",
   "file_extension": ".lisp",
   "mimetype": "text/x-common-lisp",
   "name": "common-lisp",
   "pygments_lexer": "common-lisp",
   "version": "cclasp-boehmprecise-1.0.0-284-ge8f9b4608-gb65e1215-cst"
  },
  "widgets": {
   "application/vnd.jupyter.widget-state+json": {
    "state": {},
    "version_major": 2,
    "version_minor": 0
   }
  }
 },
 "nbformat": 4,
 "nbformat_minor": 4
}
