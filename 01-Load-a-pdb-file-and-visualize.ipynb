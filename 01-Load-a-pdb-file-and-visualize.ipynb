{
 "cells": [
  {
   "cell_type": "markdown",
   "metadata": {},
   "source": [
    "# Load a PDB file and visualize it"
   ]
  },
  {
   "cell_type": "markdown",
   "metadata": {},
   "source": [
    "Set up the AMBER paths."
   ]
  },
  {
   "cell_type": "code",
   "execution_count": null,
   "metadata": {},
   "outputs": [],
   "source": []
  },
  {
   "cell_type": "code",
   "execution_count": 7,
   "metadata": {},
   "outputs": [
    {
     "data": {
      "text/plain": [
       "NIL"
      ]
     },
     "execution_count": 7,
     "metadata": {},
     "output_type": "execute_result"
    },
    {
     "name": "stdout",
     "output_type": "stream",
     "text": [
      "Help is available on the following subjects: \n",
      "add                     addAtomTypes            addH                    addIons                 \n",
      "addIons2                addIonsRand             addPath                 addPdbAtomMap           \n",
      "addPdbResMap            alignAxes               assignAtomTypes         bond                    \n",
      "bondByDistance          cando                   center                  charge                  \n",
      "check                   combine                 compileSmarts           copy                    \n",
      "createAggregate         createAtom              createMolecule          createResidue           \n",
      "createUnit              deSelect                deleteBond              desc                    \n",
      "dir                     easyGaff                help                    jostleAtoms             \n",
      "leapCommandsAvailable   leapCommandsMissing     list                    listForceFields         \n",
      "listVariables           loadAmberParams         loadChemDraw            loadChemDrawAggregate   \n",
      "loadMoe                 loadMol2                loadOff                 loadPdb                 \n",
      "loadSmirnoffParams      logFile                 ls                      measureGeom             \n",
      "minimize                quickload               quit                    remove                  \n",
      "removeMatter            saveAmberParm           saveMol2                savePdb                 \n",
      "select                  set                     setBox                  setForceField           \n",
      "setupAmberPaths         setupDefaultPaths       show                    showPaths               \n",
      "solvateBox              solvateCap              solvateOct              solvateShell            \n",
      "source                  startSwank              transform               translate               \n",
      "zMatrix                 \n"
     ]
    }
   ],
   "source": [
    "help"
   ]
  },
  {
   "cell_type": "code",
   "execution_count": 8,
   "metadata": {},
   "outputs": [
    {
     "data": {
      "text/plain": [
       "(#P\"/Users/meister/Development/amber20_src/dat/antechamber/\"\n",
       " #P\"/Users/meister/Development/amber20_src/dat/leap/cmd/oldff/\"\n",
       " #P\"/Users/meister/Development/amber20_src/dat/leap/cmd/\"\n",
       " #P\"/Users/meister/Development/amber20_src/dat/leap/parm/\"\n",
       " #P\"/Users/meister/Development/amber20_src/dat/leap/lib/\"\n",
       " #P\"/Users/meister/Development/amber20_src/dat/leap/prep/\")"
      ]
     },
     "execution_count": 8,
     "metadata": {},
     "output_type": "execute_result"
    }
   ],
   "source": [
    "setupAmberPaths"
   ]
  },
  {
   "cell_type": "markdown",
   "metadata": {},
   "source": [
    "Cando reads Leap scripts."
   ]
  },
  {
   "cell_type": "code",
   "execution_count": 9,
   "metadata": {},
   "outputs": [
    {
     "data": {
      "text/plain": [
       "T"
      ]
     },
     "execution_count": 9,
     "metadata": {},
     "output_type": "execute_result"
    },
    {
     "name": "stdout",
     "output_type": "stream",
     "text": [
      "Warning!  Skipping 10-12 hbond in #<IOSTREAM-STREAM #P\"/Users/meister/Development/amber20_src/dat/leap/parm/parm10.dat\">\n",
      "Warning!  Skipping force field atom equivalences in #<IOSTREAM-STREAM #P\"/Users/meister/Development/amber20_src/dat/leap/parm/parm10.dat\">\n",
      "Adding force field parm10.dat to DEFAULT\n",
      "Adding force field frcmod.ff14SB to DEFAULT\n"
     ]
    }
   ],
   "source": [
    "source \"leaprc.protein.ff14SB\""
   ]
  },
  {
   "cell_type": "markdown",
   "metadata": {},
   "source": [
    "Load a PDB file - warn if there are any unbuilt heavy atoms and unbuilt hydrogens. Put the result in the global variable \\*pdb\\*."
   ]
  },
  {
   "cell_type": "code",
   "execution_count": 10,
   "metadata": {},
   "outputs": [
    {
     "data": {
      "text/plain": [
       "#<AGGREGATE 5t6o :id 0 0x784ed425>"
      ]
     },
     "execution_count": 10,
     "metadata": {},
     "output_type": "execute_result"
    }
   ],
   "source": [
    "pdb = loadPdb \"data/pdbload/5t6o.pdb\""
   ]
  },
  {
   "cell_type": "markdown",
   "metadata": {},
   "source": [
    "Use a simple builder that builds unbuilt atoms by building them a random direction and 1A away from their bonded neighbor."
   ]
  },
  {
   "cell_type": "code",
   "execution_count": 11,
   "metadata": {},
   "outputs": [
    {
     "data": {
      "text/plain": [
       "NIL"
      ]
     },
     "execution_count": 11,
     "metadata": {},
     "output_type": "execute_result"
    }
   ],
   "source": [
    "(simple-build-unbuilt-atoms pdb)"
   ]
  },
  {
   "cell_type": "code",
   "execution_count": 12,
   "metadata": {},
   "outputs": [
    {
     "data": {
      "text/plain": [
       "0"
      ]
     },
     "execution_count": 12,
     "metadata": {},
     "output_type": "execute_result"
    }
   ],
   "source": [
    "(count-unbuilt-atoms pdb)"
   ]
  },
  {
   "cell_type": "markdown",
   "metadata": {},
   "source": [
    "Show the structure. Rotate using the left mouse button, scale using two finger dragging."
   ]
  },
  {
   "cell_type": "code",
   "execution_count": 13,
   "metadata": {},
   "outputs": [
    {
     "data": {
      "application/vnd.jupyter.widget-view+json": {
       "model_id": "6f5ffd6bc4554e287c336e5aaaa81bc7",
       "version_major": 2,
       "version_minor": 0
      },
      "text/plain": [
       "A Jupyter Widget"
      ]
     },
     "execution_count": 13,
     "metadata": {},
     "output_type": "execute_result"
    }
   ],
   "source": [
    "show pdb"
   ]
  },
  {
   "cell_type": "code",
   "execution_count": null,
   "metadata": {},
   "outputs": [],
   "source": []
  }
 ],
 "metadata": {
  "kernelspec": {
   "display_name": "Cando (dcando)",
   "language": "cando",
   "name": "cando_dcando"
  },
  "language_info": {
   "codemirror_mode": "text/x-common-lisp",
   "file_extension": ".lisp",
   "mimetype": "text/x-common-lisp",
   "name": "common-lisp",
   "pygments_lexer": "common-lisp",
   "version": "cclasp-boehmprecise-1.0.0-184-g78ae198a6-cst"
  },
  "widgets": {
   "application/vnd.jupyter.widget-state+json": {
    "state": {},
    "version_major": 2,
    "version_minor": 0
   }
  }
 },
 "nbformat": 4,
 "nbformat_minor": 4
}
