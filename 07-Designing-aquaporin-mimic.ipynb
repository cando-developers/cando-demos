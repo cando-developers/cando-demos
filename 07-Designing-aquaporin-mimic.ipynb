{
 "cells": [
  {
   "cell_type": "markdown",
   "metadata": {},
   "source": [
    "# Design of an Aquaporin mimic for desalinization"
   ]
  },
  {
   "cell_type": "markdown",
   "metadata": {},
   "source": [
    "The molecule below is a 35 Angstrom long bundle of three greasy spiroligomers that could be dropped into a membrane to simulate its dynamics and its ability to filter water and exclude salts.\n",
    "\n",
    "The goal of this design is to exploit symmetry to create something that is easier to synthesize.  This structure consists of just three spiroligomers and has 3-fold symmetry.\n",
    "\n",
    "It was built using the Cando programming language.  The Cando source file builds the three-dimensional structure from a Chemdraw structure."
   ]
  },
  {
   "cell_type": "code",
   "execution_count": null,
   "metadata": {},
   "outputs": [],
   "source": [
    "(png-from-file \"data/aquaporin/trimemwide image.png\")"
   ]
  },
  {
   "cell_type": "code",
   "execution_count": null,
   "metadata": {},
   "outputs": [],
   "source": [
    "(progn\n",
    "  (defun line (x p0 p1)\n",
    "    (let* ((dir (geom:sub p1 p0))\n",
    "           (p (geom:add p0 (list (geom:v* dir x)))))\n",
    "      p))\n",
    "\n",
    "  (defclass unit-cell ()\n",
    "    ((unit-s :initarg :unit-s :accessor unit-s)\n",
    "     (unit-t :initarg :unit-t :accessor unit-t)))\n",
    "\n",
    "  (defun radians (angle-degrees)\n",
    "    (* 0.0174533 angle-degrees))\n",
    "  \n",
    "  (defun p3-unit-cell (dist &optional (angle-degrees 0.0) (s-dir (geom:vec 1.0 0.0 0.0)))\n",
    "    (let* ((rot-cell (geom:make-m4-rotate-z (radians angle-degrees)))\n",
    "           (s-scaled (geom:v* (geom:vnormalized s-dir) dist))\n",
    "           (s-cell (geom:m*v rot-cell s-scaled))\n",
    "           (trans (geom:make-m4-rotate-z (* -60.0 0.0174533)))\n",
    "           (t-cell (geom:m*v trans s-cell)))\n",
    "      (make-instance 'unit-cell :unit-s s-cell :unit-t t-cell)))\n",
    "\n",
    "  (defun p1-unit-cell (s-cell t-cell)\n",
    "      (make-instance 'unit-cell :unit-s s-cell :unit-t t-cell))\n",
    "\n",
    "  (defun add-unit-cell (accumulate-agg original-agg unit-cell si ti)\n",
    "    (let* ((vec-s (geom:v* (unit-s unit-cell) si))\n",
    "           (vec-t (geom:v* (unit-t unit-cell) ti))\n",
    "           (vec (geom:v+ vec-s vec-t))\n",
    "           (trans (geom:make-m4-translate vec))\n",
    "           (new-agg (chem:matter-copy original-agg)))\n",
    "      (chem:apply-transform-to-atoms new-agg trans)\n",
    "      (chem:map-molecules nil (lambda (m) (chem:add-molecule accumulate-agg m))\n",
    "                          new-agg)))\n",
    "\n",
    "  (defparameter *positions* '(\n",
    "                              ( 0 0 )\n",
    "                              ( 1 0 )\n",
    "                              ( 0 1 )\n",
    "                              ( 1 1 )\n",
    "                              ( 2 0 )\n",
    "                              ( 2 1 )\n",
    "                              ( -1 2 )\n",
    "                              ( 1 2 )\n",
    "                              ( 0 2 )\n",
    "                              ( -1 3 )\n",
    "                              ( 0 3 )\n",
    "                              ( 1 3 )\n",
    "                              ))\n",
    "\n",
    "  (defun build-cell (orig-agg unit-cell &optional (positions *positions*))\n",
    "    (let ((agg (chem:make-aggregate)))\n",
    "      (dolist (pos positions)\n",
    "        (let ((ps (first pos))\n",
    "              (pt (second pos)))\n",
    "          (add-unit-cell agg orig-agg unit-cell ps pt)))\n",
    "      agg))\n",
    "\n",
    "  (defun energy-for-agg (agg)\n",
    "    (let ((ef (chem:make-energy-function agg *ff*)))\n",
    "      (chem:calculate-energy ef)))\n",
    "\n",
    "  (defun quick-minimize (energy-func)\n",
    "    (let ((minimizer (chem:make-minimizer :energy-function energy-func))\n",
    "          (restraint-term (chem:get-anchor-restraint-component energy-func)))\n",
    "      (chem:disable restraint-term)\n",
    "      (cando:configure-minimizer minimizer\n",
    "                                 :max-steepest-descent-steps 5\n",
    "                                 :max-conjugate-gradient-steps 5\n",
    "                                 :max-truncated-newton-steps 0)\n",
    "      (chem:enable-print-intermediate-results minimizer)\n",
    "      #+(or)(chem:set-option energy-func 'chem:nonbond-term nil)\n",
    "      #+(or)(cando:minimize-no-fail minimizer)\n",
    "      (chem:set-option energy-func 'chem:nonbond-term t)\n",
    "      (cando:minimize-no-fail minimizer)))\n",
    "\n",
    "  (defun check-interactions (agg)\n",
    "    (let ((energy-function (chem:make-energy-function agg *ff*)))\n",
    "      (chem:check-for-beyond-threshold-interactions energy-function)))\n",
    "  \n",
    "  (defun sample (agg)\n",
    "    (let ((energy-function (chem:make-energy-function agg *ff*)))\n",
    "      (quick-minimize energy-function)\n",
    "      (values (chem:calculate-energy energy-function) (chem:check-for-beyond-threshold-interactions energy-function))))\n",
    "  \n",
    "  (defun search-p3-dist (orig-agg &key dist-start dist-end (dist-inc 2.0)\n",
    "                                    rot-start rot-end (rot-inc (* 20.0 0.0174533)))\n",
    "    (let (results)\n",
    "      (loop for dist from dist-start to dist-end by dist-inc\n",
    "         do (loop for rot from rot-start to rot-end by rot-inc\n",
    "               for unit-cell = (p3-unit-cell dist rot)\n",
    "               for agg = (build-cell orig-agg unit-cell *positions*)\n",
    "               do (progn\n",
    "                    (format t \"Searching distance: ~a rotation: ~a~%\" dist rot)\n",
    "                    (multiple-value-bind  (energy beyond-threshold)\n",
    "                        (sample agg)\n",
    "                      (push (list energy beyond-threshold dist rot) results)\n",
    "                      (format t \"ENERGY: ~a beyond-threshold: ~a  @ distance: ~a rotation: ~a~%\"\n",
    "                              energy beyond-threshold dist rot )))))\n",
    "      results))\n",
    "  ;; More functions here?\n",
    "  )"
   ]
  },
  {
   "cell_type": "code",
   "execution_count": null,
   "metadata": {},
   "outputs": [],
   "source": [
    "(progn\n",
    "  (defparameter *cd*\n",
    "    (with-open-file\n",
    "        (fin (probe-file \"data/aquaporin/trimemwide.cdxml\") :direction :input)\n",
    "      (chem:make-chem-draw fin)))\n",
    "  (defparameter *agg* (chem:as-aggregate *cd*)))\n"
   ]
  },
  {
   "cell_type": "code",
   "execution_count": null,
   "metadata": {},
   "outputs": [],
   "source": [
    "(progn\n",
    "  (defparameter *stereocenters*\n",
    "    (sort (cando:gather-stereocenters *agg*) #'string< :key #'chem:get-name))\n",
    "  (cando:set-stereoisomer-func *stereocenters* (constantly :S) :show t)\n",
    "  (cando:set-stereoisomer-func (select:atoms-with-property *agg* :lead) (constantly :R) :show t)\n",
    "  (dolist (a (select:atoms-with-property *agg* :stereo))\n",
    "    (chem:set-configuration a (getf (chem:properties a) :stereo))\n",
    "    (format t \"Set ~a to ~a~%\" (chem:get-name a) (chem:get-configuration a))))"
   ]
  },
  {
   "cell_type": "code",
   "execution_count": null,
   "metadata": {},
   "outputs": [],
   "source": [
    ";;; ------ Restrain a few atoms in space -------\n",
    "(defparameter *fix-atoms*\n",
    "  (sort (select:atoms-with-property *agg* :fix) #'string<\n",
    "        :key (lambda (a) (string (getf (chem:properties a) :fix)))))"
   ]
  },
  {
   "cell_type": "code",
   "execution_count": null,
   "metadata": {},
   "outputs": [],
   "source": [
    ";;; ------ Print some atom properties\n",
    "(dolist (a *fix-atoms*)\n",
    "  (format t \"properties: ~a~%\" (chem:properties a)))"
   ]
  },
  {
   "cell_type": "code",
   "execution_count": null,
   "metadata": {},
   "outputs": [],
   "source": [
    "(let ((macrocycle-points (anchor:circle-points 10 3 :z 20))\n",
    "      (top-trifold-points (anchor:circle-points 6 3  :z 15))\n",
    "      (bottom-trifold-points (anchor:circle-points 10 6 :z -20)))\n",
    "  (defparameter *points* (append macrocycle-points\n",
    "                                 top-trifold-points\n",
    "                                 bottom-trifold-points))\n",
    ";;; anchor the :fix atoms to *fixed-points*\n",
    "  (anchor:on-points *fix-atoms* *points*))"
   ]
  },
  {
   "cell_type": "code",
   "execution_count": null,
   "metadata": {},
   "outputs": [],
   "source": [
    "(leap::setup-gaff)\n",
    "(cando:jostle *agg* 40)\n",
    "(energy:minimize *agg*)\n",
    "(energy:minimize *agg* :restraints-on nil)"
   ]
  },
  {
   "cell_type": "markdown",
   "metadata": {},
   "source": [
    "#### The energy minimization above will take a while."
   ]
  },
  {
   "cell_type": "code",
   "execution_count": null,
   "metadata": {},
   "outputs": [],
   "source": [
    "(show *agg*)"
   ]
  },
  {
   "cell_type": "code",
   "execution_count": null,
   "metadata": {},
   "outputs": [],
   "source": [
    ";;; Save the structure for later\n",
    "(save-mol2 *agg* \"data/aquaporin/built.mol2\")"
   ]
  },
  {
   "cell_type": "markdown",
   "metadata": {},
   "source": [
    "# Jump to here in demo if time is too short to run the minimization."
   ]
  },
  {
   "cell_type": "code",
   "execution_count": null,
   "metadata": {},
   "outputs": [],
   "source": [
    "(:= *agg* (cando:load-mol2 \"data/aquaporin/built-safe.mol2\"))"
   ]
  },
  {
   "cell_type": "code",
   "execution_count": null,
   "metadata": {},
   "outputs": [],
   "source": [
    "(show *agg*)"
   ]
  },
  {
   "cell_type": "code",
   "execution_count": null,
   "metadata": {},
   "outputs": [],
   "source": [
    "(progn\n",
    "  (defparameter *cell-dimension* 16.5)\n",
    "  (defparameter *array* (build-cell *agg* (p3-unit-cell *cell-dimension*)))\n",
    "  (defparameter *ac-agg* *array*))"
   ]
  },
  {
   "cell_type": "code",
   "execution_count": null,
   "metadata": {},
   "outputs": [],
   "source": [
    "(show *array*)"
   ]
  },
  {
   "cell_type": "code",
   "execution_count": null,
   "metadata": {},
   "outputs": [],
   "source": [
    "(progn\n",
    "  (defparameter *carbonyl* (core:make-cxx-object 'chem:chem-info))\n",
    "  (chem:compile-smarts *carbonyl* \"C1(~O2)-N\")\n",
    "  (defun find-amides (agg)\n",
    "    (let ((num 0)\n",
    "          (max-c 0.0)\n",
    "          (min-o 0.0))\n",
    "      (chem:map-atoms\n",
    "       nil\n",
    "       (lambda (a)\n",
    "         (incf num)\n",
    "         (let ((matchp (chem:matches *carbonyl* a)))\n",
    "           (when matchp\n",
    "             (let* ((match (chem:get-match *carbonyl*))\n",
    "                    (atomc (chem:get-atom-with-tag match :1))\n",
    "                    (atomo (chem:get-atom-with-tag match :2))\n",
    "                    (chc (chem:get-charge atomc))\n",
    "                    (cho (chem:get-charge atomo)))\n",
    "               (format t \"~a(~a) ~a(~a) ~a~%\" atomc chc atomo cho (+ chc cho))))))\n",
    "       agg)\n",
    "      (format t \"Searched ~a atoms~%\" num)))\n",
    "  (defun fix-carbonyls (agg)\n",
    "    (chem:map-atoms\n",
    "     nil\n",
    "     (lambda (a)\n",
    "       (let ((matchp (chem:matches *carbonyl* a)))\n",
    "         (when matchp\n",
    "           (let* ((match (chem:get-match *carbonyl*))\n",
    "                  (atomc (chem:get-atom-with-tag match :1))\n",
    "                  (atomo (chem:get-atom-with-tag match :2))\n",
    "                  (chc (chem:get-charge atomc))\n",
    "                  (cho (chem:get-charge atomo))\n",
    "                  (new-chc 0.51)\n",
    "                  (new-cho (+ (- 0.51 ) (+ chc cho))))\n",
    "             (chem:set-charge atomc new-chc)\n",
    "             (chem:set-charge atomo new-cho)))))\n",
    "     agg))\n",
    "  (defun total-charge (agg)\n",
    "    (let ((total-charge 0.0))\n",
    "      (chem:map-atoms\n",
    "       nil\n",
    "       (lambda (a)\n",
    "         (setf total-charge (+ total-charge (chem:get-charge a))))\n",
    "       agg)\n",
    "      total-charge)))"
   ]
  },
  {
   "cell_type": "code",
   "execution_count": null,
   "metadata": {},
   "outputs": [],
   "source": [
    "(progn\n",
    "  (defparameter *unit-cell* (p3-unit-cell *cell-dimension*))\n",
    "  (defparameter *x-pbc* (geom:v* (unit-s *unit-cell*) 3))\n",
    "  (defparameter *y-pbc* (geom:vec 0.0 (* (geom:vy (unit-t *unit-cell*)) 4) 0.0))\n",
    "  (defparameter *pbc-min* (geom:vec 0.0 0.0 -40.0))\n",
    "  (defparameter *pbc-max* (geom:vec (geom:vx *x-pbc*) (geom:vy *y-pbc*) 40.0))\n",
    "  (format t \"The pbc limits are: ~a ~a~%\" *pbc-min* *pbc-max*))\n",
    ";; Water box is 50x50x80"
   ]
  },
  {
   "cell_type": "markdown",
   "metadata": {},
   "source": [
    "## There is a bug that breaks water box loading - I'll fix it and then we can continue from here."
   ]
  },
  {
   "cell_type": "code",
   "execution_count": null,
   "metadata": {},
   "outputs": [],
   "source": [
    "(defparameter *water* (cando:load-psf-pdb \"data/aquaporin/waterBox-original.psf\" \"data/aquaporin/waterBox-original.pdb\"))"
   ]
  },
  {
   "cell_type": "code",
   "execution_count": null,
   "metadata": {
    "collapsed": true
   },
   "outputs": [],
   "source": [
    ";;; ------ Tile the water boxes ------\n",
    "(defparameter *water-array*\n",
    "  (build-cell *water*\n",
    "              (p1-unit-cell (geom:vec 50.0 0.0 0.0)\n",
    "                            (geom:vec 0.0 50.0 0.0))\n",
    "              '((0 0) (0 1) (1 0) (1 1))))\n"
   ]
  },
  {
   "cell_type": "code",
   "execution_count": null,
   "metadata": {
    "collapsed": true
   },
   "outputs": [],
   "source": [
    "(defclass min-max-box ()\n",
    "  ((box-min :initarg :box-min :accessor box-min)\n",
    "   (box-max :initarg :box-max :accessor box-max)))"
   ]
  },
  {
   "cell_type": "code",
   "execution_count": null,
   "metadata": {
    "collapsed": true
   },
   "outputs": [],
   "source": [
    ";;; ---- Upper and lower boxes -----\n",
    "(progn\n",
    "  (defparameter *lower-box*\n",
    "    (make-instance 'min-max-box\n",
    "                   :box-min (geom:vec (geom:vx *pbc-min*)\n",
    "                                      (geom:vy *pbc-min*)\n",
    "                                      -40)\n",
    "                   :box-max (geom:vec (geom:vx *pbc-max*)\n",
    "                                      (geom:vy *pbc-max*)\n",
    "                                      -21)))\n",
    "  (defparameter *upper-box*\n",
    "    (make-instance 'min-max-box\n",
    "                   :box-min (geom:vec 0 0 21)\n",
    "                   :box-max (geom:vec (geom:vx *pbc-max*)\n",
    "                                      (geom:vy *pbc-max*)\n",
    "                                      40))))"
   ]
  },
  {
   "cell_type": "code",
   "execution_count": null,
   "metadata": {
    "collapsed": true
   },
   "outputs": [],
   "source": [
    ";;; --- Determine if a molecule is within a box ----\n",
    "(defun molecule-in-box (molecule box)\n",
    "  (let ((center (chem:geometric-center molecule)))\n",
    "    (and (< (geom:vx (box-min box)) (geom:vx center) (geom:vx (box-max box)))\n",
    "         (< (geom:vy (box-min box)) (geom:vy center) (geom:vy (box-max box)))\n",
    "         (< (geom:vz (box-min box)) (geom:vz center) (geom:vz (box-max box))))))\n",
    "\n",
    "(defun isolate-molecules (aggregate box)\n",
    "  (let ((new-agg (chem:make-aggregate)))\n",
    "    (chem:map-molecules\n",
    "     nil\n",
    "     (lambda (m)\n",
    "       (when (molecule-in-box m box)\n",
    "         (chem:add-molecule new-agg m)))\n",
    "     aggregate)\n",
    "    new-agg))\n",
    "\n",
    "(progn\n",
    "  (defparameter *lower-water* (isolate-molecules *water-array* *lower-box*))\n",
    "  (defparameter *upper-water* (isolate-molecules *water-array* *upper-box*)))"
   ]
  },
  {
   "cell_type": "code",
   "execution_count": null,
   "metadata": {
    "collapsed": true
   },
   "outputs": [],
   "source": [
    "(progn\n",
    "  (defparameter *water-and-channels* (chem:make-aggregate))\n",
    "  (defparameter *all0* (cando:merge-into-one-aggregate *ac-agg* *upper-water*))\n",
    "  (defparameter *all* (cando:merge-into-one-aggregate *all0* *lower-water*)))"
   ]
  },
  {
   "cell_type": "code",
   "execution_count": null,
   "metadata": {
    "collapsed": true
   },
   "outputs": [],
   "source": [
    "(show *all*)"
   ]
  },
  {
   "cell_type": "code",
   "execution_count": null,
   "metadata": {
    "collapsed": true
   },
   "outputs": [],
   "source": [
    "(progn\n",
    "  (defparameter *types* (chem:get-types *ff*))\n",
    "  (chem:assign-types *types* *all*))"
   ]
  },
  {
   "cell_type": "code",
   "execution_count": null,
   "metadata": {
    "collapsed": true
   },
   "outputs": [],
   "source": [
    "(cando:save-mol2 *all* #P\"trimemwide-water-carbonyl.mol2\" :use-sybyl-types nil)"
   ]
  }
 ],
 "metadata": {
  "kernelspec": {
   "display_name": "cando",
   "language": "lisp",
   "name": "cando"
  },
  "language_info": {
   "codemirror_mode": "text/x-common-lisp",
   "file_extension": ".lisp",
   "mimetype": "text/x-common-lisp",
   "name": "common-lisp",
   "pygments_lexer": "common-lisp",
   "version": "X3J13"
  }
 },
 "nbformat": 4,
 "nbformat_minor": 2
}
