{
 "cells": [
  {
   "cell_type": "code",
   "execution_count": 1,
   "metadata": {},
   "outputs": [
    {
     "data": {
      "text/plain": [
       "(#P\"/Users/meister/Development/amber18/dat/antechamber/\"\n",
       " #P\"/Users/meister/Development/amber18/dat/leap/cmd/oldff/\"\n",
       " #P\"/Users/meister/Development/amber18/dat/leap/cmd/\"\n",
       " #P\"/Users/meister/Development/amber18/dat/leap/parm/\"\n",
       " #P\"/Users/meister/Development/amber18/dat/leap/lib/\"\n",
       " #P\"/Users/meister/Development/amber18/dat/leap/prep/\")"
      ]
     },
     "execution_count": 1,
     "metadata": {},
     "output_type": "execute_result"
    },
    {
     "data": {
      "text/plain": [
       "T"
      ]
     },
     "execution_count": 1,
     "metadata": {},
     "output_type": "execute_result"
    },
    {
     "data": {
      "text/plain": [
       "(TPF TIP4PEWBOX TIP5PBOX MEOHBOX FB3BOX OPCBOX OP3 TP3 POL3BOX SPCFWBOX TP4 SPF\n",
       " FB3 TP5 QSPCFWBOX SPC FB4 CHCL3BOX DC4 TIP4PBOX SPG OPC T4E PL3 TIP3PFBOX\n",
       " OPC3BOX TIP3PBOX SPCBOX FB4BOX NMABOX)"
      ]
     },
     "execution_count": 1,
     "metadata": {},
     "output_type": "execute_result"
    },
    {
     "data": {
      "text/plain": [
       "(TH H3O+ U4+ CU PR TM BR TB CO ZR NA+ ZN IN RA NI FE RB HF K CS AL F SR CA SM\n",
       " LA PU NH4 LU PD CL LI IOD HG CR GD3 SN TL PT BE EU3 MG V2+ AG YB2 NA ER DY MN\n",
       " CU1 HZ+ CE HE+ CL- PB FE2 Y K+ CD ND EU BA)"
      ]
     },
     "execution_count": 1,
     "metadata": {},
     "output_type": "execute_result"
    },
    {
     "data": {
      "text/plain": [
       "#<FORCE-FIELD ATOMTYPE_GFF.DEF>"
      ]
     },
     "execution_count": 1,
     "metadata": {},
     "output_type": "execute_result"
    },
    {
     "data": {
      "text/plain": [
       "T"
      ]
     },
     "execution_count": 1,
     "metadata": {},
     "output_type": "execute_result"
    },
    {
     "data": {
      "text/plain": [
       "T"
      ]
     },
     "execution_count": 1,
     "metadata": {},
     "output_type": "execute_result"
    },
    {
     "name": "stdout",
     "output_type": "stream",
     "text": [
      "Adding force field frcmod.tip3p to DEFAULT\n",
      "Adding force field frcmod.ions1lm_126_tip3p to DEFAULT\n",
      "Adding force field frcmod.ionsjc_tip3p to DEFAULT\n",
      "Adding force field frcmod.ions234lm_126_tip3p to DEFAULT\n",
      "Warning!  Skipping 10-12 hbond in #<IOSTREAM-STREAM #P\"/Users/meister/Development/amber18/dat/leap/parm/parm10.dat\">\n",
      "Warning!  Skipping force field atom equivalences in #<IOSTREAM-STREAM #P\"/Users/meister/Development/amber18/dat/leap/parm/parm10.dat\">\n",
      "Adding force field parm10.dat to DEFAULT\n",
      "Adding force field frcmod.ff14SB to DEFAULT\n",
      "Warning!  Skipping 10-12 hbond in #<IOSTREAM-STREAM #P\"/Users/meister/Development/amber18/dat/leap/parm/gaff.dat\">\n",
      "Warning!  Skipping force field atom equivalences in #<IOSTREAM-STREAM #P\"/Users/meister/Development/amber18/dat/leap/parm/gaff.dat\">\n",
      "Adding force field gaff.dat to DEFAULT\n"
     ]
    }
   ],
   "source": [
    "(leap:setup-amber-paths)\n",
    "(leap:source \"leaprc.water.tip3p\")\n",
    "(leap:load-off \"solvents.lib\")\n",
    "(leap:load-off \"atomic_ions.lib\")\n",
    "(leap:load-atom-type-rules \"ATOMTYPE_GFF.DEF\")\n",
    "(leap:source \"leaprc.ff14SB.redq\")\n",
    "(leap:source \"leaprc.gaff\")"
   ]
  },
  {
   "cell_type": "code",
   "execution_count": 2,
   "metadata": {},
   "outputs": [
    {
     "data": {
      "text/plain": [
       "#P\"/Users/meister/Development/cando-demos/\""
      ]
     },
     "execution_count": 2,
     "metadata": {},
     "output_type": "execute_result"
    }
   ],
   "source": [
    "*default-pathname-defaults*"
   ]
  },
  {
   "cell_type": "code",
   "execution_count": 3,
   "metadata": {},
   "outputs": [
    {
     "data": {
      "text/plain": [
       "#P\"/Users/meister/Development/cando-demos/data/amber-dynamics/\""
      ]
     },
     "execution_count": 3,
     "metadata": {},
     "output_type": "execute_result"
    }
   ],
   "source": [
    "(setf *default-pathname-defaults* (merge-pathnames \"data/amber-dynamics/\" *default-pathname-defaults*))"
   ]
  },
  {
   "cell_type": "code",
   "execution_count": 10,
   "metadata": {},
   "outputs": [
    {
     "ename": "PACKAGE-DOES-NOT-EXIST",
     "evalue": "Package named \"FEP\" does not exist.",
     "execution_count": 10,
     "output_type": "error",
     "traceback": []
    },
    {
     "name": "stderr",
     "output_type": "stream",
     "text": [
      "Package named \"FEP\" does not exist."
     ]
    }
   ],
   "source": [
    "(defparameter tirun::*tir* (tirun:load-tiruns \"postcharge/feps.cando\"))"
   ]
  },
  {
   "cell_type": "code",
   "execution_count": 8,
   "metadata": {},
   "outputs": [
    {
     "ename": "UNBOUND-VARIABLE",
     "evalue": "The variable TIRUN::*FEPS* is unbound.",
     "execution_count": 8,
     "output_type": "error",
     "traceback": []
    },
    {
     "name": "stderr",
     "output_type": "stream",
     "text": [
      "The variable TIRUN::*FEPS* is unbound."
     ]
    }
   ],
   "source": [
    "(common-lisp:defparameter tirun::*receptor*\n",
    "  (common-lisp:first (tirun:receptors tirun::*feps*)))"
   ]
  },
  {
   "cell_type": "code",
   "execution_count": 7,
   "metadata": {},
   "outputs": [
    {
     "data": {
      "text/plain": [
       "FEP::*SIDE-NAME*"
      ]
     },
     "execution_count": 7,
     "metadata": {},
     "output_type": "execute_result"
    }
   ],
   "source": [
    "(common-lisp:defparameter fep::*side-name* :complex)"
   ]
  },
  {
   "cell_type": "code",
   "execution_count": 8,
   "metadata": {},
   "outputs": [
    {
     "data": {
      "text/plain": [
       "FEP::*MORPH*"
      ]
     },
     "execution_count": 8,
     "metadata": {},
     "output_type": "execute_result"
    }
   ],
   "source": [
    "(common-lisp:defparameter fep::*morph*\n",
    "  (fep::find-morph-with-name \"AA-AB\" fep::*feps*))"
   ]
  },
  {
   "cell_type": "code",
   "execution_count": 9,
   "metadata": {},
   "outputs": [
    {
     "data": {
      "text/plain": [
       "FEP::*TARGET*"
      ]
     },
     "execution_count": 9,
     "metadata": {},
     "output_type": "execute_result"
    }
   ],
   "source": [
    "(common-lisp:defparameter fep::*target* (fep:target fep::*morph*))"
   ]
  },
  {
   "cell_type": "code",
   "execution_count": 10,
   "metadata": {},
   "outputs": [
    {
     "data": {
      "text/plain": [
       "FEP::*SYSTEM*"
      ]
     },
     "execution_count": 10,
     "metadata": {},
     "output_type": "execute_result"
    }
   ],
   "source": [
    "(common-lisp:defparameter fep::*system*\n",
    "  (cando:combine (chem:matter-copy (fep::molecule fep::*target*))\n",
    "                 (chem:matter-copy fep::*receptor*)))"
   ]
  },
  {
   "cell_type": "code",
   "execution_count": 11,
   "metadata": {},
   "outputs": [
    {
     "name": "stdout",
     "output_type": "stream",
     "text": [
      "Total bounding box for atom centers:   60.76  64.85  73.38\n",
      "There are 13824 solvent molecules and 2616 solute atoms\n",
      "Completed  [**************************************************] ETC: --\n",
      "Total charge 4.000400000000006\n",
      "4 Cl- ions required to neutraize. \n",
      "Adding 4 counter ions to NIL using 1A grid. \n",
      "About to octree-create\n",
      "Total solute charge:   4.00  Max atom radius:   2.00\n",
      "Grid extends from solute vdw + 2.51  to  8.51\n",
      "Box:\n",
      "   enclosing:  -28.88 -25.96 -31.82   24.91 31.92 34.59\n",
      "PdHalfEdges:        64.00\n",
      "PdHalfDiagonals:     110.85 Angstrom.\n",
      "PdHalfEdges:        32.00\n",
      "PdHalfDiagonals:     55.43 Angstrom.\n",
      "PdHalfEdges:        16.00\n",
      "PdHalfDiagonals:     27.71 Angstrom.\n",
      "PdHalfEdges:         8.00\n",
      "PdHalfDiagonals:     13.86 Angstrom.\n",
      "PdHalfEdges:         4.00\n",
      "PdHalfDiagonals:      6.93 Angstrom.\n",
      "PdHalfEdges:         2.00\n",
      "PdHalfDiagonals:      3.46 Angstrom.\n",
      "PdHalfEdges:         1.00\n",
      "PdHalfDiagonals:      1.73 Angstrom.\n",
      "PdHalfEdges:         0.50\n",
      "PdHalfDiagonals:      0.87 Angstrom.\n",
      "   sized:\t\t\t      99.12 102.04 96.18\n",
      "   edge:        128.00\n",
      "Resolution:      1.00 Angstrom.\n",
      "Tree depth: 7\n",
      "Volume =  2.09 of box, grid points 43904\n",
      "Came out of octree-create\n",
      " Solvent present: replacing closest with ion when steric overlaps occur\n",
      "Replacing solvent molecule\n",
      "Placed Cl- in NIL at 4.122305062002276d0 25.041145959328233d0 11.184277736915902d0\n",
      "Replacing solvent molecule\n",
      "Placed Cl- in NIL at -9.877694937997724d0 3.041145959328233d0 -21.815722263084098d0\n",
      "Placed Cl- in NIL at -6.877694937997724d0 15.041145959328233d0 8.184277736915902d0\n",
      "Replacing solvent molecule\n",
      "Placed Cl- in NIL at 8.122305062002276d0 -17.958854040671767d0 -7.815722263084098d0\n",
      "Saving matter to /Users/meister/Development/deploy-demos/demos/data/amber-dynamics/complex.mol2\n"
     ]
    },
    {
     "data": {
      "text/plain": [
       "NIL"
      ]
     },
     "execution_count": 11,
     "metadata": {},
     "output_type": "execute_result"
    }
   ],
   "source": [
    "(leap:solvate-box fep::*system*\n",
    "                  (leap.core:lookup-variable (fep::solvent-box fep::*feps*))\n",
    "                  (fep::solvent-buffer fep::*feps*)\n",
    "                  (fep::solvent-closeness fep::*feps*))\n",
    "(leap.add-ions:add-ions fep::*system* :|Cl-| 0)\n",
    "(cando:save-mol2 fep::*system* (common-lisp:ensure-directories-exist \"complex.mol2\"))"
   ]
  },
  {
   "cell_type": "code",
   "execution_count": 12,
   "metadata": {},
   "outputs": [
    {
     "name": "stdout",
     "output_type": "stream",
     "text": [
      "Constructing energy function\n",
      "Writing to /Users/meister/Development/deploy-demos/demos/data/amber-dynamics/complex.parm7\n",
      "Starting prepare-amber-energy-dihedral\n",
      "Ordering i1,i2,i3,i4 prepare-amber-energy-dihedral\n",
      "1-4 interactions prepare-amber-energy-dihedral\n",
      "Counting w and w/o water prepare-amber-energy-dihedral\n",
      "Extracting prepare-amber-energy-dihedral\n",
      "Saving     [******************************************] ETC: --\n"
     ]
    },
    {
     "data": {
      "text/plain": [
       "#<ENERGY-FUNCTION >"
      ]
     },
     "execution_count": 12,
     "metadata": {},
     "output_type": "execute_result"
    }
   ],
   "source": [
    "(leap.topology:save-amber-parm-format fep::*system* \"complex.parm7\" \"complex.rst7\")"
   ]
  },
  {
   "cell_type": "code",
   "execution_count": 13,
   "metadata": {},
   "outputs": [
    {
     "name": "stdout",
     "output_type": "stream",
     "text": [
      "To load \"amber\":\n",
      "  Load 1 ASDF system:\n",
      "    amber\n",
      "\n",
      "; Loading \"amber\"\n",
      "\n"
     ]
    },
    {
     "data": {
      "text/plain": [
       "(:AMBER)"
      ]
     },
     "execution_count": 13,
     "metadata": {},
     "output_type": "execute_result"
    }
   ],
   "source": [
    "(ql:quickload :amber)"
   ]
  },
  {
   "cell_type": "code",
   "execution_count": 14,
   "metadata": {},
   "outputs": [
    {
     "data": {
      "text/plain": [
       "#P\"/Users/meister/Development/deploy-demos/demos/data/amber-dynamics/\""
      ]
     },
     "execution_count": 14,
     "metadata": {},
     "output_type": "execute_result"
    }
   ],
   "source": [
    "*default-pathname-defaults*"
   ]
  },
  {
   "cell_type": "code",
   "execution_count": 15,
   "metadata": {},
   "outputs": [
    {
     "data": {
      "text/plain": [
       "T"
      ]
     },
     "execution_count": 15,
     "metadata": {},
     "output_type": "execute_result"
    }
   ],
   "source": [
    "(core:copy-file \"complex.parm7\" (ensure-directories-exist \"jobs/complex.parm7\"))\n",
    "(core:copy-file \"complex.rst7\" \"jobs/complex.rst7\")"
   ]
  },
  {
   "cell_type": "code",
   "execution_count": 16,
   "metadata": {},
   "outputs": [
    {
     "name": "stdout",
     "output_type": "stream",
     "text": [
      "pathname-defaults: #P\"dynamics\"\n",
      "Writing makefile to jobs/makefile\n",
      "Generating script jobs/dynamics.in\n",
      "Generating script jobs/pres.in\n",
      "Generating script jobs/heat.in\n",
      "Generating script jobs/min.in\n",
      "Generating script jobs/makefile\n"
     ]
    },
    {
     "data": {
      "text/plain": [
       "*START*"
      ]
     },
     "execution_count": 16,
     "metadata": {},
     "output_type": "execute_result"
    }
   ],
   "source": [
    "(let* ((top #P\"complex.parm7\")\n",
    "           (crd #P\"complex.rst7\")\n",
    "           (start (amber:simple-jupyter-job :topology-file top :coordinate-file crd))\n",
    "           (min (amber:minimize :previous-job start))\n",
    "           (heat (amber:heat :previous-job min))\n",
    "           (press (amber:pressurize :previous-job heat))\n",
    "           (dynamics (amber:dynamics :previous-job press :nstlim 100000 :ntwx 1000)))\n",
    "      (amber:generate-all-code start\n",
    "                               (list (amber:mdcrd dynamics))\n",
    "                               :pathname-defaults #P\"jobs/\")\n",
    "   (defparameter *start* start))"
   ]
  },
  {
   "cell_type": "code",
   "execution_count": 17,
   "metadata": {},
   "outputs": [
    {
     "data": {
      "text/plain": [
       "NIL"
      ]
     },
     "execution_count": 17,
     "metadata": {},
     "output_type": "execute_result"
    }
   ],
   "source": [
    "(with-open-file (sout \"/tmp/simple.dot\" :direction :output)\n",
    "    (graphviz-amber:draw-graph-stream *start* sout))"
   ]
  },
  {
   "cell_type": "markdown",
   "metadata": {},
   "source": [
    "# Now go into the jobs directory and run the makefile"
   ]
  },
  {
   "cell_type": "code",
   "execution_count": 8,
   "metadata": {},
   "outputs": [
    {
     "data": {
      "text/plain": [
       "#P\"/home/app/quicklisp/local-projects/fep/examples/lysozyme/jobs-original/AA-AB/complex/\""
      ]
     },
     "execution_count": 8,
     "metadata": {},
     "output_type": "execute_result"
    }
   ],
   "source": [
    "(setf *default-pathname-defaults* #P\"~/quicklisp/local-projects/fep/examples/lysozyme/jobs-original/AA-AB/complex/\")"
   ]
  },
  {
   "cell_type": "code",
   "execution_count": null,
   "metadata": {},
   "outputs": [],
   "source": [
    "(defparameter *agg* (load-mol2 (namestring (merge-pathnames #P\"complex-vdw-bonded.mol2\"))))"
   ]
  },
  {
   "cell_type": "code",
   "execution_count": 3,
   "metadata": {},
   "outputs": [
    {
     "name": "stdout",
     "output_type": "stream",
     "text": [
      "To load \"netcdf\":\n",
      "  Load 1 ASDF system:\n",
      "    netcdf\n",
      "\n",
      "; Loading \"netcdf\"\n",
      "\n"
     ]
    },
    {
     "data": {
      "text/plain": [
       "(\"netcdf\")"
      ]
     },
     "execution_count": 3,
     "metadata": {},
     "output_type": "execute_result"
    }
   ],
   "source": [
    "(ql:quickload \"netcdf\")"
   ]
  },
  {
   "cell_type": "code",
   "execution_count": 4,
   "metadata": {},
   "outputs": [
    {
     "name": "stdout",
     "output_type": "stream",
     "text": [
      "To load \"static-vectors\":\n",
      "  Load 1 ASDF system:\n",
      "    static-vectors\n",
      "\n",
      "; Loading \"static-vectors\"\n",
      "\n"
     ]
    },
    {
     "data": {
      "text/plain": [
       "(:STATIC-VECTORS)"
      ]
     },
     "execution_count": 4,
     "metadata": {},
     "output_type": "execute_result"
    }
   ],
   "source": [
    "(ql:quickload :static-vectors)"
   ]
  },
  {
   "cell_type": "code",
   "execution_count": 5,
   "metadata": {},
   "outputs": [
    {
     "name": "stdout",
     "output_type": "stream",
     "text": [
      "To load \"cando-jupyter\":\n",
      "  Load 1 ASDF system:\n",
      "    cando-jupyter\n",
      "\n",
      "; Loading \"cando-jupyter\"\n",
      "\n"
     ]
    },
    {
     "data": {
      "text/plain": [
       "(:CANDO-JUPYTER)"
      ]
     },
     "execution_count": 5,
     "metadata": {},
     "output_type": "execute_result"
    }
   ],
   "source": [
    "(ql:quickload :cando-jupyter)"
   ]
  },
  {
   "cell_type": "code",
   "execution_count": 7,
   "metadata": {},
   "outputs": [
    {
     "data": {
      "text/plain": [
       "NIL"
      ]
     },
     "execution_count": 7,
     "metadata": {},
     "output_type": "execute_result"
    }
   ],
   "source": [
    "(probe-file \"heat.nc\")"
   ]
  },
  {
   "cell_type": "code",
   "execution_count": 7,
   "metadata": {},
   "outputs": [
    {
     "name": "stdout",
     "output_type": "stream",
     "text": [
      "natts -> 6\n"
     ]
    },
    {
     "data": {
      "text/plain": [
       "*N*"
      ]
     },
     "execution_count": 7,
     "metadata": {},
     "output_type": "execute_result"
    }
   ],
   "source": [
    "(:= *n* (netcdf::nc-open (probe-file \"heat.nc\") :mode netcdf-cffi:+nowrite+))"
   ]
  },
  {
   "cell_type": "code",
   "execution_count": 8,
   "metadata": {},
   "outputs": [
    {
     "data": {
      "text/plain": [
       "*NC*"
      ]
     },
     "execution_count": 8,
     "metadata": {},
     "output_type": "execute_result"
    }
   ],
   "source": [
    "(:= *nc* (cando-jupyter:make-amber-netcdf-trajectory :netcdf *n* :matter *agg*))"
   ]
  },
  {
   "cell_type": "code",
   "execution_count": 12,
   "metadata": {},
   "outputs": [
    {
     "data": {
      "text/plain": [
       "*V*"
      ]
     },
     "execution_count": 12,
     "metadata": {},
     "output_type": "execute_result"
    }
   ],
   "source": [
    "(:= *v* (cando-jupyter:show-amber-netcdf-trajectory *nc*))"
   ]
  },
  {
   "cell_type": "code",
   "execution_count": 13,
   "metadata": {},
   "outputs": [
    {
     "data": {
      "application/vnd.jupyter.widget-view+json": {
       "model_id": "6D5D0595-75CB-4CF1-AE70-B27916EEC17C",
       "version_major": 2,
       "version_minor": 0
      },
      "text/plain": [
       "#<NGLV:NGLWIDGET>"
      ]
     },
     "execution_count": 13,
     "metadata": {},
     "output_type": "execute_result"
    }
   ],
   "source": [
    "*v*"
   ]
  },
  {
   "cell_type": "code",
   "execution_count": 14,
   "metadata": {},
   "outputs": [
    {
     "data": {
      "text/plain": [
       "T"
      ]
     },
     "execution_count": 14,
     "metadata": {},
     "output_type": "execute_result"
    }
   ],
   "source": [
    "(nglv::center *v*)"
   ]
  },
  {
   "cell_type": "code",
   "execution_count": 15,
   "metadata": {},
   "outputs": [
    {
     "data": {
      "text/plain": [
       "NIL"
      ]
     },
     "execution_count": 15,
     "metadata": {},
     "output_type": "execute_result"
    }
   ],
   "source": [
    "(nglv::clear-representations *v*)"
   ]
  },
  {
   "cell_type": "code",
   "execution_count": 16,
   "metadata": {},
   "outputs": [
    {
     "data": {
      "text/plain": [
       "T"
      ]
     },
     "execution_count": 16,
     "metadata": {},
     "output_type": "execute_result"
    }
   ],
   "source": [
    "(nglv::add-representation *v* \"ball+stick\" :selection \"protein\")"
   ]
  },
  {
   "cell_type": "code",
   "execution_count": null,
   "metadata": {},
   "outputs": [],
   "source": [
    "(nglv::add-representation *v* \"ribbon\" :selection \"protein\")"
   ]
  }
 ],
 "metadata": {
  "kernelspec": {
   "display_name": "cando",
   "language": "lisp",
   "name": "cando"
  },
  "language_info": {
   "codemirror_mode": "text/x-common-lisp",
   "file_extension": ".lisp",
   "mimetype": "text/x-common-lisp",
   "name": "common-lisp",
   "pygments_lexer": "common-lisp",
   "version": "cclasp-boehm-0.4.2-2681-g9d65ff206-cst"
  }
 },
 "nbformat": 4,
 "nbformat_minor": 4
}
