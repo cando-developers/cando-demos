{
 "cells": [
  {
   "cell_type": "code",
   "execution_count": null,
   "metadata": {},
   "outputs": [],
   "source": [
    "(setup-amber-paths)\n",
    "(leap:source \"leaprc.water.tip3p\")\n",
    "(leap:load-off \"solvents.lib\")\n",
    "(leap:load-off \"atomic_ions.lib\")\n",
    "(leap:load-atom-type-rules \"ATOMTYPE_GFF.DEF\")\n",
    "(leap:source \"leaprc.ff14SB.redq\")\n",
    "(leap:source \"leaprc.gaff\")"
   ]
  },
  {
   "cell_type": "code",
   "execution_count": null,
   "metadata": {},
   "outputs": [],
   "source": [
    "*default-pathname-defaults*"
   ]
  },
  {
   "cell_type": "code",
   "execution_count": null,
   "metadata": {},
   "outputs": [],
   "source": [
    "(setf *default-pathname-defaults* (merge-pathnames \"data/amber-dynamics-2/\" *default-pathname-defaults*))"
   ]
  },
  {
   "cell_type": "code",
   "execution_count": null,
   "metadata": {},
   "outputs": [],
   "source": [
    "(defparameter tirun::*tiruns* (tirun:load-tiruns \"postcharge/postcharge.cando\"))"
   ]
  },
  {
   "cell_type": "code",
   "execution_count": null,
   "metadata": {},
   "outputs": [],
   "source": [
    "(defparameter tirun::*receptor* (first (tirun:receptors tirun::*tiruns*)))"
   ]
  },
  {
   "cell_type": "code",
   "execution_count": null,
   "metadata": {},
   "outputs": [],
   "source": [
    "(defparameter tirun::*side-name* :complex)"
   ]
  },
  {
   "cell_type": "code",
   "execution_count": null,
   "metadata": {},
   "outputs": [],
   "source": [
    "(defparameter tirun::*morph* (tirun::find-morph-with-name \"CHEMBL1089056-CHEMBL1088740\" tirun::*tiruns*))"
   ]
  },
  {
   "cell_type": "code",
   "execution_count": null,
   "metadata": {},
   "outputs": [],
   "source": [
    "(defparameter tirun::*source* (tirun:source tirun::*morph*))"
   ]
  },
  {
   "cell_type": "code",
   "execution_count": null,
   "metadata": {},
   "outputs": [],
   "source": [
    "(defparameter tirun::*target* (tirun:target tirun::*morph*))"
   ]
  },
  {
   "cell_type": "code",
   "execution_count": null,
   "metadata": {},
   "outputs": [],
   "source": [
    "(defparameter tirun::*system* (cando:combine (chem:matter-copy (tirun::molecule tirun::*target*))\n",
    "    (chem:matter-copy tirun::*receptor*)))"
   ]
  },
  {
   "cell_type": "code",
   "execution_count": null,
   "metadata": {},
   "outputs": [],
   "source": [
    "(leap:solvate-box tirun::*system*\n",
    "                  (leap.core:lookup-variable \n",
    "                   (tirun::solvent-box tirun::*tiruns*))\n",
    "                  (tirun::solvent-buffer tirun::*tiruns*)\n",
    "                  :closeness\n",
    "                  (tirun::solvent-closeness tirun::*tiruns*))\n",
    "(leap.add-ions:add-ions tirun::*system* :|Cl-| 0)\n",
    "(cando:save-mol2 tirun::*system* \"complex.mol2\")"
   ]
  },
  {
   "cell_type": "code",
   "execution_count": null,
   "metadata": {},
   "outputs": [],
   "source": [
    "(leap.topology:save-amber-parm-format tirun::*system* \"complex.parm7\" \"complex.rst7\")"
   ]
  },
  {
   "cell_type": "code",
   "execution_count": null,
   "metadata": {},
   "outputs": [],
   "source": [
    "(ql:quickload :amber)"
   ]
  },
  {
   "cell_type": "code",
   "execution_count": null,
   "metadata": {},
   "outputs": [],
   "source": [
    "*default-pathname-defaults*"
   ]
  },
  {
   "cell_type": "code",
   "execution_count": null,
   "metadata": {},
   "outputs": [],
   "source": [
    "(core:copy-file \"complex.parm7\" (ensure-directories-exist \"jobs/complex.parm7\"))\n",
    "(core:copy-file \"complex.rst7\" \"jobs/complex.rst7\")"
   ]
  },
  {
   "cell_type": "code",
   "execution_count": null,
   "metadata": {},
   "outputs": [],
   "source": [
    "(let* ((top #P\"complex.parm7\")\n",
    "           (crd #P\"complex.rst7\")\n",
    "           (start (amber:simple-jupyter-job :topology-file top :coordinate-file crd))\n",
    "           (min (amber:minimize :previous-job start))\n",
    "           (heat (amber:heat :previous-job min))\n",
    "           (press (amber:pressurize :previous-job heat))\n",
    "           (dynamics (amber:dynamics :previous-job press :nstlim 100000 :ntwx 1000)))\n",
    "      (amber:generate-all-code start\n",
    "                               (list (amber:mdcrd dynamics))\n",
    "                               :pathname-defaults #P\"jobs/\")\n",
    "   (defparameter *start* start))"
   ]
  },
  {
   "cell_type": "code",
   "execution_count": null,
   "metadata": {},
   "outputs": [],
   "source": [
    "(with-open-file (sout \"/tmp/simple.dot\" :direction :output)\n",
    "    (graphviz-amber:draw-graph-stream *start* sout))"
   ]
  },
  {
   "cell_type": "markdown",
   "metadata": {},
   "source": [
    "# Now go into the jobs directory and run the makefile"
   ]
  },
  {
   "cell_type": "code",
   "execution_count": null,
   "metadata": {},
   "outputs": [],
   "source": [
    "(setf *default-pathname-defaults* (merge-pathnames \"data/amber-dynamics-2/jobs/\" *default-pathname-defaults*))"
   ]
  },
  {
   "cell_type": "code",
   "execution_count": null,
   "metadata": {},
   "outputs": [],
   "source": [
    "(defparameter *agg* (load-mol2 \"jobs/complex-vdw-bonded.mol2\"))"
   ]
  },
  {
   "cell_type": "code",
   "execution_count": null,
   "metadata": {},
   "outputs": [],
   "source": [
    "(ql:quickload \"netcdf\")"
   ]
  },
  {
   "cell_type": "code",
   "execution_count": null,
   "metadata": {},
   "outputs": [],
   "source": [
    "(ql:quickload :static-vectors)"
   ]
  },
  {
   "cell_type": "code",
   "execution_count": null,
   "metadata": {},
   "outputs": [],
   "source": [
    "(ql:quickload :cando-jupyter)"
   ]
  },
  {
   "cell_type": "code",
   "execution_count": null,
   "metadata": {},
   "outputs": [],
   "source": [
    "(probe-file \"heat.nc\")"
   ]
  },
  {
   "cell_type": "code",
   "execution_count": null,
   "metadata": {},
   "outputs": [],
   "source": [
    "(:= *n* (netcdf::nc-open (probe-file \"heat.nc\") :mode netcdf-cffi:+nowrite+))"
   ]
  },
  {
   "cell_type": "code",
   "execution_count": null,
   "metadata": {},
   "outputs": [],
   "source": [
    "(:= *nc* (cando-jupyter:make-amber-netcdf-trajectory :netcdf *n* :matter *agg*))"
   ]
  },
  {
   "cell_type": "code",
   "execution_count": null,
   "metadata": {},
   "outputs": [],
   "source": [
    "(:= *v* (cando-jupyter:show-amber-netcdf-trajectory *nc*))"
   ]
  },
  {
   "cell_type": "code",
   "execution_count": null,
   "metadata": {},
   "outputs": [],
   "source": [
    "*v*"
   ]
  },
  {
   "cell_type": "code",
   "execution_count": null,
   "metadata": {},
   "outputs": [],
   "source": [
    "(nglv::center *v*)"
   ]
  },
  {
   "cell_type": "code",
   "execution_count": null,
   "metadata": {},
   "outputs": [],
   "source": [
    "(nglv::clear-representations *v*)"
   ]
  },
  {
   "cell_type": "code",
   "execution_count": null,
   "metadata": {},
   "outputs": [],
   "source": [
    "(nglv::add-representation *v* \"ball+stick\" :selection \"protein\")"
   ]
  },
  {
   "cell_type": "code",
   "execution_count": null,
   "metadata": {},
   "outputs": [],
   "source": [
    "(nglv::add-representation *v* \"ribbon\" :selection \"protein\")"
   ]
  }
 ],
 "metadata": {
  "kernelspec": {
   "display_name": "cando",
   "language": "lisp",
   "name": "cando"
  },
  "language_info": {
   "codemirror_mode": "text/x-common-lisp",
   "file_extension": ".lisp",
   "mimetype": "text/x-common-lisp",
   "name": "common-lisp",
   "pygments_lexer": "common-lisp",
   "version": "cclasp-boehm-0.4.2-2941-g366ec55cd-cst"
  }
 },
 "nbformat": 4,
 "nbformat_minor": 4
}
