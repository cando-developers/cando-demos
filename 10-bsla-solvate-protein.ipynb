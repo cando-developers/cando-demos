{
 "cells": [
  {
   "cell_type": "markdown",
   "id": "8a4aa0aa-5a13-431e-ac7f-51522ed07c22",
   "metadata": {
    "tags": []
   },
   "source": [
    "# Heidi Hendrickson's blsa protein prep_leap_ions workflow"
   ]
  },
  {
   "cell_type": "markdown",
   "id": "6aa75f1b-69e1-4b8e-a562-ebcaf75c0307",
   "metadata": {},
   "source": [
    "### See: https://pubs.acs.org/doi/abs/10.1021/acsbiomaterials.6b00447"
   ]
  },
  {
   "cell_type": "code",
   "execution_count": null,
   "id": "f21a20bd-c628-4ee6-aa3d-9165d7316cd1",
   "metadata": {},
   "outputs": [],
   "source": [
    "setupAmberPaths"
   ]
  },
  {
   "cell_type": "code",
   "execution_count": null,
   "id": "2507d4ea-d101-4e39-b43f-d4adfadd2a58",
   "metadata": {},
   "outputs": [],
   "source": [
    "source \"leaprc.protein.ff14SB\""
   ]
  },
  {
   "cell_type": "code",
   "execution_count": null,
   "id": "723d7d30-f17f-4d95-9750-ad1bbf21812c",
   "metadata": {},
   "outputs": [],
   "source": [
    "source leaprc.water.tip3p"
   ]
  },
  {
   "cell_type": "code",
   "execution_count": null,
   "id": "43f131dc-3895-485f-8bc7-35aadc74551e",
   "metadata": {},
   "outputs": [],
   "source": [
    "source leaprc.gaff"
   ]
  },
  {
   "cell_type": "markdown",
   "id": "bdac8544-4fd4-4d6e-b4c8-f61a9fa36e29",
   "metadata": {},
   "source": [
    "Scan the PDB file and generate a summary that will help us convert it to an AMBER PDB file."
   ]
  },
  {
   "cell_type": "code",
   "execution_count": null,
   "id": "8f5fb36a-7119-48d9-bfe0-03c71bfad5c2",
   "metadata": {},
   "outputs": [],
   "source": [
    "scan = scanPdb data/bsla/4bhu.pdb"
   ]
  },
  {
   "cell_type": "markdown",
   "id": "92b972d7-3ea0-464f-8520-507f97d31d09",
   "metadata": {},
   "source": [
    "Only use the C chain"
   ]
  },
  {
   "cell_type": "code",
   "execution_count": null,
   "id": "ad5d42eb-8454-4506-973f-f37158b056ba",
   "metadata": {},
   "outputs": [],
   "source": [
    "scanSelectChainIds scan { :C }"
   ]
  },
  {
   "cell_type": "markdown",
   "id": "0f0d9205-6e93-42ca-820f-b949d8e2c4ab",
   "metadata": {},
   "source": [
    "Check if the current filters leave us with an AMBER compatible PDB file."
   ]
  },
  {
   "cell_type": "code",
   "execution_count": null,
   "id": "bd701abf-b34d-418e-88a7-1b1829d374e1",
   "metadata": {},
   "outputs": [],
   "source": [
    "scanAmberCheck scan"
   ]
  },
  {
   "cell_type": "code",
   "execution_count": null,
   "id": "eb9892d6-ba7a-40ab-9dbf-1c21a4813241",
   "metadata": {},
   "outputs": [],
   "source": [
    "scanIgnoreResidues scan { :HOH :CL }"
   ]
  },
  {
   "cell_type": "markdown",
   "id": "7f9f6633-9ea6-48a6-b0c5-5d9f61f56849",
   "metadata": {},
   "source": [
    "Rename residues MLY->LYS and MSE->MET"
   ]
  },
  {
   "cell_type": "code",
   "execution_count": null,
   "id": "1c435f55-1cf9-462d-ac93-65fb475e108b",
   "metadata": {},
   "outputs": [],
   "source": [
    "scanRenameResidues scan { { :MLY :LYS } { :MSE :MET } }"
   ]
  },
  {
   "cell_type": "code",
   "execution_count": null,
   "id": "c5764290-de73-4d6a-b307-bef3b3dc9b89",
   "metadata": {},
   "outputs": [],
   "source": [
    "scanAmberCheck scan"
   ]
  },
  {
   "cell_type": "markdown",
   "id": "203f925f-75b1-4eb8-82f8-91174b7ecd22",
   "metadata": {},
   "source": [
    "Rename atoms in the MSE residues SE->SD"
   ]
  },
  {
   "cell_type": "code",
   "execution_count": null,
   "id": "de106e44-7c47-4f5f-9e89-67b7f16603f5",
   "metadata": {},
   "outputs": [],
   "source": [
    "scanRenameAtoms scan { { :MSE { :SE :SD } } }"
   ]
  },
  {
   "cell_type": "code",
   "execution_count": null,
   "id": "a755037d-db7a-4dfe-b967-a58239ab55bf",
   "metadata": {},
   "outputs": [],
   "source": [
    "scanAmberCheck scan"
   ]
  },
  {
   "cell_type": "markdown",
   "id": "6dcad5a8-0924-40df-860d-bbe29d4f33f0",
   "metadata": {},
   "source": [
    "Remove the given atoms from the MLY residue."
   ]
  },
  {
   "cell_type": "code",
   "execution_count": null,
   "id": "6d167402-78b1-403e-bf37-f552791b1882",
   "metadata": {},
   "outputs": [],
   "source": [
    "scanIgnoreAtoms scan { { :MLY { :HH22 :HH21 :HH23 :HH13 :HH12 :HH11 :CH2 :CH1} } }"
   ]
  },
  {
   "cell_type": "markdown",
   "id": "54213465-40af-4815-a4ae-dd502c06b4dc",
   "metadata": {},
   "source": [
    "Run a final check"
   ]
  },
  {
   "cell_type": "code",
   "execution_count": null,
   "id": "e4b6f464-21cf-403b-ab36-1197585dfa7b",
   "metadata": {},
   "outputs": [],
   "source": [
    "scanAmberCheck scan"
   ]
  },
  {
   "cell_type": "markdown",
   "id": "0c0385e4-b821-419f-b14d-581d8e1ba422",
   "metadata": {},
   "source": [
    "## We now load an Amber compatible PDB file using the scan and the fixups that we just added."
   ]
  },
  {
   "cell_type": "code",
   "execution_count": null,
   "id": "089bbf21-89f1-4136-ba63-94b15a79d4a2",
   "metadata": {},
   "outputs": [],
   "source": [
    "complex = loadPdb scan"
   ]
  },
  {
   "cell_type": "code",
   "execution_count": null,
   "id": "7e458077-df56-44bf-bb82-061244c4656e",
   "metadata": {},
   "outputs": [],
   "source": [
    "(show complex :axes t)"
   ]
  },
  {
   "cell_type": "code",
   "execution_count": null,
   "id": "4887d915-020f-48a8-8a9f-ce2b5a80b90a",
   "metadata": {},
   "outputs": [],
   "source": [
    "alignAxes complex"
   ]
  },
  {
   "cell_type": "code",
   "execution_count": null,
   "id": "13eb3924-af5f-4542-b647-4270ee65a3da",
   "metadata": {},
   "outputs": [],
   "source": [
    "show complex :axes t"
   ]
  },
  {
   "cell_type": "code",
   "execution_count": null,
   "id": "28cc1ef0-1417-4570-a60d-6520b2d7db18",
   "metadata": {},
   "outputs": [],
   "source": [
    "setBox complex \"vdw\""
   ]
  },
  {
   "cell_type": "code",
   "execution_count": null,
   "id": "d4ca2f01-f347-4ba6-87f7-f8f6ae9a33d5",
   "metadata": {},
   "outputs": [],
   "source": [
    "(chem:geometric-center complex)"
   ]
  },
  {
   "cell_type": "code",
   "execution_count": null,
   "id": "2d8e8f54-c268-4627-be79-415f427b84b8",
   "metadata": {},
   "outputs": [],
   "source": [
    "show complex"
   ]
  },
  {
   "cell_type": "code",
   "execution_count": null,
   "id": "f94449c7-fb9d-40ca-acab-771b271a3b4b",
   "metadata": {},
   "outputs": [],
   "source": [
    "startSwank"
   ]
  },
  {
   "cell_type": "code",
   "execution_count": null,
   "id": "feee27b5-d46d-40e4-bbe6-bcb64f0c535b",
   "metadata": {},
   "outputs": [],
   "source": [
    "resolvateBox complex TIP3PBOX 8.0"
   ]
  },
  {
   "cell_type": "code",
   "execution_count": null,
   "id": "0141353c-2494-4ac7-9e7a-c3fb30a5967a",
   "metadata": {},
   "outputs": [],
   "source": [
    "show complex"
   ]
  },
  {
   "cell_type": "code",
   "execution_count": null,
   "id": "d18f795f-ab8d-458a-b247-31ecd6af2229",
   "metadata": {},
   "outputs": [],
   "source": [
    "ion-complex = copy complex"
   ]
  },
  {
   "cell_type": "code",
   "execution_count": null,
   "id": "cd3131e5-4246-4b54-8812-a01bcbc1ea41",
   "metadata": {},
   "outputs": [],
   "source": [
    "addIons ion-complex NA 0"
   ]
  },
  {
   "cell_type": "code",
   "execution_count": null,
   "id": "bdf58f77-5f25-4988-a6bd-cebbc906a8e1",
   "metadata": {},
   "outputs": [],
   "source": [
    "addIons ion-complex CL 0"
   ]
  },
  {
   "cell_type": "code",
   "execution_count": null,
   "id": "9cce455c-785b-4786-a574-4ccf3dcdfbf3",
   "metadata": {},
   "outputs": [],
   "source": [
    "saveamberparm ion-complex data/bsla/full_N_bsla_spytag_helix_solv12A.prmtop data/bsla/full_N_bsla_spytag_helix_solv12A.inpcrd"
   ]
  },
  {
   "cell_type": "markdown",
   "id": "9b4a4f7c-82e5-4ae6-8fbd-d814867c01eb",
   "metadata": {},
   "source": [
    "Save the AMBER compatible PDB file."
   ]
  },
  {
   "cell_type": "code",
   "execution_count": null,
   "id": "158e067a-11d5-44d0-9d60-6484a4ef103f",
   "metadata": {},
   "outputs": [],
   "source": [
    "savepdb ion-complex data/bsla/full_N_bsla_spytag_helix_solv12A.pdb"
   ]
  },
  {
   "cell_type": "markdown",
   "id": "48533a57-5d52-422b-9546-389ec6fbd567",
   "metadata": {},
   "source": [
    "## All done"
   ]
  }
 ],
 "metadata": {
  "kernelspec": {
   "display_name": "dev-scando",
   "language": "lisp",
   "name": "dev-scando"
  },
  "language_info": {
   "codemirror_mode": "text/x-common-lisp",
   "file_extension": ".lisp",
   "mimetype": "text/x-common-lisp",
   "name": "common-lisp",
   "pygments_lexer": "common-lisp",
   "version": "eclasp-boehmprecise-1.0.0-407-gd4314a4ec-g9964d9eb-cst"
  }
 },
 "nbformat": 4,
 "nbformat_minor": 5
}
