{
 "cells": [
  {
   "cell_type": "markdown",
   "id": "8a4aa0aa-5a13-431e-ac7f-51522ed07c22",
   "metadata": {
    "tags": []
   },
   "source": [
    "# Heidi Hendrickson's blsa protein prep_leap_ions workflow"
   ]
  },
  {
   "cell_type": "markdown",
   "id": "6aa75f1b-69e1-4b8e-a562-ebcaf75c0307",
   "metadata": {},
   "source": [
    "### See: https://pubs.acs.org/doi/abs/10.1021/acsbiomaterials.6b00447"
   ]
  },
  {
   "cell_type": "code",
   "execution_count": 1,
   "id": "7d8ace90-c079-4d62-ada8-4fce538fe771",
   "metadata": {},
   "outputs": [
    {
     "data": {
      "text/plain": [
       "\"cclasp-boehmprecise-1.0.0-284-ge8f9b4608-gb65e1215-cst\""
      ]
     },
     "execution_count": 1,
     "metadata": {},
     "output_type": "execute_result"
    }
   ],
   "source": [
    "(lisp-implementation-version)"
   ]
  },
  {
   "cell_type": "code",
   "execution_count": 2,
   "id": "f21a20bd-c628-4ee6-aa3d-9165d7316cd1",
   "metadata": {},
   "outputs": [
    {
     "data": {
      "text/plain": [
       "(#P\"/home/avadremann/anaconda3/envs/AmberTools22/dat/antechamber/\"\n",
       " #P\"/home/avadremann/anaconda3/envs/AmberTools22/dat/leap/cmd/oldff/\"\n",
       " #P\"/home/avadremann/anaconda3/envs/AmberTools22/dat/leap/cmd/\"\n",
       " #P\"/home/avadremann/anaconda3/envs/AmberTools22/dat/leap/parm/\"\n",
       " #P\"/home/avadremann/anaconda3/envs/AmberTools22/dat/leap/lib/\"\n",
       " #P\"/home/avadremann/anaconda3/envs/AmberTools22/dat/leap/prep/\")"
      ]
     },
     "execution_count": 2,
     "metadata": {},
     "output_type": "execute_result"
    }
   ],
   "source": [
    "setupAmberPaths"
   ]
  },
  {
   "cell_type": "code",
   "execution_count": 3,
   "id": "2507d4ea-d101-4e39-b43f-d4adfadd2a58",
   "metadata": {},
   "outputs": [
    {
     "data": {
      "text/plain": [
       "T"
      ]
     },
     "execution_count": 3,
     "metadata": {},
     "output_type": "execute_result"
    },
    {
     "name": "stdout",
     "output_type": "stream",
     "text": [
      "Warning!  Skipping 10-12 hbond in #<IOSTREAM-STREAM #P\"/home/avadremann/anaconda3/envs/AmberTools22/dat/leap/parm/parm10.dat\">\n",
      "Warning!  Skipping force field atom equivalences in #<IOSTREAM-STREAM #P\"/home/avadremann/anaconda3/envs/AmberTools22/dat/leap/parm/parm10.dat\">\n",
      "Adding force field parm10.dat to DEFAULT\n",
      "Adding force field frcmod.ff14SB to DEFAULT\n"
     ]
    }
   ],
   "source": [
    "source \"leaprc.protein.ff14SB\""
   ]
  },
  {
   "cell_type": "code",
   "execution_count": 4,
   "id": "723d7d30-f17f-4d95-9750-ad1bbf21812c",
   "metadata": {},
   "outputs": [
    {
     "data": {
      "text/plain": [
       "T"
      ]
     },
     "execution_count": 4,
     "metadata": {},
     "output_type": "execute_result"
    },
    {
     "name": "stdout",
     "output_type": "stream",
     "text": [
      "Adding force field frcmod.tip3p to DEFAULT\n",
      "Adding force field frcmod.ions1lm_126_tip3p to DEFAULT\n",
      "Adding force field frcmod.ionsjc_tip3p to DEFAULT\n",
      "Adding force field frcmod.ions234lm_126_tip3p to DEFAULT\n"
     ]
    }
   ],
   "source": [
    "source leaprc.water.tip3p"
   ]
  },
  {
   "cell_type": "code",
   "execution_count": 5,
   "id": "43f131dc-3895-485f-8bc7-35aadc74551e",
   "metadata": {},
   "outputs": [
    {
     "data": {
      "text/plain": [
       "T"
      ]
     },
     "execution_count": 5,
     "metadata": {},
     "output_type": "execute_result"
    },
    {
     "name": "stdout",
     "output_type": "stream",
     "text": [
      "Warning!  Skipping 10-12 hbond in #<IOSTREAM-STREAM #P\"/home/avadremann/anaconda3/envs/AmberTools22/dat/leap/parm/gaff.dat\">\n",
      "Warning!  Skipping force field atom equivalences in #<IOSTREAM-STREAM #P\"/home/avadremann/anaconda3/envs/AmberTools22/dat/leap/parm/gaff.dat\">\n",
      "Adding force field gaff.dat to DEFAULT\n"
     ]
    }
   ],
   "source": [
    "source leaprc.gaff"
   ]
  },
  {
   "cell_type": "markdown",
   "id": "2795ab96-c1ee-4a2f-821b-1a2efd50ecf4",
   "metadata": {},
   "source": [
    "I am working on a facility for loading PDB files that allows you to\n",
    "scan the PDB file and it will report problems that prevent the PDB\n",
    "file from being an AMBER compatible PDB file.\n",
    "Then you would provide fixes to the scan that are applied to turn it\n",
    "into an AMBER compatible PDB file."
   ]
  },
  {
   "cell_type": "markdown",
   "id": "51ded63a-da60-44db-bc67-0fbad9ed1fab",
   "metadata": {},
   "source": [
    "scan = scanpdb 4hbu.pdb\n",
    "\n",
    "scanRemoveAllChains scan\n",
    "\n",
    "scanAddChains scan { :C }\n",
    "\n",
    "scanRemoveAtoms scan { {:MLY :CH1 :CH2}}\n",
    "\n",
    "scanRenameAtoms { {:MSE :SE :SD } }\n",
    "\n",
    "scanRenameResidues scan { {:MLY :LYS} {:MSE :MET}}\n",
    "\n",
    ";; Now there are no more problems - load the PDB using the scan\n",
    "complex = scanLoadPdb scan\n",
    "\n",
    ";; Now make more changes to the loaded structure\n",
    "orientZAxis complex ...lots of options...\n",
    "\n",
    ";; addPeptide chainC spytag <extra arguments whole mess of arguments>\n",
    "    \n",
    "savePdb complex align_prep_Nterm_bsla_spytag_helix_pdb4a.fixed.pdb"
   ]
  },
  {
   "cell_type": "markdown",
   "id": "0c0385e4-b821-419f-b14d-581d8e1ba422",
   "metadata": {},
   "source": [
    "## For now we will load a fixed AMBER compatible PDB file."
   ]
  },
  {
   "cell_type": "code",
   "execution_count": 6,
   "id": "089bbf21-89f1-4136-ba63-94b15a79d4a2",
   "metadata": {},
   "outputs": [
    {
     "name": "stdout",
     "output_type": "stream",
     "text": [
      "Scanned    100.0% elapsed: -- ETC: --   \n",
      "Load pdb   100.0% elapsed:   1.0 seconds ETC: --    seconds   Loaded pdb\n",
      "\n"
     ]
    },
    {
     "data": {
      "text/plain": [
       "#<AGGREGATE orient_bsla_chainC_mod_pdb4a :id 0 0x955c54db>"
      ]
     },
     "execution_count": 6,
     "metadata": {},
     "output_type": "execute_result"
    },
    {
     "name": "stdout",
     "output_type": "stream",
     "text": [
      "Built 1 heavy atom\n",
      "Built 1000 missing hydrogens\n"
     ]
    }
   ],
   "source": [
    "complex = loadpdb data/bsla/orient_bsla_chainC_mod_pdb4a.pdb"
   ]
  },
  {
   "cell_type": "code",
   "execution_count": 7,
   "id": "7e458077-df56-44bf-bb82-061244c4656e",
   "metadata": {},
   "outputs": [
    {
     "data": {
      "application/vnd.jupyter.widget-view+json": {
       "model_id": "131a3634f85146b5556dae8e964305e5",
       "version_major": 2,
       "version_minor": 0
      },
      "text/plain": [
       "A Jupyter Widget"
      ]
     },
     "execution_count": 7,
     "metadata": {},
     "output_type": "execute_result"
    }
   ],
   "source": [
    "show complex"
   ]
  },
  {
   "cell_type": "code",
   "execution_count": 8,
   "id": "6b4a82b1-8b37-46c7-a5f0-55c1bc6cc378",
   "metadata": {},
   "outputs": [
    {
     "data": {
      "text/plain": [
       "#<AGGREGATE orient_bsla_chainC_mod_pdb4a :id 0 0x58cd490a>"
      ]
     },
     "execution_count": 8,
     "metadata": {},
     "output_type": "execute_result"
    }
   ],
   "source": [
    "solvated-complex = copy complex"
   ]
  },
  {
   "cell_type": "code",
   "execution_count": null,
   "id": "feee27b5-d46d-40e4-bbe6-bcb64f0c535b",
   "metadata": {},
   "outputs": [
    {
     "name": "stdout",
     "output_type": "stream",
     "text": [
      "Total bounding box for atom centers:   49.86  63.15  81.49\n",
      "There are 12960 solvent molecules and 1981 solute atoms\n",
      "Completed  [**................................................] ETC:   1.2 minutes"
     ]
    }
   ],
   "source": [
    "solvatebox solvated-complex TIP3PBOX 12.0"
   ]
  },
  {
   "cell_type": "code",
   "execution_count": null,
   "id": "0141353c-2494-4ac7-9e7a-c3fb30a5967a",
   "metadata": {},
   "outputs": [],
   "source": [
    "show solvated-complex"
   ]
  },
  {
   "cell_type": "code",
   "execution_count": null,
   "id": "bdf58f77-5f25-4988-a6bd-cebbc906a8e1",
   "metadata": {},
   "outputs": [],
   "source": [
    "ion-solvated-complex = copy solvated-complex\n",
    "addIons ion-solvated-complex NA 0\n",
    "addIons ion-solvated-complex CL 0"
   ]
  },
  {
   "cell_type": "code",
   "execution_count": null,
   "id": "9cce455c-785b-4786-a574-4ccf3dcdfbf3",
   "metadata": {},
   "outputs": [],
   "source": [
    "saveamberparm ion-solvated-complex data/bsla/full_N_bsla_spytag_helix_solv12A.prmtop data/bsla/full_N_bsla_spytag_helix_solv12A.inpcrd"
   ]
  },
  {
   "cell_type": "code",
   "execution_count": null,
   "id": "158e067a-11d5-44d0-9d60-6484a4ef103f",
   "metadata": {},
   "outputs": [],
   "source": [
    "savepdb ion-solvated-complex data/bsla/full_N_bsla_spytag_helix_solv12A.pdb"
   ]
  },
  {
   "cell_type": "markdown",
   "id": "48533a57-5d52-422b-9546-389ec6fbd567",
   "metadata": {},
   "source": [
    "## All done"
   ]
  }
 ],
 "metadata": {
  "kernelspec": {
   "display_name": "Cando",
   "language": "cando",
   "name": "cando"
  },
  "language_info": {
   "codemirror_mode": "text/x-common-lisp",
   "file_extension": ".lisp",
   "mimetype": "text/x-common-lisp",
   "name": "common-lisp",
   "pygments_lexer": "common-lisp",
   "version": "cclasp-boehmprecise-1.0.0-284-ge8f9b4608-gb65e1215-cst"
  }
 },
 "nbformat": 4,
 "nbformat_minor": 5
}
