{
 "cells": [
  {
   "cell_type": "markdown",
   "id": "8a4aa0aa-5a13-431e-ac7f-51522ed07c22",
   "metadata": {
    "tags": []
   },
   "source": [
    "# Heidi Hendrickson's blsa protein prep_leap_ions workflow"
   ]
  },
  {
   "cell_type": "markdown",
   "id": "b2d5a732-9a54-4b69-9054-2ab4cb1a4e17",
   "metadata": {},
   "source": [
    "### This demo outlines how to load in a PDB file of a protein and adjust it to be an AMBER compatible PDB file. Once it is an AMBER PDB file we run simulations with solvating the protein."
   ]
  },
  {
   "cell_type": "markdown",
   "id": "6aa75f1b-69e1-4b8e-a562-ebcaf75c0307",
   "metadata": {},
   "source": [
    "### For more information visit: https://pubs.acs.org/doi/abs/10.1021/acsbiomaterials.6b00447"
   ]
  },
  {
   "cell_type": "markdown",
   "id": "59e68bf0-5c83-44ec-9953-5432a83acf94",
   "metadata": {},
   "source": [
    "<div class=\"alert alert-block alert-info\">\n",
    "    <b>Step 1:</b> <font color='black'>Load AMBER parameters and solvent boxes. </font></div>"
   ]
  },
  {
   "cell_type": "markdown",
   "id": "b59e9023-f28a-4855-af82-f48e0405552a",
   "metadata": {},
   "source": [
    "<div class=\"alert alert-block alert-success\">\n",
    "    </b> <font color='black'>Load the ff14SB protein force field</font></div>"
   ]
  },
  {
   "cell_type": "code",
   "execution_count": null,
   "id": "2507d4ea-d101-4e39-b43f-d4adfadd2a58",
   "metadata": {},
   "outputs": [],
   "source": [
    "source \"leaprc.protein.ff14SB\""
   ]
  },
  {
   "cell_type": "markdown",
   "id": "9e1fbb7f-b49e-4a3d-8e8d-109ffae993be",
   "metadata": {},
   "source": [
    "<div class=\"alert alert-block alert-success\">\n",
    "    </b> <font color='black'>Load water and ions for TIP3P box</font></div>"
   ]
  },
  {
   "cell_type": "code",
   "execution_count": null,
   "id": "723d7d30-f17f-4d95-9750-ad1bbf21812c",
   "metadata": {},
   "outputs": [],
   "source": [
    "source leaprc.water.tip3p"
   ]
  },
  {
   "cell_type": "markdown",
   "id": "6ec22b74-2971-44c5-8d23-ffa36208701f",
   "metadata": {},
   "source": [
    "<div class=\"alert alert-block alert-success\">\n",
    "    </b> <font color='black'>Load in the general Amber Force field.</font></div>"
   ]
  },
  {
   "cell_type": "code",
   "execution_count": null,
   "id": "43f131dc-3895-485f-8bc7-35aadc74551e",
   "metadata": {},
   "outputs": [],
   "source": [
    "source leaprc.gaff"
   ]
  },
  {
   "cell_type": "markdown",
   "id": "7a184afc-247d-4981-92de-829643fb3dc8",
   "metadata": {},
   "source": [
    "<div class=\"alert alert-block alert-info\">\n",
    "    <b>Step 2:</b> Scan the PDB file to generate a summary that will help us convert it to an AMBER PDB file.<font color='black'></font></div>"
   ]
  },
  {
   "cell_type": "code",
   "execution_count": null,
   "id": "8f5fb36a-7119-48d9-bfe0-03c71bfad5c2",
   "metadata": {},
   "outputs": [],
   "source": [
    "scan = scanPdb data/bsla/4bhu.pdb"
   ]
  },
  {
   "cell_type": "markdown",
   "id": "10d33087-0283-4a70-9649-5dbe6996d8d3",
   "metadata": {},
   "source": [
    "<div class=\"alert alert-block alert-info\">\n",
    "    <b>Step 3:</b> Scan and select a specific chain. We only want to use the C chain.<font color='black'></font></div>"
   ]
  },
  {
   "cell_type": "code",
   "execution_count": null,
   "id": "ad5d42eb-8454-4506-973f-f37158b056ba",
   "metadata": {},
   "outputs": [],
   "source": [
    "scanSelectChainIds scan { :C }"
   ]
  },
  {
   "cell_type": "markdown",
   "id": "3d1f447f-44c6-4ada-8e80-bbf91bfd70a3",
   "metadata": {},
   "source": [
    "<div class=\"alert alert-block alert-info\">\n",
    "    <b>Step 4:</b> Run the following filters to create an AMBER compatible PDB file. Scan the file periodically to check if the filters have succeeded. <font color='black'></font></div>"
   ]
  },
  {
   "cell_type": "code",
   "execution_count": null,
   "id": "bd701abf-b34d-418e-88a7-1b1829d374e1",
   "metadata": {},
   "outputs": [],
   "source": [
    "scanAmberCheck scan"
   ]
  },
  {
   "cell_type": "markdown",
   "id": "b1b1668b-13f8-49a9-bbc1-e1ba036f2fd0",
   "metadata": {},
   "source": [
    "<div class=\"alert alert-block alert-success\">\n",
    "    </b> <font color='black'>Ignore any HOH and Cl residues</font></div>"
   ]
  },
  {
   "cell_type": "code",
   "execution_count": null,
   "id": "eb9892d6-ba7a-40ab-9dbf-1c21a4813241",
   "metadata": {},
   "outputs": [],
   "source": [
    "scanIgnoreResidues scan { :HOH :CL }"
   ]
  },
  {
   "cell_type": "markdown",
   "id": "7f9f6633-9ea6-48a6-b0c5-5d9f61f56849",
   "metadata": {},
   "source": [
    "<div class=\"alert alert-block alert-success\">\n",
    "    </b> <font color='black'>Rename residues MLY->LYS and MSE->MET</font></div>"
   ]
  },
  {
   "cell_type": "code",
   "execution_count": null,
   "id": "1c435f55-1cf9-462d-ac93-65fb475e108b",
   "metadata": {},
   "outputs": [],
   "source": [
    "scanRenameResidues scan { { :MLY :LYS } { :MSE :MET } }"
   ]
  },
  {
   "cell_type": "code",
   "execution_count": null,
   "id": "c5764290-de73-4d6a-b307-bef3b3dc9b89",
   "metadata": {},
   "outputs": [],
   "source": [
    "scanAmberCheck scan"
   ]
  },
  {
   "cell_type": "markdown",
   "id": "203f925f-75b1-4eb8-82f8-91174b7ecd22",
   "metadata": {},
   "source": [
    "<div class=\"alert alert-block alert-success\">\n",
    "    </b> <font color='black'>Rename atoms in the MSE residues SE->SD</font></div>"
   ]
  },
  {
   "cell_type": "code",
   "execution_count": null,
   "id": "de106e44-7c47-4f5f-9e89-67b7f16603f5",
   "metadata": {},
   "outputs": [],
   "source": [
    "scanRenameAtoms scan { { :MSE { :SE :SD } } }"
   ]
  },
  {
   "cell_type": "code",
   "execution_count": null,
   "id": "a755037d-db7a-4dfe-b967-a58239ab55bf",
   "metadata": {},
   "outputs": [],
   "source": [
    "scanAmberCheck scan"
   ]
  },
  {
   "cell_type": "markdown",
   "id": "6dcad5a8-0924-40df-860d-bbe29d4f33f0",
   "metadata": {},
   "source": [
    "<div class=\"alert alert-block alert-success\">\n",
    "    </b> <font color='black'>Remove the given atoms from the MLY residue.</font></div>"
   ]
  },
  {
   "cell_type": "code",
   "execution_count": null,
   "id": "6d167402-78b1-403e-bf37-f552791b1882",
   "metadata": {},
   "outputs": [],
   "source": [
    "scanIgnoreAtoms scan { { :MLY { :HH22 :HH21 :HH23 :HH13 :HH12 :HH11 :CH2 :CH1} } }"
   ]
  },
  {
   "cell_type": "markdown",
   "id": "54213465-40af-4815-a4ae-dd502c06b4dc",
   "metadata": {},
   "source": [
    "<div class=\"alert alert-block alert-success\">\n",
    "    </b> <font color='black'>Run a final check</font></div>"
   ]
  },
  {
   "cell_type": "code",
   "execution_count": null,
   "id": "e4b6f464-21cf-403b-ab36-1197585dfa7b",
   "metadata": {},
   "outputs": [],
   "source": [
    "scanAmberCheck scan"
   ]
  },
  {
   "cell_type": "markdown",
   "id": "49e2a30f-2058-4bbd-8c1b-5cf8ac3ab824",
   "metadata": {},
   "source": [
    "<div class=\"alert alert-block alert-info\">\n",
    "    <b>Step 5:</b> We now load in the scan and the fixups we added as an Amber compatible PDB file <font color='black'></font></div>"
   ]
  },
  {
   "cell_type": "code",
   "execution_count": null,
   "id": "089bbf21-89f1-4136-ba63-94b15a79d4a2",
   "metadata": {},
   "outputs": [],
   "source": [
    "complex = loadPdb scan"
   ]
  },
  {
   "cell_type": "markdown",
   "id": "5df825ec-3835-46f8-9b50-3745a4d48398",
   "metadata": {},
   "source": [
    "<div class=\"alert alert-block alert-info\">\n",
    "    <b>Step 6:</b> We can now visualize the protein.<font color='black'></font></div>"
   ]
  },
  {
   "cell_type": "code",
   "execution_count": null,
   "id": "7e458077-df56-44bf-bb82-061244c4656e",
   "metadata": {},
   "outputs": [],
   "source": [
    "show complex"
   ]
  },
  {
   "cell_type": "markdown",
   "id": "7b1362b1-d7e7-4d76-a442-448ed412b0fd",
   "metadata": {},
   "source": [
    "<div class=\"alert alert-block alert-info\">\n",
    "    <b>Step 7:</b> We need to create a box around the protein so that we can run simulations on it<font color='black'></font></div>"
   ]
  },
  {
   "cell_type": "markdown",
   "id": "25be17ae-f867-44e8-ab15-80494cbc0f33",
   "metadata": {},
   "source": [
    "<div class=\"alert alert-block alert-success\">\n",
    "    </b> <font color='black'>Use AlignAxes to translate the geometric center of the protein to the origin and align\n",
    "the principle axes of the ATOMs within the protein along the coordinate axes. This will minimize the box's volume.</font></div>"
   ]
  },
  {
   "cell_type": "code",
   "execution_count": null,
   "id": "4887d915-020f-48a8-8a9f-ce2b5a80b90a",
   "metadata": {},
   "outputs": [],
   "source": [
    "alignAxes complex"
   ]
  },
  {
   "cell_type": "code",
   "execution_count": null,
   "id": "13eb3924-af5f-4542-b647-4270ee65a3da",
   "metadata": {},
   "outputs": [],
   "source": [
    "show complex :axes t"
   ]
  },
  {
   "cell_type": "markdown",
   "id": "901e3720-3249-43cb-8fac-ba8b865f7393",
   "metadata": {},
   "source": [
    "<div class=\"alert alert-block alert-success\">\n",
    "    </b> <font color='black'>The setBox command creates a periodic box around the protien UNIT, turning it into a periodic system for the simulation programs. It does not add any solvent to the system. The choice of \"vdw\" ensures that the box encloses the entirety of all atoms. </font></div>"
   ]
  },
  {
   "cell_type": "code",
   "execution_count": null,
   "id": "28cc1ef0-1417-4570-a60d-6520b2d7db18",
   "metadata": {},
   "outputs": [],
   "source": [
    "setBox complex \"vdw\""
   ]
  },
  {
   "cell_type": "markdown",
   "id": "4277bd29-9a97-4642-96b1-e6debec0a295",
   "metadata": {},
   "source": [
    "<div class=\"alert alert-block alert-success\">\n",
    "    </b> <font color='black'>Move the geometric center of the matter to the origin</font></div>"
   ]
  },
  {
   "cell_type": "code",
   "execution_count": null,
   "id": "d4ca2f01-f347-4ba6-87f7-f8f6ae9a33d5",
   "metadata": {},
   "outputs": [],
   "source": [
    "(chem:geometric-center complex)"
   ]
  },
  {
   "cell_type": "markdown",
   "id": "02c72700-187b-4add-b3af-958b15ffedf0",
   "metadata": {},
   "source": [
    "<div class=\"alert alert-block alert-success\">\n",
    "    </b> <font color='black'>You can now visualize the adjusted complex</font></div>"
   ]
  },
  {
   "cell_type": "code",
   "execution_count": null,
   "id": "2d8e8f54-c268-4627-be79-415f427b84b8",
   "metadata": {},
   "outputs": [],
   "source": [
    "show complex"
   ]
  },
  {
   "cell_type": "markdown",
   "id": "93ce1ded-c701-4528-957c-9be2863ea039",
   "metadata": {},
   "source": [
    "<div class=\"alert alert-block alert-info\">\n",
    "    <b>Step 8:</b>We want to run a simulation where we solvate the protein by adding water to the box.<font color='black'></font></div>"
   ]
  },
  {
   "cell_type": "markdown",
   "id": "e45f3daa-7db4-4e7e-b354-db4f1d933e87",
   "metadata": {},
   "source": [
    "<div class=\"alert alert-block alert-success\">\n",
    "    </b> <font color='black'>The command 'resolvateBox' creates a checkpoint at this stage. Regardless of what else we add to the box after this step we can always return here and reset the box.</font></div>"
   ]
  },
  {
   "cell_type": "markdown",
   "id": "031cb445-a3af-474b-a69b-49fb5d9c18c1",
   "metadata": {},
   "source": [
    "<div class=\"alert alert-block alert-success\">\n",
    "    </b> <font color='black'>TIP3PBOX specifies that the solvent will be water and the numerical value represents the closeness of atoms in Angstroms</font></div>"
   ]
  },
  {
   "cell_type": "code",
   "execution_count": null,
   "id": "feee27b5-d46d-40e4-bbe6-bcb64f0c535b",
   "metadata": {},
   "outputs": [],
   "source": [
    "resolvateBox complex TIP3PBOX 8.0"
   ]
  },
  {
   "cell_type": "markdown",
   "id": "e19879e9-c749-4083-ad9b-a57cb5a96aa8",
   "metadata": {},
   "source": [
    "<div class=\"alert alert-block alert-success\">\n",
    "    </b> <font color='black'>You can now visualize the solvated complex</font></div>"
   ]
  },
  {
   "cell_type": "code",
   "execution_count": null,
   "id": "0141353c-2494-4ac7-9e7a-c3fb30a5967a",
   "metadata": {},
   "outputs": [],
   "source": [
    "show complex"
   ]
  },
  {
   "cell_type": "markdown",
   "id": "5adbc1d5-8467-4878-9a4f-40f9bbfbedf3",
   "metadata": {},
   "source": [
    "<div class=\"alert alert-block alert-info\">\n",
    "    <b>Step 9:</b> After creating a copy of the complex we want to try adding different ions into the box<font color='black'></font></div>"
   ]
  },
  {
   "cell_type": "code",
   "execution_count": null,
   "id": "d18f795f-ab8d-458a-b247-31ecd6af2229",
   "metadata": {},
   "outputs": [],
   "source": [
    "ion-complex = copy complex"
   ]
  },
  {
   "cell_type": "code",
   "execution_count": null,
   "id": "cd3131e5-4246-4b54-8812-a01bcbc1ea41",
   "metadata": {},
   "outputs": [],
   "source": [
    "addIons ion-complex NA 0"
   ]
  },
  {
   "cell_type": "code",
   "execution_count": null,
   "id": "bdf58f77-5f25-4988-a6bd-cebbc906a8e1",
   "metadata": {},
   "outputs": [],
   "source": [
    "addIons ion-complex CL 0"
   ]
  },
  {
   "cell_type": "markdown",
   "id": "6fefa03c-b4ed-4d08-b86e-b385edc9722d",
   "metadata": {},
   "source": [
    "<div class=\"alert alert-block alert-success\">\n",
    "    </b> <font color='black'>You can now visualize the ion-solvated complex</font></div>"
   ]
  },
  {
   "cell_type": "code",
   "execution_count": null,
   "id": "c75e921a-4855-4c1d-b954-390f6066d35a",
   "metadata": {},
   "outputs": [],
   "source": [
    "show ion-complex"
   ]
  },
  {
   "cell_type": "markdown",
   "id": "dcc59d75-f7e3-46fa-a57a-7a2a268a15e4",
   "metadata": {},
   "source": [
    "<div class=\"alert alert-block alert-info\">\n",
    "    <b>Step 9:</b> Save the new AMBER compatible file with all of the simulation parameters<font color='black'></font></div>"
   ]
  },
  {
   "cell_type": "markdown",
   "id": "d1930e95-6f4e-4da7-bbd7-58adbc3a63e4",
   "metadata": {},
   "source": [
    "<div class=\"alert alert-block alert-success\">\n",
    "    </b> <font color='black'>Use saveamberparm to save the AMBER topology and coordinate files for the UNIT into the\n",
    "files named _topologyfilename_ and _coordinatefilename_ respectively. This will save all the parameters of this simulation so that it can be accessed again exactly as it is now.</font></div>"
   ]
  },
  {
   "cell_type": "code",
   "execution_count": null,
   "id": "9cce455c-785b-4786-a574-4ccf3dcdfbf3",
   "metadata": {},
   "outputs": [],
   "source": [
    "saveamberparm ion-complex data/bsla/full_N_bsla_spytag_helix_solv12A.prmtop data/bsla/full_N_bsla_spytag_helix_solv12A.inpcrd"
   ]
  },
  {
   "cell_type": "markdown",
   "id": "9b4a4f7c-82e5-4ae6-8fbd-d814867c01eb",
   "metadata": {},
   "source": [
    "<div class=\"alert alert-block alert-success\">\n",
    "    </b> <font color='black'>Save this ion-complex as a new PDB file</font></div>"
   ]
  },
  {
   "cell_type": "code",
   "execution_count": null,
   "id": "158e067a-11d5-44d0-9d60-6484a4ef103f",
   "metadata": {},
   "outputs": [],
   "source": [
    "savepdb ion-complex data/bsla/full_N_bsla_spytag_helix_solv12A.pdb"
   ]
  },
  {
   "cell_type": "markdown",
   "id": "48533a57-5d52-422b-9546-389ec6fbd567",
   "metadata": {},
   "source": [
    "## All done!"
   ]
  },
  {
   "cell_type": "markdown",
   "id": "256c08de-55dc-4e10-af38-15b1e5d50eda",
   "metadata": {},
   "source": [
    "edited by Ava Dremann 07-13-2022, 07-19-2022"
   ]
  }
 ],
 "metadata": {
  "kernelspec": {
   "display_name": "Cando",
   "language": "cando",
   "name": "cando"
  },
  "language_info": {
   "codemirror_mode": "text/x-common-lisp",
   "file_extension": ".lisp",
   "mimetype": "text/x-common-lisp",
   "name": "common-lisp",
   "pygments_lexer": "common-lisp",
   "version": "eclasp-boehmprecise-1.0.0-407-gd4314a4ec-g140ccf9f-cst"
  }
 },
 "nbformat": 4,
 "nbformat_minor": 5
}
