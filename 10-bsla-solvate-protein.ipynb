{
 "cells": [
  {
   "cell_type": "markdown",
   "id": "8a4aa0aa-5a13-431e-ac7f-51522ed07c22",
   "metadata": {
    "tags": []
   },
   "source": [
    "# Heidi Hendrickson's blsa protein prep_leap_ions workflow"
   ]
  },
  {
   "cell_type": "markdown",
   "id": "6aa75f1b-69e1-4b8e-a562-ebcaf75c0307",
   "metadata": {},
   "source": [
    "### See: https://pubs.acs.org/doi/abs/10.1021/acsbiomaterials.6b00447"
   ]
  },
  {
   "cell_type": "code",
   "execution_count": null,
   "id": "7d8ace90-c079-4d62-ada8-4fce538fe771",
   "metadata": {},
   "outputs": [],
   "source": [
    "(lisp-implementation-version)"
   ]
  },
  {
   "cell_type": "code",
   "execution_count": null,
   "id": "f21a20bd-c628-4ee6-aa3d-9165d7316cd1",
   "metadata": {},
   "outputs": [],
   "source": [
    "setupAmberPaths"
   ]
  },
  {
   "cell_type": "code",
   "execution_count": null,
   "id": "2507d4ea-d101-4e39-b43f-d4adfadd2a58",
   "metadata": {},
   "outputs": [],
   "source": [
    "source \"leaprc.protein.ff14SB\""
   ]
  },
  {
   "cell_type": "code",
   "execution_count": null,
   "id": "723d7d30-f17f-4d95-9750-ad1bbf21812c",
   "metadata": {},
   "outputs": [],
   "source": [
    "source leaprc.water.tip3p"
   ]
  },
  {
   "cell_type": "code",
   "execution_count": null,
   "id": "43f131dc-3895-485f-8bc7-35aadc74551e",
   "metadata": {},
   "outputs": [],
   "source": [
    "source leaprc.gaff"
   ]
  },
  {
   "cell_type": "markdown",
   "id": "2795ab96-c1ee-4a2f-821b-1a2efd50ecf4",
   "metadata": {},
   "source": [
    "I am working on a facility for loading PDB files that allows you to\n",
    "scan the PDB file and it will report problems that prevent the PDB\n",
    "file from being an AMBER compatible PDB file.\n",
    "Then you would provide fixes to the scan that are applied to turn it\n",
    "into an AMBER compatible PDB file."
   ]
  },
  {
   "cell_type": "markdown",
   "id": "51ded63a-da60-44db-bc67-0fbad9ed1fab",
   "metadata": {},
   "source": [
    "scan = scanpdb 4hbu.pdb\n",
    "\n",
    "scanRemoveAllChains scan\n",
    "\n",
    "scanAddChains scan { :C }\n",
    "\n",
    "scanRemoveAtoms scan { {:MLY :CH1 :CH2}}\n",
    "\n",
    "scanRenameAtoms { {:MSE :SE :SD } }\n",
    "\n",
    "scanRenameResidues scan { {:MLY :LYS} {:MSE :MET}}\n",
    "\n",
    ";; Now there are no more problems - load the PDB using the scan\n",
    "complex = scanLoadPdb scan\n",
    "\n",
    ";; Now make more changes to the loaded structure\n",
    "orientZAxis complex ...lots of options...\n",
    "\n",
    ";; addPeptide chainC spytag <extra arguments whole mess of arguments>\n",
    "    \n",
    "savePdb complex align_prep_Nterm_bsla_spytag_helix_pdb4a.fixed.pdb"
   ]
  },
  {
   "cell_type": "markdown",
   "id": "0c0385e4-b821-419f-b14d-581d8e1ba422",
   "metadata": {},
   "source": [
    "## For now we will load a fixed AMBER compatible PDB file."
   ]
  },
  {
   "cell_type": "code",
   "execution_count": null,
   "id": "089bbf21-89f1-4136-ba63-94b15a79d4a2",
   "metadata": {},
   "outputs": [],
   "source": [
    "complex = loadpdb data/bsla/orient_bsla_chainC_mod_pdb4a.pdb"
   ]
  },
  {
   "cell_type": "code",
   "execution_count": null,
   "id": "7e458077-df56-44bf-bb82-061244c4656e",
   "metadata": {},
   "outputs": [],
   "source": [
    "show complex"
   ]
  },
  {
   "cell_type": "code",
   "execution_count": null,
   "id": "6b4a82b1-8b37-46c7-a5f0-55c1bc6cc378",
   "metadata": {},
   "outputs": [],
   "source": [
    "solvated-complex = copy complex"
   ]
  },
  {
   "cell_type": "code",
   "execution_count": null,
   "id": "feee27b5-d46d-40e4-bbe6-bcb64f0c535b",
   "metadata": {},
   "outputs": [],
   "source": [
    "solvatebox solvated-complex TIP3PBOX 12.0"
   ]
  },
  {
   "cell_type": "code",
   "execution_count": null,
   "id": "0141353c-2494-4ac7-9e7a-c3fb30a5967a",
   "metadata": {},
   "outputs": [],
   "source": [
    "show solvated-complex"
   ]
  },
  {
   "cell_type": "code",
   "execution_count": null,
   "id": "bdf58f77-5f25-4988-a6bd-cebbc906a8e1",
   "metadata": {},
   "outputs": [],
   "source": [
    "ion-solvated-complex = copy solvated-complex\n",
    "addIons ion-solvated-complex NA 0\n",
    "addIons ion-solvated-complex CL 0"
   ]
  },
  {
   "cell_type": "code",
   "execution_count": null,
   "id": "9cce455c-785b-4786-a574-4ccf3dcdfbf3",
   "metadata": {},
   "outputs": [],
   "source": [
    "saveamberparm ion-solvated-complex data/bsla/full_N_bsla_spytag_helix_solv12A.prmtop data/bsla/full_N_bsla_spytag_helix_solv12A.inpcrd"
   ]
  },
  {
   "cell_type": "code",
   "execution_count": null,
   "id": "158e067a-11d5-44d0-9d60-6484a4ef103f",
   "metadata": {},
   "outputs": [],
   "source": [
    "savepdb ion-solvated-complex data/bsla/full_N_bsla_spytag_helix_solv12A.pdb"
   ]
  },
  {
   "cell_type": "markdown",
   "id": "48533a57-5d52-422b-9546-389ec6fbd567",
   "metadata": {},
   "source": [
    "## All done"
   ]
  }
 ],
 "metadata": {
  "kernelspec": {
   "display_name": "Cando",
   "language": "cando",
   "name": "cando"
  },
  "language_info": {
   "codemirror_mode": "text/x-common-lisp",
   "file_extension": ".lisp",
   "mimetype": "text/x-common-lisp",
   "name": "common-lisp",
   "pygments_lexer": "common-lisp",
   "version": "cclasp-boehmprecise-1.0.0-284-ge8f9b4608-gb65e1215-cst"
  }
 },
 "nbformat": 4,
 "nbformat_minor": 5
}
