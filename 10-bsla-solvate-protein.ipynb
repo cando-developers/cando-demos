{
 "cells": [
  {
   "cell_type": "markdown",
   "id": "8a4aa0aa-5a13-431e-ac7f-51522ed07c22",
   "metadata": {
    "tags": []
   },
   "source": [
    "# Heidi Hendrickson's blsa protein prep_leap_ions workflow"
   ]
  },
  {
   "cell_type": "markdown",
   "id": "6aa75f1b-69e1-4b8e-a562-ebcaf75c0307",
   "metadata": {},
   "source": [
    "### See: https://pubs.acs.org/doi/abs/10.1021/acsbiomaterials.6b00447"
   ]
  },
  {
   "cell_type": "code",
   "execution_count": null,
   "id": "7d8ace90-c079-4d62-ada8-4fce538fe771",
   "metadata": {},
   "outputs": [],
   "source": [
    "(lisp-implementation-version)"
   ]
  },
  {
   "cell_type": "code",
   "execution_count": null,
   "id": "f21a20bd-c628-4ee6-aa3d-9165d7316cd1",
   "metadata": {},
   "outputs": [],
   "source": [
    "setupAmberPaths"
   ]
  },
  {
   "cell_type": "code",
   "execution_count": null,
   "id": "2507d4ea-d101-4e39-b43f-d4adfadd2a58",
   "metadata": {},
   "outputs": [],
   "source": [
    "source \"leaprc.protein.ff14SB\""
   ]
  },
  {
   "cell_type": "code",
   "execution_count": null,
   "id": "723d7d30-f17f-4d95-9750-ad1bbf21812c",
   "metadata": {},
   "outputs": [],
   "source": [
    "source leaprc.water.tip3p"
   ]
  },
  {
   "cell_type": "code",
   "execution_count": null,
   "id": "43f131dc-3895-485f-8bc7-35aadc74551e",
   "metadata": {},
   "outputs": [],
   "source": [
    "source leaprc.gaff"
   ]
  },
  {
   "cell_type": "markdown",
   "id": "2795ab96-c1ee-4a2f-821b-1a2efd50ecf4",
   "metadata": {},
   "source": [
    "I am working on a facility for loading PDB files that allows you to\n",
    "scan the PDB file and it will report problems that prevent the PDB\n",
    "file from being an AMBER compatible PDB file.\n",
    "Then you would provide fixes to the scan that are applied to turn it\n",
    "into an AMBER compatible PDB file."
   ]
  },
  {
   "cell_type": "markdown",
   "id": "51ded63a-da60-44db-bc67-0fbad9ed1fab",
   "metadata": {},
   "source": [
    "scan = scanpdb 4hbu.pdb\n",
    "\n",
    "scanRemoveAllChains scan\n",
    "\n",
    "scanAddChains scan { :C }\n",
    "\n",
    "scanRemoveAtoms scan { {:MLY :CH1 :CH2}}\n",
    "\n",
    "scanRenameAtoms { {:MSE :SE :SD } }\n",
    "\n",
    "scanRenameResidues scan { {:MLY :LYS} {:MSE :MET}}\n",
    "\n",
    ";; Now there are no more problems - load the PDB using the scan\n",
    "complex = scanLoadPdb scan\n",
    "\n",
    ";; Now make more changes to the loaded structure\n",
    "orientZAxis complex ...lots of options...\n",
    "\n",
    ";; addPeptide chainC spytag <extra arguments whole mess of arguments>\n",
    "    \n",
    "savePdb complex align_prep_Nterm_bsla_spytag_helix_pdb4a.fixed.pdb"
   ]
  },
  {
   "cell_type": "markdown",
   "id": "0c0385e4-b821-419f-b14d-581d8e1ba422",
   "metadata": {},
   "source": [
    "## For now we will load a fixed AMBER compatible PDB file."
   ]
  },
  {
   "cell_type": "markdown",
   "id": "26976ff6-d298-4877-8a6e-22711fd6d23b",
   "metadata": {},
   "source": [
    "<div class=\"alert alert-block alert-info\">\n",
    "    <b> Step 1: </b> <font color='black'>Load in a protien complex via a PDB file </font></div>"
   ]
  },
  {
   "cell_type": "markdown",
   "id": "b4655483-a024-4f58-8b3c-0952cfae5418",
   "metadata": {},
   "source": [
    "##### Use the command *loadpdb* to load in a fixed AMBER compatible pdb file"
   ]
  },
  {
   "cell_type": "code",
   "execution_count": null,
   "id": "089bbf21-89f1-4136-ba63-94b15a79d4a2",
   "metadata": {},
   "outputs": [],
   "source": [
    "complex = loadpdb data/bsla/orient_bsla_chainC_mod_pdb4a.pdb"
   ]
  },
  {
   "cell_type": "markdown",
   "id": "791f6351-7932-43b9-a05c-a26edc33d1de",
   "metadata": {},
   "source": [
    "<div class=\"alert alert-block alert-info\">\n",
    "    <b> Step 2: </b> <font color='black'> Visualize the protien from the file</font></div>"
   ]
  },
  {
   "cell_type": "markdown",
   "id": "4326242a-acf3-443a-9f8b-3c109ffaa714",
   "metadata": {},
   "source": [
    "##### Use the command *show*"
   ]
  },
  {
   "cell_type": "code",
   "execution_count": null,
   "id": "7e458077-df56-44bf-bb82-061244c4656e",
   "metadata": {
    "tags": []
   },
   "outputs": [],
   "source": [
    "show complex"
   ]
  },
  {
   "cell_type": "markdown",
   "id": "680529e5-0ac9-471e-927c-a845c27afa16",
   "metadata": {},
   "source": [
    "<div class=\"alert alert-block alert-info\">\n",
    "    <b> Step 3: </b> <font color='black'> Create a copy of the complex to use in the solvate box </font></div>"
   ]
  },
  {
   "cell_type": "markdown",
   "id": "3609251e-4f70-4bdf-a49e-a6f0212cd398",
   "metadata": {},
   "source": [
    "##### Use the command *copy* to create a copy of the complex"
   ]
  },
  {
   "cell_type": "code",
   "execution_count": null,
   "id": "6b4a82b1-8b37-46c7-a5f0-55c1bc6cc378",
   "metadata": {},
   "outputs": [],
   "source": [
    "solvated-complex = copy complex"
   ]
  },
  {
   "cell_type": "markdown",
   "id": "20a50a1c-5f9d-4254-b673-cb78b79d0d35",
   "metadata": {},
   "source": [
    "<div class=\"alert alert-block alert-info\">\n",
    "    <b> Step 4: </b> <font color='black'> Create a solvate box to contain the complex in a water solvent </font></div>"
   ]
  },
  {
   "cell_type": "markdown",
   "id": "c2dcca15-580d-4de2-ac86-5584a4159924",
   "metadata": {},
   "source": [
    "##### Use command *solvatebox* command to create a rectangular parallelepiped solvent box around the solute unit. "
   ]
  },
  {
   "cell_type": "markdown",
   "id": "928591c1-4285-4c0c-8bb2-05ad5e0e57c5",
   "metadata": {},
   "source": [
    "##### TIP3PBOX is the normal choice for a TIP3 _solvent_ UNIT. It is a snapshot from a room temperature equalibrium water model. "
   ]
  },
  {
   "cell_type": "markdown",
   "id": "62bc08ee-5609-4299-8a91-b4d400448cd4",
   "metadata": {},
   "source": [
    "##### The final arguement is an optional value of closeness. It has the unit Angstroms."
   ]
  },
  {
   "cell_type": "code",
   "execution_count": null,
   "id": "feee27b5-d46d-40e4-bbe6-bcb64f0c535b",
   "metadata": {},
   "outputs": [],
   "source": [
    "solvatebox solvated-complex TIP3PBOX 12.0"
   ]
  },
  {
   "cell_type": "markdown",
   "id": "70a22ccf-13a9-4a38-8fd6-0964ea2dce39",
   "metadata": {},
   "source": [
    "<div class=\"alert alert-block alert-info\">\n",
    "    <b> Step 5: </b> <font color='black'> Visualize the solvated complex it it's water container</font></div>"
   ]
  },
  {
   "cell_type": "markdown",
   "id": "f05a0833-e741-4855-bb7f-4cc6196644fb",
   "metadata": {},
   "source": [
    "##### Use the command *show* to create the image"
   ]
  },
  {
   "cell_type": "code",
   "execution_count": null,
   "id": "0141353c-2494-4ac7-9e7a-c3fb30a5967a",
   "metadata": {
    "tags": []
   },
   "outputs": [],
   "source": [
    "show solvated-complex"
   ]
  },
  {
   "cell_type": "markdown",
   "id": "64fae0c8-5d9a-4968-be64-299374978c10",
   "metadata": {},
   "source": [
    "<div class=\"alert alert-block alert-info\">\n",
    "    <b> Step 6: </b> <font color='black'> Create a copy of the solvated-complex to use in an ion-solvate complex</font></div>"
   ]
  },
  {
   "cell_type": "markdown",
   "id": "fc17baf1-e551-4d61-a4bd-52c95cb9c797",
   "metadata": {},
   "source": [
    "##### Use the command *copy* to create a copy of the solvated-complex. Use the command *addIons* to add select ions for the new solvent."
   ]
  },
  {
   "cell_type": "code",
   "execution_count": null,
   "id": "bdf58f77-5f25-4988-a6bd-cebbc906a8e1",
   "metadata": {},
   "outputs": [],
   "source": [
    "ion-solvated-complex = copy solvated-complex\n",
    "addIons ion-solvated-complex NA 0\n",
    "addIons ion-solvated-complex CL 0"
   ]
  },
  {
   "cell_type": "markdown",
   "id": "8179256f-adec-405a-8bd0-75ed05e1c8ed",
   "metadata": {},
   "source": [
    "<div class=\"alert alert-block alert-info\">\n",
    "    <b> Step 7: </b> <font color='black'>Visualize the ion-solvated complex</font></div>"
   ]
  },
  {
   "cell_type": "markdown",
   "id": "8d57022e-0db8-4a79-95cf-3be5ed28aa84",
   "metadata": {},
   "source": [
    "##### Use the *show* command to create the image"
   ]
  },
  {
   "cell_type": "code",
   "execution_count": null,
   "id": "d8d9a95d-0420-4f5b-9ef2-6ca1264741cc",
   "metadata": {
    "tags": []
   },
   "outputs": [],
   "source": [
    "show ion-solvated-complex"
   ]
  },
  {
   "cell_type": "markdown",
   "id": "927e196c-adb1-4702-a350-78e6c0c1db7c",
   "metadata": {},
   "source": [
    "<div class=\"alert alert-block alert-info\">\n",
    "    <b> Step 8: </b> <font color='black'> Create an energy function</font></div>"
   ]
  },
  {
   "cell_type": "markdown",
   "id": "d07109c5-9b8c-4c66-9e72-b69bcc2b91de",
   "metadata": {},
   "source": [
    "##### Use the command *saveamberparm*"
   ]
  },
  {
   "cell_type": "code",
   "execution_count": null,
   "id": "9cce455c-785b-4786-a574-4ccf3dcdfbf3",
   "metadata": {},
   "outputs": [],
   "source": [
    "saveamberparm ion-solvated-complex data/bsla/full_N_bsla_spytag_helix_solv12A.prmtop data/bsla/full_N_bsla_spytag_helix_solv12A.inpcrd"
   ]
  },
  {
   "cell_type": "markdown",
   "id": "dc75fc3f-03fb-4662-8032-84f9c638662f",
   "metadata": {},
   "source": [
    "<div class=\"alert alert-block alert-info\">\n",
    "    <b> Step 9: </b> <font color='black'> Save your data as a pdb file</font></div>"
   ]
  },
  {
   "cell_type": "markdown",
   "id": "92be84a5-36f5-47e3-bc04-fa0c6f79f560",
   "metadata": {},
   "source": [
    "##### Use the command *savepdb*"
   ]
  },
  {
   "cell_type": "code",
   "execution_count": null,
   "id": "158e067a-11d5-44d0-9d60-6484a4ef103f",
   "metadata": {},
   "outputs": [],
   "source": [
    "savepdb ion-solvated-complex data/bsla/full_N_bsla_spytag_helix_solv12A.pdb"
   ]
  },
  {
   "cell_type": "markdown",
   "id": "48533a57-5d52-422b-9546-389ec6fbd567",
   "metadata": {},
   "source": [
    "## All done!"
   ]
  },
  {
   "cell_type": "markdown",
   "id": "1a8566a2-7a1c-4c63-b059-9eee0a607073",
   "metadata": {},
   "source": [
    "###### edited by Ava Dremann 06-16-2022, 06-17-2022"
   ]
  },
  {
   "cell_type": "code",
   "execution_count": null,
   "id": "d73dc032-957d-45a8-afee-18300d8c8849",
   "metadata": {},
   "outputs": [],
   "source": []
  }
 ],
 "metadata": {
  "kernelspec": {
   "display_name": "Cando",
   "language": "cando",
   "name": "cando"
  },
  "language_info": {
   "codemirror_mode": "text/x-common-lisp",
   "file_extension": ".lisp",
   "mimetype": "text/x-common-lisp",
   "name": "common-lisp",
   "pygments_lexer": "common-lisp",
   "version": "cclasp-boehmprecise-1.0.0-284-ge8f9b4608-gb65e1215-cst"
  }
 },
 "nbformat": 4,
 "nbformat_minor": 5
}
