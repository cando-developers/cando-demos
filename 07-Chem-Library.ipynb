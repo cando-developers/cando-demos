{
 "cells": [
  {
   "cell_type": "markdown",
   "id": "deea0bce-9f87-40ae-a7a6-28452137db2f",
   "metadata": {},
   "source": [
    "# Accessing and Working With the Cando Chemistry Library"
   ]
  },
  {
   "cell_type": "markdown",
   "id": "7799d06c-5ac4-4f36-a935-d1f180ac0365",
   "metadata": {},
   "source": [
    "###### Ava Dremann 06-20-2022"
   ]
  },
  {
   "cell_type": "markdown",
   "id": "5de0857b-f052-4573-9847-50bd4e63d509",
   "metadata": {},
   "source": [
    "## Cando is unique in how it integrates a wide range of chemistry functions and commands. "
   ]
  },
  {
   "cell_type": "markdown",
   "id": "417090e6-3a9d-45dd-87db-cf19bf4067fc",
   "metadata": {},
   "source": [
    "<div class=\"alert alert-block alert-success\">\n",
    "    <strong>The source codes for the chemistry functions can be found in the cando-developers github page at cando/src/lisp/cando/molecules.lisp </strong></div>"
   ]
  },
  {
   "cell_type": "markdown",
   "id": "b3f6fb45-7849-4ed8-92b7-04d2063d8cb6",
   "metadata": {},
   "source": [
    "Click this link for a more direct route: https://github.com/cando-developers/cando/blob/c9791d970f8ba09b340feabdcf98e73105171c72/src/lisp/cando/molecules.lisp#L373"
   ]
  },
  {
   "cell_type": "markdown",
   "id": "f2163eeb-3453-4e92-9f04-387f5e141f9e",
   "metadata": {},
   "source": [
    "<div class=\"alert alert-block alert-success\">\n",
    "    <strong>For help with specific funtions use the command *describe*</strong></div>"
   ]
  },
  {
   "cell_type": "code",
   "execution_count": null,
   "id": "841f4306-5d0f-47c1-a314-872414035356",
   "metadata": {},
   "outputs": [],
   "source": [
    "(describe chem:+stereochemistry-type-converter+)"
   ]
  },
  {
   "cell_type": "markdown",
   "id": "3ff68ebb-6fab-4ccd-bac8-ac053e4ec5f7",
   "metadata": {},
   "source": [
    "<div class=\"alert alert-block alert-success\">\n",
    "    <strong>For ease of access you can hit TAB while writing a line of code to see any function or symbol autofill options</strong></div>"
   ]
  },
  {
   "cell_type": "markdown",
   "id": "11603792-77ba-40fd-98c0-5d75ca9ee326",
   "metadata": {},
   "source": [
    "<div style=\"text-align: center\"><img src=\"autofill.png\" width=400 height=400 align=center /></div>"
   ]
  }
 ],
 "metadata": {
  "kernelspec": {
   "display_name": "Cando",
   "language": "cando",
   "name": "cando"
  },
  "language_info": {
   "codemirror_mode": "text/x-common-lisp",
   "file_extension": ".lisp",
   "mimetype": "text/x-common-lisp",
   "name": "common-lisp",
   "pygments_lexer": "common-lisp",
   "version": "cclasp-boehmprecise-1.0.0-284-ge8f9b4608-gb65e1215-cst"
  }
 },
 "nbformat": 4,
 "nbformat_minor": 5
}
