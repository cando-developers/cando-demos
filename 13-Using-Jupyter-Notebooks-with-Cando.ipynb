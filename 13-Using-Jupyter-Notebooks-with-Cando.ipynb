{
 "cells": [
  {
   "cell_type": "markdown",
   "id": "2e53c538-1c13-4d12-8fd2-840dea7ae251",
   "metadata": {},
   "source": [
    "# Using and Navigating Jupyter-Notebooks with Cando"
   ]
  },
  {
   "cell_type": "markdown",
   "id": "1ca47068-7597-4f46-8ff1-4d6499567637",
   "metadata": {},
   "source": [
    "Ava Dremann 06-20-2022, 07-07-2022, 07-08-2022, 07-22-2022"
   ]
  },
  {
   "cell_type": "markdown",
   "id": "05ad7d15-1638-4209-a7fd-7b31cd292b84",
   "metadata": {},
   "source": [
    "<div class=\"alert alert-block alert-success\">\n",
    "    <strong>Creating or accessing notebooks</strong></div>"
   ]
  },
  {
   "cell_type": "markdown",
   "id": "e99040aa-0cf4-4fb8-ab27-7a22bc8a73df",
   "metadata": {},
   "source": [
    "#### When first launching Jupyter-Notebooks you can select which kernel you'd like to work in and create a new notebook. Or, you can browse existing notebooks (files ending in .ipynb) in your directory."
   ]
  },
  {
   "cell_type": "markdown",
   "id": "222e9c4d-aaca-4128-8f7a-e87bfb483be1",
   "metadata": {},
   "source": [
    "<div style=\"text-align: center\"><img src=\"data/images-for-demos/launcher-window.png\" width=600 height=600 align=center /></div>"
   ]
  },
  {
   "cell_type": "markdown",
   "id": "41bec581-7996-4f4d-89b8-31af0673d100",
   "metadata": {
    "tags": []
   },
   "source": [
    "#### It is important to note that no work can be done in a notebook until the kernel is fully loaded. This will be shown in the upper right hand corner in the window represented by an open circle. When loading it will appear shaded with a lightning bolt. "
   ]
  },
  {
   "cell_type": "markdown",
   "id": "e722686f-faf1-40b3-a993-74ef274461a4",
   "metadata": {},
   "source": [
    "<div style=\"text-align: center\"><img src=\"data/images-for-demos/kernel-loading.png\" width=400 height=400 align=center /></div>"
   ]
  },
  {
   "cell_type": "markdown",
   "id": "89599598-f197-414c-89ae-af73360f6f2e",
   "metadata": {},
   "source": [
    "<div class=\"alert alert-block alert-success\">\n",
    "    <strong>Cells and how to use them</strong></div>"
   ]
  },
  {
   "cell_type": "markdown",
   "id": "14dbe3d8-3951-4a92-9e36-e69280364f5d",
   "metadata": {},
   "source": [
    "#### Each of these boxes are called 'cells' and can be run individually by pressing Shift+Enter or by navigating the 'Run' tab at the top of the screen"
   ]
  },
  {
   "cell_type": "markdown",
   "id": "f25dd3d9-d8bf-46b4-82fe-6802263e88dd",
   "metadata": {},
   "source": [
    "#### When running multiple cells it is important to allow each cell to run fully before moving on to the next. Some functions can take longer than others"
   ]
  },
  {
   "cell_type": "markdown",
   "id": "3038b855-c997-4cd1-8f14-15606a45f526",
   "metadata": {},
   "source": [
    "<div style=\"text-align: center\"><img src=\"data/images-for-demos/cell-loading.png\" width=600 height=600 align=center /></div>"
   ]
  },
  {
   "cell_type": "markdown",
   "id": "360a1077-03eb-4a30-87ff-c23412116e91",
   "metadata": {},
   "source": [
    "#### Cells can contain text such as this via the 'Markdown' format that can be selected here:"
   ]
  },
  {
   "cell_type": "markdown",
   "id": "fc2087a0-f66d-4ed9-a412-36a0df2c571c",
   "metadata": {},
   "source": [
    "<div style=\"text-align: center\"><img src=\"data/images-for-demos/Markdown-selection.png\" width=500 height=500 align=center /></div>"
   ]
  },
  {
   "cell_type": "markdown",
   "id": "94fcea65-dd94-411b-8baf-e80b9b9edad2",
   "metadata": {},
   "source": [
    "#### Cells can also serve as terminals for lines of code. Something useful about Jupyter-Notebooks is that each cell serves as a direct line of communication with your machine. For example, if at any point you need help you can simply ask the machine directly as demonstrated below. "
   ]
  },
  {
   "cell_type": "code",
   "execution_count": null,
   "id": "8176a581-7d9a-4fb9-96e9-43fbb23d1329",
   "metadata": {
    "tags": []
   },
   "outputs": [],
   "source": [
    "help"
   ]
  },
  {
   "cell_type": "markdown",
   "id": "6c1b222a-f3af-4e54-92e5-ec8316067a02",
   "metadata": {},
   "source": [
    "<div class=\"alert alert-block alert-success\">\n",
    "    <strong>Some helpful keyboard shortcuts</strong></div>"
   ]
  },
  {
   "cell_type": "markdown",
   "id": "27baf636-7a0b-43f3-bfee-a4854cdfeedc",
   "metadata": {},
   "source": [
    "<div style=\"text-align: center\"><img src=\"data/images-for-demos/keyboard-shortcuts.png\" width=600 height=600 align=center /></div>"
   ]
  },
  {
   "cell_type": "markdown",
   "id": "e8ffc8a6-e684-401f-ad7e-f85bab52ab80",
   "metadata": {},
   "source": [
    "<div class=\"alert alert-block alert-success\">\n",
    "    <strong>Kernels</strong></div>"
   ]
  },
  {
   "cell_type": "markdown",
   "id": "32bc75a0-f220-40a6-a37a-0cb6aae90a91",
   "metadata": {},
   "source": [
    "#### To see which kernel you're currently working in, look in the upper right hand corner of the window. If you click on it you can view and select from your available options."
   ]
  },
  {
   "cell_type": "markdown",
   "id": "517e362b-6c26-4306-b5b3-46900c2eef22",
   "metadata": {},
   "source": [
    "#### From the left side dashboard, if you select the symbol second from the top as shown below, you can view which files you have open and what kernels you have running. It is smart to not have too many kernels active at one time as that can slow down your system. "
   ]
  },
  {
   "cell_type": "markdown",
   "id": "fc1d4d65-c3db-4bd0-84fa-5fd13ef22629",
   "metadata": {},
   "source": [
    "<div style=\"text-align: center\"><img src=\"data/images-for-demos/kernels.png\" width=300 height=300 align=center /></div>"
   ]
  },
  {
   "cell_type": "markdown",
   "id": "7d2c7d4d-10ad-45ad-acc1-363eb315c8dc",
   "metadata": {},
   "source": [
    "#### You can also view how many kernels you have open from your command line. Using cando as an example, you can input *ps -aux | grep cando* to view how many active cando kernels are running."
   ]
  },
  {
   "cell_type": "markdown",
   "id": "088e7006-7407-4b5b-9899-7fcabdd8455a",
   "metadata": {},
   "source": [
    "#### If you find your system is running slowly, or is struggling to connect to the kernel it is a good idea to check and see if you have too many running and kill any you don't need."
   ]
  },
  {
   "cell_type": "markdown",
   "id": "e5d1a492-6bd3-4c7b-9fd1-2fad836307c4",
   "metadata": {},
   "source": [
    "Below is a screenshot displaying how exactly to kill Cando kernels via the command line. The yellow highlighted information is strictly for making the necessary information most obvious. Your terminal will not appear with these values highlighted."
   ]
  },
  {
   "cell_type": "markdown",
   "id": "9342930c-b727-4276-8ef6-b1221888777c",
   "metadata": {},
   "source": [
    "<div style=\"text-align: center\"><img src=\"data/images-for-demos/killing-kernels.png\" width=500 height=500 align=center /></div>"
   ]
  },
  {
   "cell_type": "markdown",
   "id": "875e1a6e-ad0f-4131-bf67-18e300c0bf04",
   "metadata": {},
   "source": [
    "<div class=\"alert alert-block alert-success\">\n",
    "    <strong>Accessing and Working With the Cando Chemistry Library </strong></div>"
   ]
  },
  {
   "cell_type": "markdown",
   "id": "1c2507e8-78a0-4111-80ce-5eab7e04355d",
   "metadata": {},
   "source": [
    "#### The source codes for the chemistry functions can be found in the cando-developers github page at cando/src/lisp/cando/molecules.lisp "
   ]
  },
  {
   "cell_type": "markdown",
   "id": "984ea6bb-5541-41a7-b0b1-9b0fe99d7b15",
   "metadata": {
    "tags": []
   },
   "source": [
    "Click this link for a more direct route: https://github.com/cando-developers/cando/blob/c9791d970f8ba09b340feabdcf98e73105171c72/src/lisp/cando/molecules.lisp#L373"
   ]
  },
  {
   "cell_type": "markdown",
   "id": "fda30c83-b5c7-41da-ae63-11d8bafca608",
   "metadata": {},
   "source": [
    "#### For help with specific functions use the command *describe*"
   ]
  },
  {
   "cell_type": "code",
   "execution_count": null,
   "id": "42aa9c78-5d03-44d1-9014-abfb0cc863c4",
   "metadata": {},
   "outputs": [],
   "source": [
    "(describe chem:+stereochemistry-type-converter+)"
   ]
  },
  {
   "cell_type": "markdown",
   "id": "80c932fb-79e5-44d5-a422-abac510beeb8",
   "metadata": {},
   "source": [
    "#### For ease of access you can hit TAB while writing a line of code to see any function or symbol autofill options"
   ]
  },
  {
   "cell_type": "markdown",
   "id": "6eaae1a3-bb35-4a14-be01-91a3e4dc68a8",
   "metadata": {},
   "source": [
    "<div style=\"text-align: center\"><img src=\"data/images-for-demos/autofill.png\" width=400 height=400 align=center /></div>"
   ]
  },
  {
   "cell_type": "code",
   "execution_count": null,
   "id": "84dee56f-25da-4838-86c7-c7f44aa32d4c",
   "metadata": {},
   "outputs": [],
   "source": []
  }
 ],
 "metadata": {
  "kernelspec": {
   "display_name": "Cando",
   "language": "cando",
   "name": "cando"
  },
  "language_info": {
   "codemirror_mode": "text/x-common-lisp",
   "file_extension": ".lisp",
   "mimetype": "text/x-common-lisp",
   "name": "common-lisp",
   "pygments_lexer": "common-lisp",
   "version": "eclasp-boehmprecise-1.0.0-408-g9607da658-g82438caa-cst"
  }
 },
 "nbformat": 4,
 "nbformat_minor": 5
}
