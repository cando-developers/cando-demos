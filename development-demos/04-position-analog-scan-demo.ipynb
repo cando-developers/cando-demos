{
 "cells": [
  {
   "cell_type": "markdown",
   "metadata": {},
   "source": [
    "> &#x26a0; To use this notebook select `Run` &#x2192; `Run All Cells` from the main menu.\n",
    "# CANDO &mdash; Computer Aided Nanomaterial Design and Optimization\n",
    "\n",
    "Relevent links:\n",
    "- [CANDO](https://github.com/cando-developers/cando)\n",
    "- [Amber](https://ambermd.org/)\n",
    "- [ThirdLaw Technologies](https://www.thirdlaw.tech/)\n",
    "                                                   \n",
    "## Free energy from a positional analougue scan (FREPAS)\n",
    "\n",
    "This JupyterLab notebook has been designed to aid with the setup of relative free energy of binding calculations using TI from a positional analogue scan. Equilibration and dynamics simulations are carried out in Amber using optimized parameters for GPU calculations. Molecule similarities are computed using a graph theory approach based on LOMAP.\n",
    "\n",
    "References:\n",
    "\n",
    "1. [Liu, S., Wu, Y., Lin, T. *et al*. Lead optimization mapper: automating free energy calculations for lead optimization. J Comput Aided Mol Des **27**, 755–770 (2013).](https://doi.org/10.1007/s10822-013-9678-y)\n",
    "2. [Pennington, L., Aquila, B., Choi, Y., *et al*. Positional Analogue Scanning: An Effective Strategy for Multiparameter Optimization in Drug Design. J Med Chem 2020 63 (17), 8956-8976](https://doi.org/10.1021/acs.jmedchem.9b02092)\n"
   ]
  },
  {
   "cell_type": "markdown",
   "metadata": {},
   "source": [
    "<div class=\"alert alert-block alert-info\">\n",
    "    <b>Step 1:</b> <font color='black'>Create a new TI (Thermodynamic Integration) instance so we can run TI calculations</font></div>"
   ]
  },
  {
   "cell_type": "markdown",
   "metadata": {},
   "source": [
    "For more information on Thermodynamic Integrations visit https://en.wikipedia.org/wiki/Thermodynamic_integration"
   ]
  },
  {
   "cell_type": "code",
   "execution_count": null,
   "metadata": {},
   "outputs": [],
   "source": [
    "(tirun-jupyter:workspace)"
   ]
  },
  {
   "cell_type": "markdown",
   "metadata": {},
   "source": [
    "<div class=\"alert alert-block alert-info\">\n",
    "    <b>Step 2:</b> <font color='black'>Load the receptor molecule</font></div>"
   ]
  },
  {
   "cell_type": "markdown",
   "metadata": {},
   "source": [
    "<div class=\"alert alert-block alert-success\">\n",
    "   <strong> Load the receptor molecule from a PDB file then inspect in with the ngl viewer</strong>\n",
    "</div>"
   ]
  },
  {
   "cell_type": "code",
   "execution_count": null,
   "metadata": {},
   "outputs": [],
   "source": [
    "(tirun-jupyter:load-receptor)"
   ]
  },
  {
   "cell_type": "markdown",
   "metadata": {},
   "source": [
    "<div class=\"alert alert-block alert-info\">\n",
    "    <b>Step 3:</b> <font color='black'>Calculate a positional analogue scan of a set of template ligands\n",
    "   </font></div>"
   ]
  },
  {
   "cell_type": "markdown",
   "metadata": {},
   "source": [
    "<div class=\"alert alert-block alert-success\">\n",
    "   <strong> Load the template ligands from the SDF or MOL2 file. Configure the PAS calculation and run it. Inspect the structure of the resulting ligands</strong>\n",
    "</div>"
   ]
  },
  {
   "cell_type": "code",
   "execution_count": null,
   "metadata": {},
   "outputs": [],
   "source": [
    "(tirun-jupyter:pasrun)"
   ]
  },
  {
   "cell_type": "markdown",
   "metadata": {},
   "source": [
    "<div class=\"alert alert-block alert-info\">\n",
    "    <b>Step 4:</b> <font color='black'>Calculate the optimized map of relative binding free energy calculations\n",
    "   </font></div>"
   ]
  },
  {
   "cell_type": "markdown",
   "metadata": {},
   "source": [
    "<div class=\"alert alert-block alert-success\">\n",
    "   <strong> Calculate the similarities of the selected ligands and make a similarity graph of the results. Note that the nodes correspond to a single molecule from the set. Edges correspond to a similarity between two molecules and the RBFE calculation to be conducted</strong>\n",
    "</div>"
   ]
  },
  {
   "cell_type": "code",
   "execution_count": null,
   "metadata": {},
   "outputs": [],
   "source": [
    "(tirun-jupyter:lomap)"
   ]
  },
  {
   "cell_type": "markdown",
   "metadata": {},
   "source": [
    "<div class=\"alert alert-block alert-info\">\n",
    "    <b>Step 5:</b> <font color='black'>Create the job descriptions\n",
    "   </font></div>"
   ]
  },
  {
   "cell_type": "markdown",
   "metadata": {},
   "source": [
    "<div class=\"alert alert-block alert-success\">\n",
    "   <strong> Configure the simulatio input parameters. Set the job title and the TI stage type. Write the job descriptions and create a tarball of the results.</strong>\n",
    "</div>"
   ]
  },
  {
   "cell_type": "code",
   "execution_count": null,
   "metadata": {},
   "outputs": [],
   "source": [
    "(tirun-jupyter:jobs)"
   ]
  },
  {
   "cell_type": "markdown",
   "metadata": {},
   "source": [
    "edited by Ava Dremann 06-27-2022"
   ]
  },
  {
   "cell_type": "code",
   "execution_count": null,
   "metadata": {},
   "outputs": [],
   "source": []
  }
 ],
 "metadata": {
  "kernelspec": {
   "display_name": "Cando",
   "language": "cando",
   "name": "cando"
  },
  "language_info": {
   "codemirror_mode": "text/x-common-lisp",
   "file_extension": ".lisp",
   "mimetype": "text/x-common-lisp",
   "name": "common-lisp",
   "pygments_lexer": "common-lisp",
   "version": "cclasp-boehmprecise-1.0.0-314-g0148d2efe-g5622c413-cst"
  }
 },
 "nbformat": 4,
 "nbformat_minor": 4
}
