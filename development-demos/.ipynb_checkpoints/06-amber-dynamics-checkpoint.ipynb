{
 "cells": [
  {
   "cell_type": "markdown",
   "metadata": {},
   "source": [
    "## Thermodynamic Integration Walkthrough and Viewing a Trajectory\n",
    "### This demo walks the user through the details of TI calculation setup. At the end we load and visualize an MD trajectory.\n",
    "### A fully automated TI setup is provided in demo 07-thermodynamic-integration-demo.ipynb"
   ]
  },
  {
   "cell_type": "markdown",
   "metadata": {},
   "source": [
    "<div class=\"alert alert-block alert-success\">\n",
    "    <strong>Setup AmberMD paths as given by AMBERHOME. Load required libraries and force-field.</strong>\n",
    "</div>"
   ]
  },
  {
   "cell_type": "code",
   "execution_count": 1,
   "metadata": {},
   "outputs": [
    {
     "data": {
      "text/plain": [
       "(#P\"/opt/amber/dat/antechamber/\" #P\"/opt/amber/dat/leap/cmd/oldff/\"\n",
       " #P\"/opt/amber/dat/leap/cmd/\" #P\"/opt/amber/dat/leap/parm/\"\n",
       " #P\"/opt/amber/dat/leap/lib/\" #P\"/opt/amber/dat/leap/prep/\")"
      ]
     },
     "execution_count": 1,
     "metadata": {},
     "output_type": "execute_result"
    },
    {
     "data": {
      "text/plain": [
       "T"
      ]
     },
     "execution_count": 1,
     "metadata": {},
     "output_type": "execute_result"
    },
    {
     "data": {
      "text/plain": [
       "(QSPCFWBOX SPCFWBOX PL3 TPF TIP4PBOX T4E SPF OPCBOX SPG POL3BOX FB4 DC4 OPC SPC\n",
       " MEOHBOX TIP4PEWBOX TIP5PBOX OP3 FB3 TP5 OPC3BOX NMABOX TP4 SPCBOX FB3BOX\n",
       " TIP3PFBOX FB4BOX TIP3PBOX CHCL3BOX TP3)"
      ]
     },
     "execution_count": 1,
     "metadata": {},
     "output_type": "execute_result"
    },
    {
     "data": {
      "text/plain": [
       "(IOD CO LI CL- CD NH4 ZN SR MN AL CS ER FE CU1 K+ BA GD3 ND HZ+ TL U4+ CE PU F\n",
       " NI PR NA LA LU HE+ CU HG EU CL PD EU3 FE2 RB MG V2+ HF BR YB2 TB PT AG SM TH\n",
       " CR BE Y K TM IN RA CA SN ZR NA+ DY PB H3O+)"
      ]
     },
     "execution_count": 1,
     "metadata": {},
     "output_type": "execute_result"
    },
    {
     "data": {
      "text/plain": [
       "#<FORCE-FIELD ATOMTYPE_GFF.DEF>"
      ]
     },
     "execution_count": 1,
     "metadata": {},
     "output_type": "execute_result"
    },
    {
     "data": {
      "text/plain": [
       "T"
      ]
     },
     "execution_count": 1,
     "metadata": {},
     "output_type": "execute_result"
    },
    {
     "data": {
      "text/plain": [
       "T"
      ]
     },
     "execution_count": 1,
     "metadata": {},
     "output_type": "execute_result"
    },
    {
     "name": "stdout",
     "output_type": "stream",
     "text": [
      "Adding force field frcmod.tip3p to DEFAULT\n",
      "Adding force field frcmod.ions1lm_126_tip3p to DEFAULT\n",
      "Adding force field frcmod.ionsjc_tip3p to DEFAULT\n",
      "Adding force field frcmod.ions234lm_126_tip3p to DEFAULT\n",
      "Warning!  Skipping 10-12 hbond in #<IOSTREAM-STREAM #P\"/opt/amber/dat/leap/parm/parm10.dat\">\n",
      "Warning!  Skipping force field atom equivalences in #<IOSTREAM-STREAM #P\"/opt/amber/dat/leap/parm/parm10.dat\">\n",
      "Adding force field parm10.dat to DEFAULT\n",
      "Adding force field frcmod.ff14SB to DEFAULT\n",
      "Warning!  Skipping 10-12 hbond in #<IOSTREAM-STREAM #P\"/opt/amber/dat/leap/parm/gaff.dat\">\n",
      "Warning!  Skipping force field atom equivalences in #<IOSTREAM-STREAM #P\"/opt/amber/dat/leap/parm/gaff.dat\">\n",
      "Adding force field gaff.dat to DEFAULT\n"
     ]
    }
   ],
   "source": [
    "(setup-amber-paths)\n",
    "(leap:source \"leaprc.water.tip3p\")\n",
    "(leap:load-off \"solvents.lib\")\n",
    "(leap:load-off \"atomic_ions.lib\")\n",
    "(leap:load-atom-type-rules \"ATOMTYPE_GFF.DEF\")\n",
    "(leap:source \"leaprc.ff14SB.redq\")\n",
    "(leap:source \"leaprc.gaff\")"
   ]
  },
  {
   "cell_type": "markdown",
   "metadata": {},
   "source": [
    "<div class=\"alert alert-block alert-success\">\n",
    "    <strong>Set the current directory as the default.</strong>\n",
    "    </div>"
   ]
  },
  {
   "cell_type": "code",
   "execution_count": 2,
   "metadata": {},
   "outputs": [
    {
     "data": {
      "text/plain": [
       "#P\"/Users/yonkunas/Development/cando-demos/\""
      ]
     },
     "execution_count": 2,
     "metadata": {},
     "output_type": "execute_result"
    }
   ],
   "source": [
    "*default-pathname-defaults*"
   ]
  },
  {
   "cell_type": "markdown",
   "metadata": {},
   "source": [
    "<div class=\"alert alert-block alert-success\">\n",
    "    <strong>You can merge directory names to change your working directory as:</strong>\n",
    "    </div>"
   ]
  },
  {
   "cell_type": "code",
   "execution_count": 3,
   "metadata": {},
   "outputs": [
    {
     "data": {
      "text/plain": [
       "#P\"/Users/yonkunas/Development/cando-demos/data/amber-dynamics/\""
      ]
     },
     "execution_count": 3,
     "metadata": {},
     "output_type": "execute_result"
    }
   ],
   "source": [
    "(setf *default-pathname-defaults* (merge-pathnames \"data/amber-dynamics/\" *default-pathname-defaults*))"
   ]
  },
  {
   "cell_type": "markdown",
   "metadata": {},
   "source": [
    "<div class=\"alert alert-block alert-success\">\n",
    "<strong>We already have a prepared receptor/ligand system saved in the above directory, which can be loaded as:</strong>\n",
    "    </div>"
   ]
  },
  {
   "cell_type": "code",
   "execution_count": 4,
   "metadata": {},
   "outputs": [
    {
     "data": {
      "text/plain": [
       "TIRUN::*TIRUNS*"
      ]
     },
     "execution_count": 4,
     "metadata": {},
     "output_type": "execute_result"
    }
   ],
   "source": [
    "(defparameter tirun::*tiruns* (tirun:load-tiruns \"postcharge/postcharge.cando\"))"
   ]
  },
  {
   "cell_type": "markdown",
   "metadata": {},
   "source": [
    "<div class=\"alert alert-block alert-success\">\n",
    "<strong>The \"tirun\" module is capable of loading multiple receoptors. We can set the first receptor as:</strong>\n",
    "    </div>"
   ]
  },
  {
   "cell_type": "code",
   "execution_count": 5,
   "metadata": {},
   "outputs": [
    {
     "data": {
      "text/plain": [
       "TIRUN::*RECEPTOR*"
      ]
     },
     "execution_count": 5,
     "metadata": {},
     "output_type": "execute_result"
    }
   ],
   "source": [
    "(defparameter tirun::*receptor* (first (tirun:receptors tirun::*tiruns*)))"
   ]
  },
  {
   "cell_type": "markdown",
   "metadata": {},
   "source": [
    "<div class=\"alert alert-block alert-success\">\n",
    "    <strong>Tirun needs a global variable called *side-name*. This refers to the \"side\" (e.g.: complex or ligand) of the thermodynamic cycle we are currently looking at. In this case we are loading the \"complex\" side as:</strong>\n",
    "    </div>"
   ]
  },
  {
   "cell_type": "code",
   "execution_count": 6,
   "metadata": {},
   "outputs": [
    {
     "data": {
      "text/plain": [
       "TIRUN::*SIDE-NAME*"
      ]
     },
     "execution_count": 6,
     "metadata": {},
     "output_type": "execute_result"
    }
   ],
   "source": [
    "(defparameter tirun::*side-name* :complex)"
   ]
  },
  {
   "cell_type": "markdown",
   "metadata": {},
   "source": [
    "<div class=\"alert alert-block alert-success\">\n",
    "<strong>A \"morph\" in tirun is the alchemical trasformation being calculated. It can also be thought of as one edge of a TI calculation map. Here we assign a single morph between two ligands as:</strong>\n",
    "    </div>"
   ]
  },
  {
   "cell_type": "code",
   "execution_count": 7,
   "metadata": {},
   "outputs": [
    {
     "data": {
      "text/plain": [
       "TIRUN::*MORPH*"
      ]
     },
     "execution_count": 7,
     "metadata": {},
     "output_type": "execute_result"
    }
   ],
   "source": [
    "(defparameter tirun::*morph* (tirun::find-morph-with-name \"CHEMBL1089056-CHEMBL1088740\" tirun::*tiruns*))"
   ]
  },
  {
   "cell_type": "markdown",
   "metadata": {},
   "source": [
    "<div class=\"alert alert-block alert-success\">\n",
    "<strong>The next two commands setup a \"source\" and \"target\" molecule. This is nesessary for assigning the softcore and linear transformation regions of the AmberMD input files.</strong>\n",
    "    </div>"
   ]
  },
  {
   "cell_type": "code",
   "execution_count": 8,
   "metadata": {},
   "outputs": [
    {
     "data": {
      "text/plain": [
       "TIRUN::*SOURCE*"
      ]
     },
     "execution_count": 8,
     "metadata": {},
     "output_type": "execute_result"
    }
   ],
   "source": [
    "(defparameter tirun::*source* (tirun:source tirun::*morph*))"
   ]
  },
  {
   "cell_type": "code",
   "execution_count": 9,
   "metadata": {},
   "outputs": [
    {
     "data": {
      "text/plain": [
       "TIRUN::*TARGET*"
      ]
     },
     "execution_count": 9,
     "metadata": {},
     "output_type": "execute_result"
    }
   ],
   "source": [
    "(defparameter tirun::*target* (tirun:target tirun::*morph*))"
   ]
  },
  {
   "cell_type": "markdown",
   "metadata": {},
   "source": [
    "<div class=\"alert alert-block alert-success\">\n",
    "<strong>Now we cam create our endpoint or final system by combining the receptor and the target ligand into the global variable *system*</strong>\n",
    "    </div>"
   ]
  },
  {
   "cell_type": "code",
   "execution_count": 10,
   "metadata": {},
   "outputs": [
    {
     "data": {
      "text/plain": [
       "TIRUN::*SYSTEM*"
      ]
     },
     "execution_count": 10,
     "metadata": {},
     "output_type": "execute_result"
    }
   ],
   "source": [
    "(defparameter tirun::*system* (cando:combine (chem:matter-copy (tirun::molecule tirun::*target*))\n",
    "    (chem:matter-copy tirun::*receptor*)))"
   ]
  },
  {
   "cell_type": "markdown",
   "metadata": {},
   "source": [
    "<div class=\"alert alert-block alert-success\">\n",
    "<strong>The next two commands should look farmiliar! These are simply AmberTools Leap commands. Here we setup a solvent box, add ions, and write a mol2, parm, and rst files for our simulations:</strong>\n",
    "    </div>"
   ]
  },
  {
   "cell_type": "code",
   "execution_count": 11,
   "metadata": {},
   "outputs": [
    {
     "name": "stdout",
     "output_type": "stream",
     "text": [
      "Total bounding box for atom centers:   75.73  73.56  91.61\n",
      "There are 21600 solvent molecules and 5948 solute atoms\n",
      "Completed  [**************************************************] ETC: --0.0 seconds\n"
     ]
    },
    {
     "data": {
      "text/plain": [
       "NIL"
      ]
     },
     "execution_count": 11,
     "metadata": {},
     "output_type": "execute_result"
    },
    {
     "data": {
      "text/plain": [
       "NIL"
      ]
     },
     "execution_count": 11,
     "metadata": {},
     "output_type": "execute_result"
    },
    {
     "name": "stdout",
     "output_type": "stream",
     "text": [
      "[SIMPLE-WARNING] This function is a bit broken - every molecule must specify what force-field it will use - leap.core::merged-force-field is incorrect - the force-field has to be looked up from the ion-topology since the ion topology will create single residue in a molecule.  Using :default for now\n",
      "Total charge -0.00\n",
      "[SIMPLE-WARNING] 1st Ion and target aggregate have charges of the same sign - aggregate charge: -0.0020999999999345986; ion charge: -1.0\n",
      "Saving matter to /Users/yonkunas/Development/cando-demos/data/amber-dynamics/complex.mol2\n"
     ]
    }
   ],
   "source": [
    "(leap:solvate-box tirun::*system*\n",
    "                  (leap.core:lookup-variable \n",
    "                   (tirun::solvent-box tirun::*tiruns*))\n",
    "                  (tirun::solvent-buffer tirun::*tiruns*)\n",
    "                  :closeness\n",
    "                  (tirun::solvent-closeness tirun::*tiruns*))\n",
    "(leap.add-ions:add-ions tirun::*system* :|Cl-| 0)\n",
    "(cando:save-mol2 tirun::*system* \"complex.mol2\")"
   ]
  },
  {
   "cell_type": "code",
   "execution_count": 12,
   "metadata": {},
   "outputs": [
    {
     "name": "stdout",
     "output_type": "stream",
     "text": [
      "Constructing energy function\n",
      "Writing to /Users/yonkunas/Development/cando-demos/data/amber-dynamics/complex.parm7\n",
      "Starting prepare-amber-energy-dihedral\n",
      "Ordering i1,i2,i3,i4 prepare-amber-energy-dihedral\n",
      "1-4 interactions prepare-amber-energy-dihedral\n",
      "Counting w and w/o water prepare-amber-energy-dihedral\n",
      "Extracting prepare-amber-energy-dihedral\n",
      "[SIMPLE-WARNING] There should be a short residue name for CHEMBL1088740 - truncating\n",
      "Saving     [*************************************....] ETC:   0.4 secondssolvent_pointers info: iptres nspm nspsol -> T T T\n",
      "Generating SOLVENT_POINTERS\n",
      "Saving     [*******************************************] ETC: --1 seconds\n"
     ]
    },
    {
     "data": {
      "text/plain": [
       "#<ENERGY-FUNCTION >"
      ]
     },
     "execution_count": 12,
     "metadata": {},
     "output_type": "execute_result"
    }
   ],
   "source": [
    "(leap.topology:save-amber-parm-format tirun::*system* \"complex.parm7\" \"complex.rst7\")"
   ]
  },
  {
   "cell_type": "markdown",
   "metadata": {},
   "source": [
    "<div class=\"alert alert-block alert-success\">\n",
    "    <strong>Copy the files we just created into our jobs directory in the data folder:</strong>\n",
    "    </div>"
   ]
  },
  {
   "cell_type": "code",
   "execution_count": 13,
   "metadata": {},
   "outputs": [
    {
     "data": {
      "text/plain": [
       "T"
      ]
     },
     "execution_count": 13,
     "metadata": {},
     "output_type": "execute_result"
    },
    {
     "data": {
      "text/plain": [
       "T"
      ]
     },
     "execution_count": 13,
     "metadata": {},
     "output_type": "execute_result"
    },
    {
     "data": {
      "text/plain": [
       "T"
      ]
     },
     "execution_count": 13,
     "metadata": {},
     "output_type": "execute_result"
    }
   ],
   "source": [
    "(core:copy-file \"complex.parm7\" (ensure-directories-exist \"jobs/complex.parm7\"))\n",
    "(core:copy-file \"complex.rst7\" \"jobs/complex.rst7\")\n",
    "(core:copy-file \"complex.mol2\" \"jobs/complex.mol2\")"
   ]
  },
  {
   "cell_type": "code",
   "execution_count": 14,
   "metadata": {},
   "outputs": [
    {
     "name": "stdout",
     "output_type": "stream",
     "text": [
      "To load \"amber\":\n",
      "  Load 1 ASDF system:\n",
      "    amber\n"
     ]
    },
    {
     "data": {
      "text/plain": [
       "(:AMBER)"
      ]
     },
     "execution_count": 14,
     "metadata": {},
     "output_type": "execute_result"
    },
    {
     "name": "stdout",
     "output_type": "stream",
     "text": [
      "\n",
      "; Loading \"amber\"\n",
      "\n"
     ]
    }
   ],
   "source": [
    "(ql:quickload :amber)"
   ]
  },
  {
   "cell_type": "code",
   "execution_count": null,
   "metadata": {},
   "outputs": [
    {
     "ename": "NO-APPLICABLE-METHOD-ERROR",
     "evalue": "No applicable method for SUBSTITUTIONS with arguments\n (#<AMBER:JOB> #<AMBER::AMBER-SCRIPT-FILE>)",
     "output_type": "error",
     "traceback": []
    },
    {
     "name": "stdout",
     "output_type": "stream",
     "text": [
      "pathname-defaults: #P\"dynamics\"\n",
      "Writing makefile to jobs/makefile\n"
     ]
    },
    {
     "name": "stderr",
     "output_type": "stream",
     "text": [
      "No applicable method for SUBSTITUTIONS with arguments\n",
      " (#<AMBER:JOB> #<AMBER::AMBER-SCRIPT-FILE>)\n",
      "   [Condition of type CLOS:NO-APPLICABLE-METHOD-ERROR]\n",
      "\n",
      "#<DISSECT:ENVIRONMENT>\n",
      "   [Environment of thread #<PROCESS \"SHELL Thread\" @0x1366ddd91 (Running)>]\n",
      "\n",
      "\n",
      "Backtrace:\n",
      " 4: (#<FUNCTION (METHOD NO-APPLICABLE-METHOD (T))> #<STANDARD-GENERIC-FUNCTION AMBER:SUBSTITUTIONS> #<AMBER:JOB> #<AMBER::AMBER-SCRIPT-FILE>)\n",
      " 14: (#<FUNCTION (LAMBDA (&REST CLOS::VASLIST-ARGS))> #<AMBER:JOB> #<AMBER::AMBER-SCRIPT-FILE>)\n",
      " 23: (#<FUNCTION (METHOD AMBER::GENERATE-CODE (AMBER:JOB T T))> #<AMBER:JOB> #<STRING-OUTPUT-STREAM > #<HASH-TABLE-EQL :COUNT 1 :SIZE 16 @0x14ee94470> PATHNAME-DEFAULTS jobs/)\n",
      " 34: (#<FUNCTION (METHOD AMBER::GENERATE-CODE (AMBER:JOB T T))> #<AMBER:JUPYTER-JOB> #<STRING-OUTPUT-STREAM > #<HASH-TABLE-EQL :COUNT 1 :SIZE 16 @0x14ee94470> PATHNAME-DEFAULTS jobs/)\n",
      " 44: (#<FUNCTION AMBER:GENERATE-ALL-CODE> #<AMBER:JUPYTER-JOB> (#<AMBER:NODE-FILE>) PATHNAME-DEFAULTS jobs/)\n",
      " 45: (#<FUNCTION CORE:REPL>)\n",
      " 46: (#<FUNCTION (METHOD CLASP-CLEAVIR::CCLASP-EVAL-WITH-ENV (T T))> (LET* ((TOP complex.parm7) (CRD complex.rst7) (START (SIMPLE-JUPYTER-JOB TOPOLOGY-FILE TOP COORDINATE-FILE CRD)) (MIN (MINIMIZE PREVIOUS-JOB START)) (HEAT (HEAT PREVIOUS-JOB MIN)) (PRESS (PRESSURIZE PREVIOUS-JOB HEAT)) (DYNAMICS (DYNAMICS PREVIOUS-JOB PRESS NSTLIM 100000 NTWX 1000))) (GENERATE-ALL-CODE START (LIST (MDCRD DYNAMICS)) PATHNAME-DEFAULTS jobs/) (DEFPARAMETER *START* START)) NIL)\n",
      " 50: (#<FUNCTION (LABELS CLASP-CLEAVIR::DEFAULT)> (LET* ((TOP complex.parm7) (CRD complex.rst7) (START (SIMPLE-JUPYTER-JOB TOPOLOGY-FILE TOP COORDINATE-FILE CRD)) (MIN (MINIMIZE PREVIOUS-JOB START)) (HEAT (HEAT PREVIOUS-JOB MIN)) (PRESS (PRESSURIZE PREVIOUS-JOB HEAT)) (DYNAMICS (DYNAMICS PREVIOUS-JOB PRESS NSTLIM 100000 NTWX 1000))) (GENERATE-ALL-CODE START (LIST (MDCRD DYNAMICS)) PATHNAME-DEFAULTS jobs/) (DEFPARAMETER *START* START)) NIL)\n",
      " 51: (#<FUNCTION CLASP-CLEAVIR::SIMPLE-EVAL> (LET* ((TOP complex.parm7) (CRD complex.rst7) (START (SIMPLE-JUPYTER-JOB TOPOLOGY-FILE TOP COORDINATE-FILE CRD)) (MIN (MINIMIZE PREVIOUS-JOB START)) (HEAT (HEAT PREVIOUS-JOB MIN)) (PRESS (PRESSURIZE PREVIOUS-JOB HEAT)) (DYNAMICS (DYNAMICS PREVIOUS-JOB PRESS NSTLIM 100000 NTWX 1000))) (GENERATE-ALL-CODE START (LIST (MDCRD DYNAMICS)) PATHNAME-DEFAULTS jobs/) (DEFPARAMETER *START* START)) NIL #<STANDARD-GENERIC-FUNCTION CLASP-CLEAVIR::CCLASP-EVAL-WITH-ENV>)\n",
      " 52: (#<FUNCTION CLASP-CLEAVIR::CCLASP-EVAL> (LET* ((TOP complex.parm7) (CRD complex.rst7) (START (SIMPLE-JUPYTER-JOB TOPOLOGY-FILE TOP COORDINATE-FILE CRD)) (MIN (MINIMIZE PREVIOUS-JOB START)) (HEAT (HEAT PREVIOUS-JOB MIN)) (PRESS (PRESSURIZE PREVIOUS-JOB HEAT)) (DYNAMICS (DYNAMICS PREVIOUS-JOB PRESS NSTLIM 100000 NTWX 1000))) (GENERATE-ALL-CODE START (LIST (MDCRD DYNAMICS)) PATHNAME-DEFAULTS jobs/) (DEFPARAMETER *START* START)) NIL)\n",
      " 54: (#<FUNCTION COMMON-LISP-JUPYTER::MY-EVAL> (LET* ((TOP complex.parm7) (CRD complex.rst7) (START (SIMPLE-JUPYTER-JOB TOPOLOGY-FILE TOP COORDINATE-FILE CRD)) (MIN (MINIMIZE PREVIOUS-JOB START)) (HEAT (HEAT PREVIOUS-JOB MIN)) (PRESS (PRESSURIZE PREVIOUS-JOB HEAT)) (DYNAMICS (DYNAMICS PREVIOUS-JOB PRESS NSTLIM 100000 NTWX 1000))) (GENERATE-ALL-CODE START (LIST (MDCRD DYNAMICS)) PATHNAME-DEFAULTS jobs/) (DEFPARAMETER *START* START)))\n",
      " 55: (#<FUNCTION (METHOD JUPYTER:EVALUATE-CODE (COMMON-LISP-JUPYTER:KERNEL T))> #<CANDO-JUPYTER:KERNEL> (let* ((top #P\"complex.parm7\")\n",
      "           (crd #P\"complex.rst7\")\n",
      "           (start (amber:simple-jupyter-job :topology-file top :coordinate-file crd))\n",
      "           (min (amber:minimize :previous-job start))\n",
      "           (heat (amber:heat :previous-job min))\n",
      "           (press (amber:pressurize :previous-job heat))\n",
      "           (dynamics (amber:dynamics :previous-job press :nstlim 100000 :ntwx 1000)))\n",
      "      (amber:generate-all-code start\n",
      "                               (list (amber:mdcrd dynamics))\n",
      "                               :pathname-defaults #P\"jobs/\")\n",
      "   (defparameter *start* start)))\n",
      " 56: (#<FUNCTION (METHOD JUPYTER:EVALUATE-CODE (CANDO-JUPYTER:KERNEL T))> #<FUNCTION (METHOD EVALUATE-CODE (KERNEL T))> #<CANDO-JUPYTER:KERNEL> (let* ((top #P\"complex.parm7\")\n",
      "           (crd #P\"complex.rst7\")\n",
      "           (start (amber:simple-jupyter-job :topology-file top :coordinate-file crd))\n",
      "           (min (amber:minimize :previous-job start))\n",
      "           (heat (amber:heat :previous-job min))\n",
      "           (press (amber:pressurize :previous-job heat))\n",
      "           (dynamics (amber:dynamics :previous-job press :nstlim 100000 :ntwx 1000)))\n",
      "      (amber:generate-all-code start\n",
      "                               (list (amber:mdcrd dynamics))\n",
      "                               :pathname-defaults #P\"jobs/\")\n",
      "   (defparameter *start* start)))\n",
      " 58: (#<FUNCTION CLOS::EMF-FROM-CONTF.LAMBDA> #<CANDO-JUPYTER:KERNEL> (let* ((top #P\"complex.parm7\")\n",
      "           (crd #P\"complex.rst7\")\n",
      "           (start (amber:simple-jupyter-job :topology-file top :coordinate-file crd))\n",
      "           (min (amber:minimize :previous-job start))\n",
      "           (heat (amber:heat :previous-job min))\n",
      "           (press (amber:pressurize :previous-job heat))\n",
      "           (dynamics (amber:dynamics :previous-job press :nstlim 100000 :ntwx 1000)))\n",
      "      (amber:generate-all-code start\n",
      "                               (list (amber:mdcrd dynamics))\n",
      "                               :pathname-defaults #P\"jobs/\")\n",
      "   (defparameter *start* start)))\n",
      " 62: (#<FUNCTION JUPYTER::HANDLE-EXECUTE-REQUEST> #<CANDO-JUPYTER:KERNEL> #<JUPYTER::MESSAGE>)\n",
      " 63: (#<FUNCTION JUPYTER::HANDLE-SHELL-MESSAGE> #<CANDO-JUPYTER:KERNEL> #<JUPYTER::MESSAGE>)\n",
      " 68: (#<FUNCTION JUPYTER::RUN-SHELL> #<CANDO-JUPYTER:KERNEL>)\n",
      " 69: (#<FUNCTION (LAMBDA NIL)>)\n",
      " 72: (#<FUNCTION (LAMBDA NIL)>)"
     ]
    }
   ],
   "source": [
    "(let* ((top #P\"complex.parm7\")\n",
    "           (crd #P\"complex.rst7\")\n",
    "           (start (amber:simple-jupyter-job :topology-file top :coordinate-file crd))\n",
    "           (min (amber:minimize :previous-job start))\n",
    "           (heat (amber:heat :previous-job min))\n",
    "           (press (amber:pressurize :previous-job heat))\n",
    "           (dynamics (amber:dynamics :previous-job press :nstlim 100000 :ntwx 1000)))\n",
    "      (amber:generate-all-code start\n",
    "                               (list (amber:mdcrd dynamics))\n",
    "                               :pathname-defaults #P\"jobs/\")\n",
    "   (defparameter *start* start))"
   ]
  },
  {
   "cell_type": "markdown",
   "metadata": {},
   "source": [
    "<div class=\"alert alert-block alert-success\">\n",
    "    <strong>Now move the jobs directory into the path so we can load some files:</strong>\n",
    "    </div>"
   ]
  },
  {
   "cell_type": "code",
   "execution_count": null,
   "metadata": {},
   "outputs": [],
   "source": [
    "(setf *default-pathname-defaults* (merge-pathnames \"jobs/\" *default-pathname-defaults*))"
   ]
  },
  {
   "cell_type": "markdown",
   "metadata": {},
   "source": [
    "<div class=\"alert alert-block alert-success\">\n",
    "    <strong>Load the mol2 file:</strong>\n",
    "    </div>"
   ]
  },
  {
   "cell_type": "code",
   "execution_count": null,
   "metadata": {},
   "outputs": [],
   "source": [
    "(defparameter *agg* (load-mol2 \"complex.mol2\"))"
   ]
  },
  {
   "cell_type": "markdown",
   "metadata": {},
   "source": [
    "<div class=\"alert alert-block alert-success\">\n",
    "<strong> Here we use a utility called \"quickclasp\", a library manager that we maintain and is simple to use. We need to use the netcdf and some dependency libraries to read a trajectory in:</strong>\n",
    "    </div>"
   ]
  },
  {
   "cell_type": "code",
   "execution_count": null,
   "metadata": {},
   "outputs": [],
   "source": [
    "(ql:quickload \"netcdf\")"
   ]
  },
  {
   "cell_type": "code",
   "execution_count": null,
   "metadata": {},
   "outputs": [],
   "source": [
    "(ql:quickload :static-vectors)"
   ]
  },
  {
   "cell_type": "code",
   "execution_count": null,
   "metadata": {},
   "outputs": [],
   "source": [
    "(ql:quickload :cando-jupyter)"
   ]
  },
  {
   "cell_type": "markdown",
   "metadata": {},
   "source": [
    "<div class=\"alert alert-block alert-success\">\n",
    "    <strong>Make sure we can read-in the netdf file:</strong>\n",
    "    </div>"
   ]
  },
  {
   "cell_type": "code",
   "execution_count": null,
   "metadata": {},
   "outputs": [],
   "source": [
    "(probe-file \"press.nc\")"
   ]
  },
  {
   "cell_type": "markdown",
   "metadata": {},
   "source": [
    "<div class=\"alert alert-block alert-success\">\n",
    "    <strong>Now load the file, load it into CANDO and prepare for visualization:</strong>\n",
    "    </div>"
   ]
  },
  {
   "cell_type": "code",
   "execution_count": null,
   "metadata": {},
   "outputs": [],
   "source": [
    "(defparameter *n* (netcdf::nc-open (probe-file \"press.nc\") :mode netcdf-cffi:+nowrite+))"
   ]
  },
  {
   "cell_type": "code",
   "execution_count": null,
   "metadata": {},
   "outputs": [],
   "source": [
    "(defparameter *nc* (cando-jupyter:make-amber-netcdf-trajectory :netcdf *n* :matter *agg*))"
   ]
  },
  {
   "cell_type": "code",
   "execution_count": null,
   "metadata": {},
   "outputs": [],
   "source": [
    "(defparameter *v* (cando-jupyter:show *nc*))"
   ]
  },
  {
   "cell_type": "markdown",
   "metadata": {},
   "source": [
    "<div class=\"alert alert-block alert-success\">\n",
    "    <strong>Now view the simulation:</strong>\n",
    "    </div>"
   ]
  },
  {
   "cell_type": "code",
   "execution_count": null,
   "metadata": {},
   "outputs": [],
   "source": [
    "*v*"
   ]
  },
  {
   "cell_type": "markdown",
   "metadata": {},
   "source": [
    "<div class=\"alert alert-block alert-success\">\n",
    "    <strong>Now we can use NGLview (as nglv:) to view only the protein:</strong>\n",
    "    </div>"
   ]
  },
  {
   "cell_type": "code",
   "execution_count": null,
   "metadata": {},
   "outputs": [],
   "source": [
    "(nglv:clear-representations *v*)"
   ]
  },
  {
   "cell_type": "code",
   "execution_count": null,
   "metadata": {},
   "outputs": [],
   "source": [
    "(nglv:add-representation *v* \"ball+stick\" :selection \"protein\")"
   ]
  },
  {
   "cell_type": "code",
   "execution_count": null,
   "metadata": {},
   "outputs": [],
   "source": [
    "(nglv:add-representation *v* \"ribbon\" :selection \"protein\")"
   ]
  },
  {
   "cell_type": "code",
   "execution_count": null,
   "metadata": {},
   "outputs": [],
   "source": []
  }
 ],
 "metadata": {
  "kernelspec": {
   "display_name": "Cando",
   "language": "cando",
   "name": "cando"
  },
  "language_info": {
   "codemirror_mode": "text/x-common-lisp",
   "file_extension": ".lisp",
   "mimetype": "text/x-common-lisp",
   "name": "common-lisp",
   "pygments_lexer": "common-lisp",
   "version": "cclasp-boehm-0.4.2-2955-gbdc09b2fe-cst"
  }
 },
 "nbformat": 4,
 "nbformat_minor": 4
}
