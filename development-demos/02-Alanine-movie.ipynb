{
 "cells": [
  {
   "cell_type": "markdown",
   "metadata": {},
   "source": [
    "# CANDO \n",
    "## Computer Aided Nanomaterial Design and Optimization\n",
    "<ins>[CANDO](https://github.com/cando-developers/cando)</ins>  |  <ins>[Amber](https://ambermd.org/)</ins>  |  <ins>[ThirdLaw Technologies](https://www.thirdlaw.tech/)</ins>\n",
    "                                                   \n",
    "#### Demo 2 - Build an alanine residue, minimize, and view trajectory. <br>\n",
    " - #### This JupyterLab notebook is an introduction to building small molecules using CANDO LEAP.\n",
    " - #### We then show some energy minimization techniques and view a minimization trajectory.\n",
    " \n",
    "<hr style=\"border:1px solid black\"> </hr>"
   ]
  },
  {
   "cell_type": "markdown",
   "metadata": {},
   "source": [
    "<div class=\"alert alert-block alert-info\">\n",
    "    <b>NOTE:</b> <font color='black'> you can always type \"help\" into a cell to see CANDO LEAP commands:</font></div>"
   ]
  },
  {
   "cell_type": "code",
   "execution_count": null,
   "metadata": {},
   "outputs": [],
   "source": [
    "help"
   ]
  },
  {
   "cell_type": "markdown",
   "metadata": {},
   "source": [
    "<div class=\"alert alert-block alert-info\">\n",
    "    <b>Step 1:</b> <font color='black'>Let's setup our Amber environment:</font></div>"
   ]
  },
  {
   "cell_type": "code",
   "execution_count": null,
   "metadata": {},
   "outputs": [],
   "source": [
    "(setup-amber-paths)"
   ]
  },
  {
   "cell_type": "markdown",
   "metadata": {},
   "source": [
    "<div class=\"alert alert-block alert-info\">\n",
    "    <b>Step 2:</b> <font color='black'>JupyterLab can load any .png file. Here is the amino acud Alanine:</font></div>"
   ]
  },
  {
   "cell_type": "code",
   "execution_count": null,
   "metadata": {},
   "outputs": [],
   "source": [
    "(jupyter:png-file \"data/alanine/alanine.png\")"
   ]
  },
  {
   "cell_type": "markdown",
   "metadata": {},
   "source": [
    "<div class=\"alert alert-block alert-info\">\n",
    "    <b>Step 3:</b> <font color='black'>Let's instead load the residue from a saved ChemDraw sketch. We. call the loaded residue an \"aggregate\":</font></div>"
   ]
  },
  {
   "cell_type": "code",
   "execution_count": null,
   "metadata": {},
   "outputs": [],
   "source": [
    "agg = (load-chem-draw-aggregate \"data/alanine/alanine2.cdxml\")"
   ]
  },
  {
   "cell_type": "markdown",
   "metadata": {},
   "source": [
    "<div class=\"alert alert-block alert-info\">\n",
    "    <b>Step 4:</b> <font color='black'>Since we are building from a ChemDraw sketch we need to load an AMBER force-filed, the antechamber rules for automatically assigning AMBER atom types:</font></div>"
   ]
  },
  {
   "cell_type": "code",
   "execution_count": null,
   "metadata": {},
   "outputs": [],
   "source": [
    "(source \"leaprc.protein.ff14SB\")\n",
    "(load-atom-type-rules \"ATOMTYPE_AMBER.DEF\")\n",
    "(load-atom-type-rules \"data/alanine/water_amber.def\")"
   ]
  },
  {
   "cell_type": "markdown",
   "metadata": {},
   "source": [
    "<div class=\"alert alert-block alert-info\">\n",
    "    <b>Step 5:</b> <font color='black'>We need to manually set the stereocenters:</font></div>"
   ]
  },
  {
   "cell_type": "code",
   "execution_count": null,
   "metadata": {},
   "outputs": [],
   "source": [
    "stereocenters = (cando:gather-stereocenters agg)"
   ]
  },
  {
   "cell_type": "code",
   "execution_count": null,
   "metadata": {},
   "outputs": [],
   "source": [
    "(set-stereoisomer-func stereocenters (lambda (c) :R))"
   ]
  },
  {
   "cell_type": "markdown",
   "metadata": {},
   "source": [
    "<div class=\"alert alert-block alert-info\">\n",
    "    <b>Step 6:</b> <font color='black'>Setup an implicit solvent box of 50 A^3:</font></div>"
   ]
  },
  {
   "cell_type": "code",
   "execution_count": null,
   "metadata": {},
   "outputs": [],
   "source": [
    "(chem:set-property agg :solvent-box '(50.0 50.0 50.0))\n",
    "(chem:fill-in-implicit-hydrogens agg)\n",
    "(build-unbuilt-hydrogens agg)"
   ]
  },
  {
   "cell_type": "markdown",
   "metadata": {},
   "source": [
    "<div class=\"alert alert-block alert-info\">\n",
    "    <b>Note:</b> <font color='black'>At this point we still have a planar molecule.  Let's use \"show\" to look at it:</font></div>"
   ]
  },
  {
   "cell_type": "code",
   "execution_count": null,
   "metadata": {},
   "outputs": [],
   "source": [
    "(show agg)"
   ]
  },
  {
   "cell_type": "markdown",
   "metadata": {},
   "source": [
    "<div class=\"alert alert-block alert-info\">\n",
    "    <b>Step 7:</b> <font color='black'>Let's save a mol2 file for later, load the GAFF force-field and \"jostle\" things up a bit. Then minimize our built aggregate Alanine:</font></div>"
   ]
  },
  {
   "cell_type": "code",
   "execution_count": null,
   "metadata": {},
   "outputs": [],
   "source": [
    "(save-mol2 agg \"alanine2.mol2\")\n",
    "(easy-gaff)\n",
    "(jostle agg)\n",
    "(energy:minimize agg)"
   ]
  },
  {
   "cell_type": "markdown",
   "metadata": {},
   "source": [
    "<div class=\"alert alert-block alert-info\">\n",
    "    <b>Step 8:</b> <font color='black'>Use \"show\" to show our minimized alanine:</font></div>"
   ]
  },
  {
   "cell_type": "code",
   "execution_count": null,
   "metadata": {},
   "outputs": [],
   "source": [
    "(show agg)"
   ]
  },
  {
   "cell_type": "markdown",
   "metadata": {},
   "source": [
    "<div class=\"alert alert-block alert-info\">\n",
    "    <b>Step 9:</b> <font color='black'>Now that we have a 3D molecule we can setup: 1) an energy function 2) a minimizer, and 3) a trajectory data structure:</font></div>"
   ]
  },
  {
   "cell_type": "code",
   "execution_count": null,
   "metadata": {},
   "outputs": [],
   "source": [
    "energy = (chem:make-energy-function :matter agg)"
   ]
  },
  {
   "cell_type": "code",
   "execution_count": null,
   "metadata": {},
   "outputs": [],
   "source": [
    "min = (chem:make-minimizer energy)"
   ]
  },
  {
   "cell_type": "code",
   "execution_count": null,
   "metadata": {},
   "outputs": [],
   "source": [
    "traj = (make-instance 'cando-trajectory :matter agg)"
   ]
  },
  {
   "cell_type": "code",
   "execution_count": null,
   "metadata": {},
   "outputs": [],
   "source": [
    "(chem:set-step-callback min (lambda (coords) (let ((arr (make-array (length coords) :element-type 'single-float)))\n",
    "                                                    (loop for idx below (length coords)\n",
    "                                                          do (setf (aref arr idx) (float (aref coords idx) 1s0)))\n",
    "                                                            (nglv:append-coordinates traj arr))))"
   ]
  },
  {
   "cell_type": "markdown",
   "metadata": {},
   "source": [
    "<div class=\"alert alert-block alert-info\">\n",
    "    <b>Step 10:</b> <font color='black'>Run the minimization:</font></div>"
   ]
  },
  {
   "cell_type": "code",
   "execution_count": null,
   "metadata": {},
   "outputs": [],
   "source": [
    "(energy:minimize-minimizer min)"
   ]
  },
  {
   "cell_type": "code",
   "execution_count": null,
   "metadata": {},
   "outputs": [],
   "source": [
    "(show traj)"
   ]
  },
  {
   "cell_type": "code",
   "execution_count": null,
   "metadata": {},
   "outputs": [],
   "source": [
    "(leap.topology:save-amber-parm-format agg \"agg.top\" \"agg.crd\")"
   ]
  },
  {
   "cell_type": "code",
   "execution_count": null,
   "metadata": {},
   "outputs": [],
   "source": [
    "startSwank"
   ]
  },
  {
   "cell_type": "code",
   "execution_count": null,
   "metadata": {},
   "outputs": [],
   "source": []
  }
 ],
 "metadata": {
  "kernelspec": {
   "display_name": "Cando",
   "language": "cando",
   "name": "cando"
  },
  "language_info": {
   "codemirror_mode": "text/x-common-lisp",
   "file_extension": ".lisp",
   "mimetype": "text/x-common-lisp",
   "name": "common-lisp",
   "pygments_lexer": "common-lisp",
   "version": "cclasp-boehmprecise-1.0.0-284-ge8f9b4608-gb65e1215-cst"
  }
 },
 "nbformat": 4,
 "nbformat_minor": 4
}
