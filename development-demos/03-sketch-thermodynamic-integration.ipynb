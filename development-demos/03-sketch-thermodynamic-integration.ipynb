{
 "cells": [
  {
   "cell_type": "markdown",
   "metadata": {},
   "source": [
    "> &#x26a0; To use this notebook select `Run` &#x2192; `Run All Cells` from the main menu.\n",
    "# CANDO &mdash; Computer Aided Nanomaterial Design and Optimization\n",
    "\n",
    "Relevent links:\n",
    "- [CANDO](https://github.com/cando-developers/cando)\n",
    "- [Amber](https://ambermd.org/)\n",
    "- [ThirdLaw Technologies](https://www.thirdlaw.tech/)\n",
    "                                                   \n",
    "## Sketched Thermodynamic Integration (TI)\n",
    "\n",
    "This JupyterLab notebook has been designed to aid with the setup of relative free energy of binding calculations using TI. Equilibration and dynamics simulations are carried out in Amber using optimized parameters for GPU calculations. Molecule similarities are computed using a graph theory approach based on LOMAP.\n",
    "\n",
    "References:\n",
    "\n",
    "1. [Liu, S., Wu, Y., Lin, T. *et al*. Lead optimization mapper: automating free energy calculations for lead optimization. J Comput Aided Mol Des **27**, 755–770 (2013).](https://doi.org/10.1007/s10822-013-9678-y)\n",
    "\n",
    "---\n",
    "\n",
    "> ### Step 1\n",
    "> \n",
    "> Create a new TI workspace so we can run TI calculations. If you do not have your own receptor and ligand files you can\n",
    "> load the workspace named \"demo-06\" instead."
   ]
  },
  {
   "cell_type": "code",
   "execution_count": null,
   "metadata": {},
   "outputs": [],
   "source": [
    "(tirun-jupyter:workspace)"
   ]
  },
  {
   "cell_type": "markdown",
   "metadata": {},
   "source": [
    "> ### Step 2\n",
    "> \n",
    "> Load the the receptor molecule.\n",
    ">\n",
    "> 1. Load the receptor molecule from a PDB file. If you loaded the \"demo-06\" you can skip this step.\n",
    "> 2. Inspect the receptor molecule in a ngl viewer."
   ]
  },
  {
   "cell_type": "code",
   "execution_count": null,
   "metadata": {},
   "outputs": [],
   "source": [
    "(tirun-jupyter:load-receptor)"
   ]
  },
  {
   "cell_type": "markdown",
   "metadata": {},
   "source": [
    "> ### Step 3\n",
    "> \n",
    "> Load the template ligand.\n",
    ">\n",
    "> 1. Load template ligand from a SDF or a MOL2 file. If you loaded the \"demo-06\" you can skip this step.\n",
    "> 2. Inspect the structure of the resulting ligands."
   ]
  },
  {
   "cell_type": "code",
   "execution_count": null,
   "metadata": {},
   "outputs": [],
   "source": [
    "(tirun-jupyter:load-template-ligand)"
   ]
  },
  {
   "cell_type": "markdown",
   "metadata": {},
   "source": [
    "> ### Step 4\n",
    "> \n",
    "> Sketch a set of ligands.\n",
    ">\n",
    "> 1. Sketch the core ligands and secondary structures using the composer. If you loaded the \"demo-06\" you can skip this step.\n",
    "> 2. Parse the resulting ligands.\n",
    "> 3. Inspect the structure of the ligands."
   ]
  },
  {
   "cell_type": "code",
   "execution_count": null,
   "metadata": {},
   "outputs": [],
   "source": [
    "(tirun-jupyter:composer)"
   ]
  },
  {
   "cell_type": "markdown",
   "metadata": {},
   "source": [
    "> ### Step 5\n",
    ">\n",
    "> Select a subset of ligands to perform further calculations on."
   ]
  },
  {
   "cell_type": "code",
   "execution_count": null,
   "metadata": {},
   "outputs": [],
   "source": [
    "(tirun-jupyter:select-ligands)"
   ]
  },
  {
   "cell_type": "markdown",
   "metadata": {},
   "source": [
    "> ### Step 6\n",
    ">\n",
    "> Calculate the optimized map of relative binding free energy calculations\n",
    ">\n",
    "> 1. Calculate the similarities of the selected ligands.\n",
    "> 2. Create a similarity graph of the results.\n",
    ">    - Nodes correspond to a single molecule from the set.\n",
    ">    - Edges correspond to a similarity between the two molecules and the RBFE calculation to be conducted."
   ]
  },
  {
   "cell_type": "code",
   "execution_count": null,
   "metadata": {},
   "outputs": [],
   "source": [
    "(tirun-jupyter:lomap)"
   ]
  },
  {
   "cell_type": "markdown",
   "metadata": {},
   "source": [
    "> ### Step 7\n",
    ">\n",
    "> Create the job descriptions.\n",
    ">\n",
    "> 1. Configure the simulation input parameters.\n",
    "> 2. Set the job title and the TI stage type.\n",
    "> 3. Write the job descriptions and create a tarball of the results."
   ]
  },
  {
   "cell_type": "code",
   "execution_count": null,
   "metadata": {},
   "outputs": [],
   "source": [
    "(tirun-jupyter:jobs)"
   ]
  },
  {
   "cell_type": "code",
   "execution_count": null,
   "metadata": {},
   "outputs": [],
   "source": []
  }
 ],
 "metadata": {
  "kernelspec": {
   "display_name": "cando_dcando",
   "language": "cando",
   "name": "cando_dcando"
  },
  "language_info": {
   "codemirror_mode": "text/x-common-lisp",
   "file_extension": ".lisp",
   "mimetype": "text/x-common-lisp",
   "name": "common-lisp",
   "pygments_lexer": "common-lisp",
   "version": "cclasp-boehmprecise-1.0.0-284-ge8f9b4608-gb65e1215-cst"
  }
 },
 "nbformat": 4,
 "nbformat_minor": 4
}
